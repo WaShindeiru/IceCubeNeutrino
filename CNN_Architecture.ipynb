{
 "metadata": {
  "kernelspec": {
   "language": "python",
   "display_name": "Python 3",
   "name": "python3"
  },
  "language_info": {
   "pygments_lexer": "ipython3",
   "nbconvert_exporter": "python",
   "version": "3.6.4",
   "file_extension": ".py",
   "codemirror_mode": {
    "name": "ipython",
    "version": 3
   },
   "name": "python",
   "mimetype": "text/x-python"
  },
  "colab": {
   "name": "CNN Architecture ",
   "provenance": []
  }
 },
 "nbformat_minor": 0,
 "nbformat": 4,
 "cells": [
  {
   "source": [
    "# IMPORTANT: SOME KAGGLE DATA SOURCES ARE PRIVATE\n",
    "# RUN THIS CELL IN ORDER TO IMPORT YOUR KAGGLE DATA SOURCES.\n",
    "# import kagglehub\n",
    "# kagglehub.login()\n"
   ],
   "metadata": {
    "id": "un15TsxD1ALx",
    "ExecuteTime": {
     "end_time": "2025-06-09T18:33:24.329170Z",
     "start_time": "2025-06-09T18:33:24.327453Z"
    }
   },
   "cell_type": "code",
   "outputs": [],
   "execution_count": 1
  },
  {
   "source": [
    "# IMPORTANT: RUN THIS CELL IN ORDER TO IMPORT YOUR KAGGLE DATA SOURCES,\n",
    "# THEN FEEL FREE TO DELETE THIS CELL.\n",
    "# NOTE: THIS NOTEBOOK ENVIRONMENT DIFFERS FROM KAGGLE'S PYTHON\n",
    "# ENVIRONMENT SO THERE MAY BE MISSING LIBRARIES USED BY YOUR\n",
    "# NOTEBOOK.\n",
    "#\n",
    "# icecube_neutrinos_in_deep_ice_path = kagglehub.competition_download('icecube-neutrinos-in-deep-ice')\n",
    "#\n",
    "# print('Data source import complete.')\n"
   ],
   "metadata": {
    "id": "jbU9V5zK1ALy",
    "ExecuteTime": {
     "end_time": "2025-06-09T18:33:24.464691Z",
     "start_time": "2025-06-09T18:33:24.463283Z"
    }
   },
   "cell_type": "code",
   "outputs": [],
   "execution_count": 2
  },
  {
   "metadata": {},
   "cell_type": "markdown",
   "source": "In this work, I have employed a convolutional neural network architecture for the purpose of training a model. The input data for the network consists of a matrix of dimensions (5160 x 6), which comprises all the sensor readings. Each sensor reading is characterized by six distinct features, namely, x, y, z, time, charge, and auxiliary. These input features are fed into the network during the training process. Additionally, I am currently investigating methods for lossless input translation of coordinates. This [literature](https://arxiv.org/abs/2101.11589) suggests several promising approaches in this regard, which are being explored."
  },
  {
   "cell_type": "code",
   "source": [
    "import os\n",
    "import warnings\n",
    "import math\n",
    "import pandas as pd\n",
    "import matplotlib.pyplot as plt\n",
    "import numpy as np\n",
    "import warnings\n",
    "warnings.filterwarnings(\"ignore\")\n",
    "import gc\n",
    "os.environ['TF_CPP_MIN_LOG_LEVEL'] = '3'\n",
    "warnings.filterwarnings(\"ignore\", category=UserWarning, module='tensorflow')\n",
    "import tensorflow as tf\n",
    "from tqdm import tqdm\n",
    "\n",
    "def angular_dist_score(az_true, zen_true, az_pred, zen_pred):\n",
    "    if not (np.all(np.isfinite(az_true)) and\n",
    "            np.all(np.isfinite(zen_true)) and\n",
    "            np.all(np.isfinite(az_pred)) and\n",
    "            np.all(np.isfinite(zen_pred))):\n",
    "        raise ValueError(\"All arguments must be finite\")\n",
    "    sa1 = np.sin(az_true)\n",
    "    ca1 = np.cos(az_true)\n",
    "    sz1 = np.sin(zen_true)\n",
    "    cz1 = np.cos(zen_true)\n",
    "\n",
    "    sa2 = np.sin(az_pred)\n",
    "    ca2 = np.cos(az_pred)\n",
    "    sz2 = np.sin(zen_pred)\n",
    "    cz2 = np.cos(zen_pred)\n",
    "    scalar_prod = sz1*sz2*(ca1*ca2 + sa1*sa2) + (cz1*cz2)\n",
    "    scalar_prod =  np.clip(scalar_prod, -1, 1)\n",
    "    return np.average(np.abs(np.arccos(scalar_prod)))\n",
    "\n",
    "def convert_to_cartesian(azimuth, zenith):\n",
    "    x = np.sin(zenith) * np.cos(azimuth)\n",
    "    y = np.sin(zenith) * np.sin(azimuth)\n",
    "    z = np.cos(zenith)\n",
    "    return x, y, z\n",
    "\n",
    "def convert_to_polar(x, y, z):\n",
    "    r = math.sqrt(x * x + y * y + z * z)\n",
    "    c = -1 if y < 0 else 1\n",
    "    azimuth = math.acos(x / math.sqrt(x * x + y * y)) * c\n",
    "    zenith = math.acos(z / r)\n",
    "    return azimuth, zenith\n",
    "\n",
    "def adjust_polar(azimuth, zenith):\n",
    "    if azimuth < 0:\n",
    "        azimuth += math.pi * 2\n",
    "    elif zenith < 0:\n",
    "        zenith += math.pi\n",
    "    return azimuth, zenith"
   ],
   "metadata": {
    "id": "P4ZDjXQV1ALy",
    "ExecuteTime": {
     "end_time": "2025-06-09T18:33:27.153012Z",
     "start_time": "2025-06-09T18:33:24.509597Z"
    }
   },
   "outputs": [
    {
     "name": "stderr",
     "output_type": "stream",
     "text": [
      "WARNING: All log messages before absl::InitializeLog() is called are written to STDERR\n",
      "E0000 00:00:1749494005.200051   44373 cuda_dnn.cc:8579] Unable to register cuDNN factory: Attempting to register factory for plugin cuDNN when one has already been registered\n",
      "E0000 00:00:1749494005.203365   44373 cuda_blas.cc:1407] Unable to register cuBLAS factory: Attempting to register factory for plugin cuBLAS when one has already been registered\n",
      "W0000 00:00:1749494005.212169   44373 computation_placer.cc:177] computation placer already registered. Please check linkage and avoid linking the same target more than once.\n",
      "W0000 00:00:1749494005.212180   44373 computation_placer.cc:177] computation placer already registered. Please check linkage and avoid linking the same target more than once.\n",
      "W0000 00:00:1749494005.212181   44373 computation_placer.cc:177] computation placer already registered. Please check linkage and avoid linking the same target more than once.\n",
      "W0000 00:00:1749494005.212182   44373 computation_placer.cc:177] computation placer already registered. Please check linkage and avoid linking the same target more than once.\n"
     ]
    }
   ],
   "execution_count": 3
  },
  {
   "cell_type": "code",
   "source": [
    "path = \"/home/washindeiru/primaryDrive/iceCube/icecube-neutrinos-in-deep-ice\"\n",
    "\n",
    "sensors_df = pd.read_csv(path + \"/sensor_geometry.csv\")\n",
    "x_min, x_max, y_min, y_max, z_min, z_max = sensors_df.x.min(), sensors_df.x.max(), sensors_df.y.min(), sensors_df.y.max(), sensors_df.z.min(), sensors_df.z.max()\n",
    "sensors_df['x'] = (sensors_df['x'] - x_min) / (x_max - x_min)\n",
    "sensors_df['y'] = (sensors_df['y'] - y_min) / (y_max - y_min)\n",
    "sensors_df['z'] = (sensors_df['z'] - z_min) / (z_max - z_min)\n",
    "meta_df = pd.read_parquet(path + '/train_meta.parquet')\n",
    "meta_df[['batch_id', 'event_id', 'first_pulse_index', 'last_pulse_index']] = meta_df[['batch_id', 'event_id', 'first_pulse_index', 'last_pulse_index']].astype(int)\n",
    "meta_df[['azimuth', 'zenith']] = meta_df[['azimuth', 'zenith']].astype(np.float32)\n",
    "\n",
    "df = pd.read_parquet(path + '/train_2/batch_1.parquet')\n",
    "df['auxiliary'] = df['auxiliary'].astype(int)\n"
   ],
   "metadata": {
    "id": "JTJndRnj1ALz",
    "ExecuteTime": {
     "end_time": "2025-06-09T18:33:38.474231Z",
     "start_time": "2025-06-09T18:33:27.159387Z"
    }
   },
   "outputs": [],
   "execution_count": 4
  },
  {
   "cell_type": "code",
   "source": [
    "sample_size = 5000\n",
    "\n",
    "meta_batch_df = meta_df[meta_df.batch_id == 1]\n",
    "meta_batch_df[['target_x', 'target_y', 'target_z']] = meta_batch_df[['azimuth', 'zenith']].apply(lambda x: convert_to_cartesian(x[0], x[1]), axis=1, result_type='expand')\n",
    "\n",
    "matrix_main = np.zeros((sample_size, 5160, 6), dtype=np.float32)\n",
    "target = np.zeros((sample_size, 3))\n",
    "\n",
    "for indx in tqdm(range(0, sample_size, 1)):\n",
    "    _, event_id, first_pulse_index, last_pulse_index, azimuth, zenith, target_x, target_y, target_z = meta_batch_df.iloc[indx].values\n",
    "    df_study = df.iloc[int(first_pulse_index):int(last_pulse_index)].merge(sensors_df, on='sensor_id')\n",
    "    minimum_time = df_study['time'].min()\n",
    "    period = df_study['time'].max() - minimum_time\n",
    "    df_study['time'] = (df_study['time'] - minimum_time) / (period)\n",
    "    df_study.set_index('sensor_id', inplace=True)\n",
    "    matrix = np.zeros((5160, 6))\n",
    "    matrix[df_study.index.values, :] = df_study.values\n",
    "\n",
    "    matrix_main[indx, :, :] = matrix\n",
    "    target[indx, :] = target_x, target_y, target_z\n",
    "\n",
    "del df, meta_df, sensors_df, meta_batch_df, df_study\n",
    "gc.collect()"
   ],
   "metadata": {
    "id": "WCzcHCo31ALz",
    "ExecuteTime": {
     "end_time": "2025-06-09T18:33:46.951003Z",
     "start_time": "2025-06-09T18:33:38.502496Z"
    }
   },
   "outputs": [
    {
     "name": "stderr",
     "output_type": "stream",
     "text": [
      "100%|██████████| 5000/5000 [00:04<00:00, 1052.10it/s]\n"
     ]
    },
    {
     "data": {
      "text/plain": [
       "0"
      ]
     },
     "execution_count": 5,
     "metadata": {},
     "output_type": "execute_result"
    }
   ],
   "execution_count": 5
  },
  {
   "cell_type": "code",
   "source": [
    "train_p, validation_p = 0.92, 0.05\n",
    "\n",
    "matrix_train = matrix_main[:int(sample_size * train_p), :, :]\n",
    "target_train = target[:int(sample_size * train_p), :]\n",
    "\n",
    "matrix_validation = matrix_main[int(sample_size * train_p):int(sample_size * (train_p + validation_p)), :, :]\n",
    "target_validation = target[int(sample_size * train_p):int(sample_size * (train_p + validation_p)), :]\n",
    "\n",
    "matrix_test = matrix_main[int(sample_size * (train_p + validation_p)):, :, :]\n",
    "target_test = target[int(sample_size * (train_p + validation_p)):, :]\n",
    "\n",
    "matrix_train.shape, target_train.shape, matrix_validation.shape, target_validation.shape, matrix_test.shape, target_test.shape"
   ],
   "metadata": {
    "id": "v6wTMH6U1AL0",
    "ExecuteTime": {
     "end_time": "2025-06-09T18:33:46.963811Z",
     "start_time": "2025-06-09T18:33:46.961156Z"
    }
   },
   "outputs": [
    {
     "data": {
      "text/plain": [
       "((4600, 5160, 6),\n",
       " (4600, 3),\n",
       " (250, 5160, 6),\n",
       " (250, 3),\n",
       " (150, 5160, 6),\n",
       " (150, 3))"
      ]
     },
     "execution_count": 6,
     "metadata": {},
     "output_type": "execute_result"
    }
   ],
   "execution_count": 6
  },
  {
   "cell_type": "code",
   "source": [
    "tf.keras.backend.clear_session()\n",
    "model = tf.keras.models.Sequential([\n",
    "    tf.keras.layers.Conv2D(128, (516, 6), activation='relu', input_shape=(5160, 6, 1)),\n",
    "    tf.keras.layers.MaxPooling2D((2, 1)),\n",
    "    tf.keras.layers.Flatten(),\n",
    "    tf.keras.layers.Dense(128, activation='relu'),\n",
    "    tf.keras.layers.Dense(64, activation='relu'),\n",
    "    tf.keras.layers.Dense(3, activation='linear')\n",
    "])\n",
    "\n",
    "\n",
    "model.compile(optimizer='adam', loss='mse', metrics=['mae'])\n",
    "early_stopping = tf.keras.callbacks.EarlyStopping(monitor='val_loss', patience=3, restore_best_weights=True)"
   ],
   "metadata": {
    "id": "PeUwMkYu1AL0",
    "ExecuteTime": {
     "end_time": "2025-06-09T18:33:47.821669Z",
     "start_time": "2025-06-09T18:33:47.019078Z"
    }
   },
   "outputs": [
    {
     "name": "stderr",
     "output_type": "stream",
     "text": [
      "I0000 00:00:1749494027.316961   44373 gpu_device.cc:2019] Created device /job:localhost/replica:0/task:0/device:GPU:0 with 5505 MB memory:  -> device: 0, name: NVIDIA GeForce RTX 3060 Ti, pci bus id: 0000:01:00.0, compute capability: 8.6\n"
     ]
    }
   ],
   "execution_count": 7
  },
  {
   "metadata": {
    "ExecuteTime": {
     "end_time": "2025-06-09T18:34:17.624109Z",
     "start_time": "2025-06-09T18:33:47.838509Z"
    }
   },
   "cell_type": "code",
   "source": [
    "batch_size = 16\n",
    "model.fit(matrix_train, target_train, epochs=3, batch_size=batch_size, validation_data=(matrix_validation, target_validation), callbacks=[early_stopping])"
   ],
   "outputs": [
    {
     "name": "stdout",
     "output_type": "stream",
     "text": [
      "Epoch 1/3\n"
     ]
    },
    {
     "name": "stderr",
     "output_type": "stream",
     "text": [
      "WARNING: All log messages before absl::InitializeLog() is called are written to STDERR\n",
      "I0000 00:00:1749494028.998847   44752 service.cc:152] XLA service 0x72b15801d970 initialized for platform CUDA (this does not guarantee that XLA will be used). Devices:\n",
      "I0000 00:00:1749494028.998863   44752 service.cc:160]   StreamExecutor device (0): NVIDIA GeForce RTX 3060 Ti, Compute Capability 8.6\n",
      "I0000 00:00:1749494029.126089   44752 cuda_dnn.cc:529] Loaded cuDNN version 90701\n"
     ]
    },
    {
     "name": "stdout",
     "output_type": "stream",
     "text": [
      "\u001B[1m  7/288\u001B[0m \u001B[37m━━━━━━━━━━━━━━━━━━━━\u001B[0m \u001B[1m6s\u001B[0m 23ms/step - loss: 1.3880 - mae: 0.7819"
     ]
    },
    {
     "name": "stderr",
     "output_type": "stream",
     "text": [
      "I0000 00:00:1749494032.772222   44752 device_compiler.h:188] Compiled cluster using XLA!  This line is logged at most once for the lifetime of the process.\n"
     ]
    },
    {
     "name": "stdout",
     "output_type": "stream",
     "text": [
      "\u001B[1m288/288\u001B[0m \u001B[32m━━━━━━━━━━━━━━━━━━━━\u001B[0m\u001B[37m\u001B[0m \u001B[1m15s\u001B[0m 35ms/step - loss: 0.4172 - mae: 0.5216 - val_loss: 0.3330 - val_mae: 0.4961\n",
      "Epoch 2/3\n",
      "\u001B[1m288/288\u001B[0m \u001B[32m━━━━━━━━━━━━━━━━━━━━\u001B[0m\u001B[37m\u001B[0m \u001B[1m7s\u001B[0m 24ms/step - loss: 0.3331 - mae: 0.4983 - val_loss: 0.3329 - val_mae: 0.4962\n",
      "Epoch 3/3\n",
      "\u001B[1m288/288\u001B[0m \u001B[32m━━━━━━━━━━━━━━━━━━━━\u001B[0m\u001B[37m\u001B[0m \u001B[1m8s\u001B[0m 27ms/step - loss: 0.3330 - mae: 0.4995 - val_loss: 0.3326 - val_mae: 0.4959\n"
     ]
    },
    {
     "data": {
      "text/plain": [
       "<keras.src.callbacks.history.History at 0x72b2f59cb830>"
      ]
     },
     "execution_count": 8,
     "metadata": {},
     "output_type": "execute_result"
    }
   ],
   "execution_count": 8
  },
  {
   "cell_type": "code",
   "source": [
    "plt.plot(model.history.history['loss'], label='train')\n",
    "plt.plot(model.history.history['val_loss'], label='validation')\n",
    "plt.legend()\n",
    "plt.show()"
   ],
   "metadata": {
    "id": "ZsJwdQ4k1AL0",
    "ExecuteTime": {
     "end_time": "2025-06-09T18:34:17.717151Z",
     "start_time": "2025-06-09T18:34:17.642507Z"
    }
   },
   "outputs": [
    {
     "data": {
      "text/plain": [
       "<Figure size 640x480 with 1 Axes>"
      ],
      "image/png": "[encoded data removed]"
     },
     "metadata": {},
     "output_type": "display_data"
    }
   ],
   "execution_count": 9
  },
  {
   "cell_type": "code",
   "source": [
    "pred = model.predict(matrix_test)\n",
    "pred_polar = np.array([convert_to_polar(x, y, z) for x, y, z in pred])\n",
    "target_test_polar = np.array([convert_to_polar(x, y, z) for x, y, z in target_test])\n",
    "\n",
    "az_true, zen_true = target_test_polar[:, 0], target_test_polar[:, 1]\n",
    "az_pred, zen_pred = pred_polar[:, 0], pred_polar[:, 1]"
   ],
   "metadata": {
    "id": "-O4aGY7P1AL1",
    "ExecuteTime": {
     "end_time": "2025-06-09T18:34:20.835901Z",
     "start_time": "2025-06-09T18:34:17.734528Z"
    }
   },
   "outputs": [
    {
     "name": "stdout",
     "output_type": "stream",
     "text": [
      "\u001B[1m5/5\u001B[0m \u001B[32m━━━━━━━━━━━━━━━━━━━━\u001B[0m\u001B[37m\u001B[0m \u001B[1m3s\u001B[0m 339ms/step\n"
     ]
    }
   ],
   "execution_count": 10
  },
  {
   "cell_type": "code",
   "source": [
    "angular_dist_score(az_true, zen_true, az_pred, zen_pred)"
   ],
   "metadata": {
    "id": "2UqT7tmi1AL1",
    "ExecuteTime": {
     "end_time": "2025-06-09T18:34:20.858931Z",
     "start_time": "2025-06-09T18:34:20.856781Z"
    }
   },
   "outputs": [
    {
     "data": {
      "text/plain": [
       "np.float64(1.5218011114534433)"
      ]
     },
     "execution_count": 11,
     "metadata": {},
     "output_type": "execute_result"
    }
   ],
   "execution_count": 11
  }
 ]
}
