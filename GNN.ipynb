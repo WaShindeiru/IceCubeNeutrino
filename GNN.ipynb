{
  "metadata": {
    "kernelspec": {
      "display_name": "Python 3",
      "name": "python3"
    },
    "language_info": {
      "pygments_lexer": "ipython3",
      "nbconvert_exporter": "python",
      "version": "3.6.4",
      "file_extension": ".py",
      "codemirror_mode": {
        "name": "ipython",
        "version": 3
      },
      "name": "python",
      "mimetype": "text/x-python"
    },
    "colab": {
      "name": "Make your own  GNN",
      "provenance": [],
      "gpuType": "T4"
    },
    "accelerator": "GPU",
    "widgets": {
      "application/vnd.jupyter.widget-state+json": {
        "99f392cad18f4dc9a35aa650f51b8146": {
          "model_module": "@jupyter-widgets/controls",
          "model_name": "VBoxModel",
          "model_module_version": "1.5.0",
          "state": {
            "_dom_classes": [],
            "_model_module": "@jupyter-widgets/controls",
            "_model_module_version": "1.5.0",
            "_model_name": "VBoxModel",
            "_view_count": null,
            "_view_module": "@jupyter-widgets/controls",
            "_view_module_version": "1.5.0",
            "_view_name": "VBoxView",
            "box_style": "",
            "children": [
              "IPY_MODEL_d6eb242c7b8a4693be589578a47cef6d"
            ],
            "layout": "IPY_MODEL_2b82524780774e6ebf6097528d899fe6"
          }
        },
        "8edd0fbadbd1475b9897f1905161d306": {
          "model_module": "@jupyter-widgets/controls",
          "model_name": "HTMLModel",
          "model_module_version": "1.5.0",
          "state": {
            "_dom_classes": [],
            "_model_module": "@jupyter-widgets/controls",
            "_model_module_version": "1.5.0",
            "_model_name": "HTMLModel",
            "_view_count": null,
            "_view_module": "@jupyter-widgets/controls",
            "_view_module_version": "1.5.0",
            "_view_name": "HTMLView",
            "description": "",
            "description_tooltip": null,
            "layout": "IPY_MODEL_b0d6408b3fec462089d8e6d931dae42c",
            "placeholder": "​",
            "style": "IPY_MODEL_06291f0bc3434fe487dbe786ac5400e3",
            "value": "<center> <img\nsrc=https://www.kaggle.com/static/images/site-logo.png\nalt='Kaggle'> <br> Create an API token from <a\nhref=\"https://www.kaggle.com/settings/account\" target=\"_blank\">your Kaggle\nsettings page</a> and paste it below along with your Kaggle username. <br> </center>"
          }
        },
        "05b185b3ca5440c5b7bf9cd5d7c49287": {
          "model_module": "@jupyter-widgets/controls",
          "model_name": "TextModel",
          "model_module_version": "1.5.0",
          "state": {
            "_dom_classes": [],
            "_model_module": "@jupyter-widgets/controls",
            "_model_module_version": "1.5.0",
            "_model_name": "TextModel",
            "_view_count": null,
            "_view_module": "@jupyter-widgets/controls",
            "_view_module_version": "1.5.0",
            "_view_name": "TextView",
            "continuous_update": true,
            "description": "Username:",
            "description_tooltip": null,
            "disabled": false,
            "layout": "IPY_MODEL_7640868da38d432b88e46b2c3484a4c6",
            "placeholder": "​",
            "style": "IPY_MODEL_abdf1dae11304bc494f965cc6c203414",
            "value": "heatlessfire"
          }
        },
        "01e74e5194b142ec93bc6546d1e89d7e": {
          "model_module": "@jupyter-widgets/controls",
          "model_name": "PasswordModel",
          "model_module_version": "1.5.0",
          "state": {
            "_dom_classes": [],
            "_model_module": "@jupyter-widgets/controls",
            "_model_module_version": "1.5.0",
            "_model_name": "PasswordModel",
            "_view_count": null,
            "_view_module": "@jupyter-widgets/controls",
            "_view_module_version": "1.5.0",
            "_view_name": "PasswordView",
            "continuous_update": true,
            "description": "Token:",
            "description_tooltip": null,
            "disabled": false,
            "layout": "IPY_MODEL_f15e2b2872b74224a911e974dd6f0641",
            "placeholder": "​",
            "style": "IPY_MODEL_42f700484d774db4b3f2dae0a1417909",
            "value": ""
          }
        },
        "cce557343729403f848ad02876d3171b": {
          "model_module": "@jupyter-widgets/controls",
          "model_name": "ButtonModel",
          "model_module_version": "1.5.0",
          "state": {
            "_dom_classes": [],
            "_model_module": "@jupyter-widgets/controls",
            "_model_module_version": "1.5.0",
            "_model_name": "ButtonModel",
            "_view_count": null,
            "_view_module": "@jupyter-widgets/controls",
            "_view_module_version": "1.5.0",
            "_view_name": "ButtonView",
            "button_style": "",
            "description": "Login",
            "disabled": false,
            "icon": "",
            "layout": "IPY_MODEL_5fe1219fb41d464fb1f246a71d753601",
            "style": "IPY_MODEL_bd30628f96074e17a211cf44961b5144",
            "tooltip": ""
          }
        },
        "88f4bd33f63748009c7804bc55097533": {
          "model_module": "@jupyter-widgets/controls",
          "model_name": "HTMLModel",
          "model_module_version": "1.5.0",
          "state": {
            "_dom_classes": [],
            "_model_module": "@jupyter-widgets/controls",
            "_model_module_version": "1.5.0",
            "_model_name": "HTMLModel",
            "_view_count": null,
            "_view_module": "@jupyter-widgets/controls",
            "_view_module_version": "1.5.0",
            "_view_name": "HTMLView",
            "description": "",
            "description_tooltip": null,
            "layout": "IPY_MODEL_9a7475ea475d4c1ca7b8df6598db096f",
            "placeholder": "​",
            "style": "IPY_MODEL_7c7ec2de94f342c1a4792b2952edef45",
            "value": "\n<b>Thank You</b></center>"
          }
        },
        "2b82524780774e6ebf6097528d899fe6": {
          "model_module": "@jupyter-widgets/base",
          "model_name": "LayoutModel",
          "model_module_version": "1.2.0",
          "state": {
            "_model_module": "@jupyter-widgets/base",
            "_model_module_version": "1.2.0",
            "_model_name": "LayoutModel",
            "_view_count": null,
            "_view_module": "@jupyter-widgets/base",
            "_view_module_version": "1.2.0",
            "_view_name": "LayoutView",
            "align_content": null,
            "align_items": "center",
            "align_self": null,
            "border": null,
            "bottom": null,
            "display": "flex",
            "flex": null,
            "flex_flow": "column",
            "grid_area": null,
            "grid_auto_columns": null,
            "grid_auto_flow": null,
            "grid_auto_rows": null,
            "grid_column": null,
            "grid_gap": null,
            "grid_row": null,
            "grid_template_areas": null,
            "grid_template_columns": null,
            "grid_template_rows": null,
            "height": null,
            "justify_content": null,
            "justify_items": null,
            "left": null,
            "margin": null,
            "max_height": null,
            "max_width": null,
            "min_height": null,
            "min_width": null,
            "object_fit": null,
            "object_position": null,
            "order": null,
            "overflow": null,
            "overflow_x": null,
            "overflow_y": null,
            "padding": null,
            "right": null,
            "top": null,
            "visibility": null,
            "width": "50%"
          }
        },
        "b0d6408b3fec462089d8e6d931dae42c": {
          "model_module": "@jupyter-widgets/base",
          "model_name": "LayoutModel",
          "model_module_version": "1.2.0",
          "state": {
            "_model_module": "@jupyter-widgets/base",
            "_model_module_version": "1.2.0",
            "_model_name": "LayoutModel",
            "_view_count": null,
            "_view_module": "@jupyter-widgets/base",
            "_view_module_version": "1.2.0",
            "_view_name": "LayoutView",
            "align_content": null,
            "align_items": null,
            "align_self": null,
            "border": null,
            "bottom": null,
            "display": null,
            "flex": null,
            "flex_flow": null,
            "grid_area": null,
            "grid_auto_columns": null,
            "grid_auto_flow": null,
            "grid_auto_rows": null,
            "grid_column": null,
            "grid_gap": null,
            "grid_row": null,
            "grid_template_areas": null,
            "grid_template_columns": null,
            "grid_template_rows": null,
            "height": null,
            "justify_content": null,
            "justify_items": null,
            "left": null,
            "margin": null,
            "max_height": null,
            "max_width": null,
            "min_height": null,
            "min_width": null,
            "object_fit": null,
            "object_position": null,
            "order": null,
            "overflow": null,
            "overflow_x": null,
            "overflow_y": null,
            "padding": null,
            "right": null,
            "top": null,
            "visibility": null,
            "width": null
          }
        },
        "06291f0bc3434fe487dbe786ac5400e3": {
          "model_module": "@jupyter-widgets/controls",
          "model_name": "DescriptionStyleModel",
          "model_module_version": "1.5.0",
          "state": {
            "_model_module": "@jupyter-widgets/controls",
            "_model_module_version": "1.5.0",
            "_model_name": "DescriptionStyleModel",
            "_view_count": null,
            "_view_module": "@jupyter-widgets/base",
            "_view_module_version": "1.2.0",
            "_view_name": "StyleView",
            "description_width": ""
          }
        },
        "7640868da38d432b88e46b2c3484a4c6": {
          "model_module": "@jupyter-widgets/base",
          "model_name": "LayoutModel",
          "model_module_version": "1.2.0",
          "state": {
            "_model_module": "@jupyter-widgets/base",
            "_model_module_version": "1.2.0",
            "_model_name": "LayoutModel",
            "_view_count": null,
            "_view_module": "@jupyter-widgets/base",
            "_view_module_version": "1.2.0",
            "_view_name": "LayoutView",
            "align_content": null,
            "align_items": null,
            "align_self": null,
            "border": null,
            "bottom": null,
            "display": null,
            "flex": null,
            "flex_flow": null,
            "grid_area": null,
            "grid_auto_columns": null,
            "grid_auto_flow": null,
            "grid_auto_rows": null,
            "grid_column": null,
            "grid_gap": null,
            "grid_row": null,
            "grid_template_areas": null,
            "grid_template_columns": null,
            "grid_template_rows": null,
            "height": null,
            "justify_content": null,
            "justify_items": null,
            "left": null,
            "margin": null,
            "max_height": null,
            "max_width": null,
            "min_height": null,
            "min_width": null,
            "object_fit": null,
            "object_position": null,
            "order": null,
            "overflow": null,
            "overflow_x": null,
            "overflow_y": null,
            "padding": null,
            "right": null,
            "top": null,
            "visibility": null,
            "width": null
          }
        },
        "abdf1dae11304bc494f965cc6c203414": {
          "model_module": "@jupyter-widgets/controls",
          "model_name": "DescriptionStyleModel",
          "model_module_version": "1.5.0",
          "state": {
            "_model_module": "@jupyter-widgets/controls",
            "_model_module_version": "1.5.0",
            "_model_name": "DescriptionStyleModel",
            "_view_count": null,
            "_view_module": "@jupyter-widgets/base",
            "_view_module_version": "1.2.0",
            "_view_name": "StyleView",
            "description_width": ""
          }
        },
        "f15e2b2872b74224a911e974dd6f0641": {
          "model_module": "@jupyter-widgets/base",
          "model_name": "LayoutModel",
          "model_module_version": "1.2.0",
          "state": {
            "_model_module": "@jupyter-widgets/base",
            "_model_module_version": "1.2.0",
            "_model_name": "LayoutModel",
            "_view_count": null,
            "_view_module": "@jupyter-widgets/base",
            "_view_module_version": "1.2.0",
            "_view_name": "LayoutView",
            "align_content": null,
            "align_items": null,
            "align_self": null,
            "border": null,
            "bottom": null,
            "display": null,
            "flex": null,
            "flex_flow": null,
            "grid_area": null,
            "grid_auto_columns": null,
            "grid_auto_flow": null,
            "grid_auto_rows": null,
            "grid_column": null,
            "grid_gap": null,
            "grid_row": null,
            "grid_template_areas": null,
            "grid_template_columns": null,
            "grid_template_rows": null,
            "height": null,
            "justify_content": null,
            "justify_items": null,
            "left": null,
            "margin": null,
            "max_height": null,
            "max_width": null,
            "min_height": null,
            "min_width": null,
            "object_fit": null,
            "object_position": null,
            "order": null,
            "overflow": null,
            "overflow_x": null,
            "overflow_y": null,
            "padding": null,
            "right": null,
            "top": null,
            "visibility": null,
            "width": null
          }
        },
        "42f700484d774db4b3f2dae0a1417909": {
          "model_module": "@jupyter-widgets/controls",
          "model_name": "DescriptionStyleModel",
          "model_module_version": "1.5.0",
          "state": {
            "_model_module": "@jupyter-widgets/controls",
            "_model_module_version": "1.5.0",
            "_model_name": "DescriptionStyleModel",
            "_view_count": null,
            "_view_module": "@jupyter-widgets/base",
            "_view_module_version": "1.2.0",
            "_view_name": "StyleView",
            "description_width": ""
          }
        },
        "5fe1219fb41d464fb1f246a71d753601": {
          "model_module": "@jupyter-widgets/base",
          "model_name": "LayoutModel",
          "model_module_version": "1.2.0",
          "state": {
            "_model_module": "@jupyter-widgets/base",
            "_model_module_version": "1.2.0",
            "_model_name": "LayoutModel",
            "_view_count": null,
            "_view_module": "@jupyter-widgets/base",
            "_view_module_version": "1.2.0",
            "_view_name": "LayoutView",
            "align_content": null,
            "align_items": null,
            "align_self": null,
            "border": null,
            "bottom": null,
            "display": null,
            "flex": null,
            "flex_flow": null,
            "grid_area": null,
            "grid_auto_columns": null,
            "grid_auto_flow": null,
            "grid_auto_rows": null,
            "grid_column": null,
            "grid_gap": null,
            "grid_row": null,
            "grid_template_areas": null,
            "grid_template_columns": null,
            "grid_template_rows": null,
            "height": null,
            "justify_content": null,
            "justify_items": null,
            "left": null,
            "margin": null,
            "max_height": null,
            "max_width": null,
            "min_height": null,
            "min_width": null,
            "object_fit": null,
            "object_position": null,
            "order": null,
            "overflow": null,
            "overflow_x": null,
            "overflow_y": null,
            "padding": null,
            "right": null,
            "top": null,
            "visibility": null,
            "width": null
          }
        },
        "bd30628f96074e17a211cf44961b5144": {
          "model_module": "@jupyter-widgets/controls",
          "model_name": "ButtonStyleModel",
          "model_module_version": "1.5.0",
          "state": {
            "_model_module": "@jupyter-widgets/controls",
            "_model_module_version": "1.5.0",
            "_model_name": "ButtonStyleModel",
            "_view_count": null,
            "_view_module": "@jupyter-widgets/base",
            "_view_module_version": "1.2.0",
            "_view_name": "StyleView",
            "button_color": null,
            "font_weight": ""
          }
        },
        "9a7475ea475d4c1ca7b8df6598db096f": {
          "model_module": "@jupyter-widgets/base",
          "model_name": "LayoutModel",
          "model_module_version": "1.2.0",
          "state": {
            "_model_module": "@jupyter-widgets/base",
            "_model_module_version": "1.2.0",
            "_model_name": "LayoutModel",
            "_view_count": null,
            "_view_module": "@jupyter-widgets/base",
            "_view_module_version": "1.2.0",
            "_view_name": "LayoutView",
            "align_content": null,
            "align_items": null,
            "align_self": null,
            "border": null,
            "bottom": null,
            "display": null,
            "flex": null,
            "flex_flow": null,
            "grid_area": null,
            "grid_auto_columns": null,
            "grid_auto_flow": null,
            "grid_auto_rows": null,
            "grid_column": null,
            "grid_gap": null,
            "grid_row": null,
            "grid_template_areas": null,
            "grid_template_columns": null,
            "grid_template_rows": null,
            "height": null,
            "justify_content": null,
            "justify_items": null,
            "left": null,
            "margin": null,
            "max_height": null,
            "max_width": null,
            "min_height": null,
            "min_width": null,
            "object_fit": null,
            "object_position": null,
            "order": null,
            "overflow": null,
            "overflow_x": null,
            "overflow_y": null,
            "padding": null,
            "right": null,
            "top": null,
            "visibility": null,
            "width": null
          }
        },
        "7c7ec2de94f342c1a4792b2952edef45": {
          "model_module": "@jupyter-widgets/controls",
          "model_name": "DescriptionStyleModel",
          "model_module_version": "1.5.0",
          "state": {
            "_model_module": "@jupyter-widgets/controls",
            "_model_module_version": "1.5.0",
            "_model_name": "DescriptionStyleModel",
            "_view_count": null,
            "_view_module": "@jupyter-widgets/base",
            "_view_module_version": "1.2.0",
            "_view_name": "StyleView",
            "description_width": ""
          }
        },
        "8244bd501d8f49329745d6eecaf9e377": {
          "model_module": "@jupyter-widgets/controls",
          "model_name": "LabelModel",
          "model_module_version": "1.5.0",
          "state": {
            "_dom_classes": [],
            "_model_module": "@jupyter-widgets/controls",
            "_model_module_version": "1.5.0",
            "_model_name": "LabelModel",
            "_view_count": null,
            "_view_module": "@jupyter-widgets/controls",
            "_view_module_version": "1.5.0",
            "_view_name": "LabelView",
            "description": "",
            "description_tooltip": null,
            "layout": "IPY_MODEL_d5802d9a78334e7086e351db064d8f38",
            "placeholder": "​",
            "style": "IPY_MODEL_44d8174cd8c24550834567b4c7836c20",
            "value": "Connecting..."
          }
        },
        "d5802d9a78334e7086e351db064d8f38": {
          "model_module": "@jupyter-widgets/base",
          "model_name": "LayoutModel",
          "model_module_version": "1.2.0",
          "state": {
            "_model_module": "@jupyter-widgets/base",
            "_model_module_version": "1.2.0",
            "_model_name": "LayoutModel",
            "_view_count": null,
            "_view_module": "@jupyter-widgets/base",
            "_view_module_version": "1.2.0",
            "_view_name": "LayoutView",
            "align_content": null,
            "align_items": null,
            "align_self": null,
            "border": null,
            "bottom": null,
            "display": null,
            "flex": null,
            "flex_flow": null,
            "grid_area": null,
            "grid_auto_columns": null,
            "grid_auto_flow": null,
            "grid_auto_rows": null,
            "grid_column": null,
            "grid_gap": null,
            "grid_row": null,
            "grid_template_areas": null,
            "grid_template_columns": null,
            "grid_template_rows": null,
            "height": null,
            "justify_content": null,
            "justify_items": null,
            "left": null,
            "margin": null,
            "max_height": null,
            "max_width": null,
            "min_height": null,
            "min_width": null,
            "object_fit": null,
            "object_position": null,
            "order": null,
            "overflow": null,
            "overflow_x": null,
            "overflow_y": null,
            "padding": null,
            "right": null,
            "top": null,
            "visibility": null,
            "width": null
          }
        },
        "44d8174cd8c24550834567b4c7836c20": {
          "model_module": "@jupyter-widgets/controls",
          "model_name": "DescriptionStyleModel",
          "model_module_version": "1.5.0",
          "state": {
            "_model_module": "@jupyter-widgets/controls",
            "_model_module_version": "1.5.0",
            "_model_name": "DescriptionStyleModel",
            "_view_count": null,
            "_view_module": "@jupyter-widgets/base",
            "_view_module_version": "1.2.0",
            "_view_name": "StyleView",
            "description_width": ""
          }
        },
        "d6eb242c7b8a4693be589578a47cef6d": {
          "model_module": "@jupyter-widgets/controls",
          "model_name": "LabelModel",
          "model_module_version": "1.5.0",
          "state": {
            "_dom_classes": [],
            "_model_module": "@jupyter-widgets/controls",
            "_model_module_version": "1.5.0",
            "_model_name": "LabelModel",
            "_view_count": null,
            "_view_module": "@jupyter-widgets/controls",
            "_view_module_version": "1.5.0",
            "_view_name": "LabelView",
            "description": "",
            "description_tooltip": null,
            "layout": "IPY_MODEL_2fd1be1d726346d9bac94a1696144aa4",
            "placeholder": "​",
            "style": "IPY_MODEL_2b8a4f973fac445992d3b8157c56e3d3",
            "value": "Kaggle credentials successfully validated."
          }
        },
        "2fd1be1d726346d9bac94a1696144aa4": {
          "model_module": "@jupyter-widgets/base",
          "model_name": "LayoutModel",
          "model_module_version": "1.2.0",
          "state": {
            "_model_module": "@jupyter-widgets/base",
            "_model_module_version": "1.2.0",
            "_model_name": "LayoutModel",
            "_view_count": null,
            "_view_module": "@jupyter-widgets/base",
            "_view_module_version": "1.2.0",
            "_view_name": "LayoutView",
            "align_content": null,
            "align_items": null,
            "align_self": null,
            "border": null,
            "bottom": null,
            "display": null,
            "flex": null,
            "flex_flow": null,
            "grid_area": null,
            "grid_auto_columns": null,
            "grid_auto_flow": null,
            "grid_auto_rows": null,
            "grid_column": null,
            "grid_gap": null,
            "grid_row": null,
            "grid_template_areas": null,
            "grid_template_columns": null,
            "grid_template_rows": null,
            "height": null,
            "justify_content": null,
            "justify_items": null,
            "left": null,
            "margin": null,
            "max_height": null,
            "max_width": null,
            "min_height": null,
            "min_width": null,
            "object_fit": null,
            "object_position": null,
            "order": null,
            "overflow": null,
            "overflow_x": null,
            "overflow_y": null,
            "padding": null,
            "right": null,
            "top": null,
            "visibility": null,
            "width": null
          }
        },
        "2b8a4f973fac445992d3b8157c56e3d3": {
          "model_module": "@jupyter-widgets/controls",
          "model_name": "DescriptionStyleModel",
          "model_module_version": "1.5.0",
          "state": {
            "_model_module": "@jupyter-widgets/controls",
            "_model_module_version": "1.5.0",
            "_model_name": "DescriptionStyleModel",
            "_view_count": null,
            "_view_module": "@jupyter-widgets/base",
            "_view_module_version": "1.2.0",
            "_view_name": "StyleView",
            "description_width": ""
          }
        }
      }
    }
  },
  "nbformat_minor": 0,
  "nbformat": 4,
  "cells": [
    {
      "source": [
        "# IMPORTANT: SOME KAGGLE DATA SOURCES ARE PRIVATE\n",
        "# RUN THIS CELL IN ORDER TO IMPORT YOUR KAGGLE DATA SOURCES.\n",
        "import kagglehub\n",
        "kagglehub.login()\n"
      ],
      "metadata": {
        "id": "dxCchNEw9P9h",
        "outputId": "ad3d8733-1ac7-4610-c50d-650d34954957",
        "colab": {
          "base_uri": "https://localhost:8080/",
          "height": 85,
          "referenced_widgets": [
            "99f392cad18f4dc9a35aa650f51b8146",
            "8edd0fbadbd1475b9897f1905161d306",
            "05b185b3ca5440c5b7bf9cd5d7c49287",
            "01e74e5194b142ec93bc6546d1e89d7e",
            "cce557343729403f848ad02876d3171b",
            "88f4bd33f63748009c7804bc55097533",
            "2b82524780774e6ebf6097528d899fe6",
            "b0d6408b3fec462089d8e6d931dae42c",
            "06291f0bc3434fe487dbe786ac5400e3",
            "7640868da38d432b88e46b2c3484a4c6",
            "abdf1dae11304bc494f965cc6c203414",
            "f15e2b2872b74224a911e974dd6f0641",
            "42f700484d774db4b3f2dae0a1417909",
            "5fe1219fb41d464fb1f246a71d753601",
            "bd30628f96074e17a211cf44961b5144",
            "9a7475ea475d4c1ca7b8df6598db096f",
            "7c7ec2de94f342c1a4792b2952edef45",
            "8244bd501d8f49329745d6eecaf9e377",
            "d5802d9a78334e7086e351db064d8f38",
            "44d8174cd8c24550834567b4c7836c20",
            "d6eb242c7b8a4693be589578a47cef6d",
            "2fd1be1d726346d9bac94a1696144aa4",
            "2b8a4f973fac445992d3b8157c56e3d3"
          ]
        }
      },
      "cell_type": "code",
      "outputs": [
        {
          "output_type": "display_data",
          "data": {
            "text/plain": [
              "VBox(children=(HTML(value='<center> <img\\nsrc=https://www.kaggle.com/static/images/site-logo.png\\nalt=\\'Kaggle…"
            ],
            "application/vnd.jupyter.widget-view+json": {
              "version_major": 2,
              "version_minor": 0,
              "model_id": "99f392cad18f4dc9a35aa650f51b8146"
            }
          },
          "metadata": {}
        },
        {
          "output_type": "stream",
          "name": "stdout",
          "text": [
            "Kaggle credentials set.\n",
            "Kaggle credentials successfully validated.\n"
          ]
        }
      ],
      "execution_count": 1
    },
    {
      "source": [
        "# IMPORTANT: RUN THIS CELL IN ORDER TO IMPORT YOUR KAGGLE DATA SOURCES,\n",
        "# THEN FEEL FREE TO DELETE THIS CELL.\n",
        "# NOTE: THIS NOTEBOOK ENVIRONMENT DIFFERS FROM KAGGLE'S PYTHON\n",
        "# ENVIRONMENT SO THERE MAY BE MISSING LIBRARIES USED BY YOUR\n",
        "# NOTEBOOK.\n",
        "\n",
        "icecube_neutrinos_in_deep_ice_path = kagglehub.competition_download('icecube-neutrinos-in-deep-ice')\n",
        "kilogrand_pytorch_geometric_path = kagglehub.dataset_download('kilogrand/pytorch-geometric')\n",
        "anjum48_graphnet_path = kagglehub.dataset_download('anjum48/graphnet')\n",
        "anjum48_pytorchgeometric_path = kagglehub.dataset_download('anjum48/pytorchgeometric')\n",
        "anjum48_icecubetransparency_path = kagglehub.dataset_download('anjum48/icecubetransparency')\n",
        "anjum48_icecube_20230131_084311_path = kagglehub.notebook_output_download('anjum48/icecube-20230131-084311')\n",
        "\n",
        "print('Data source import complete.')\n"
      ],
      "metadata": {
        "id": "-zLZtGjA9P9i",
        "outputId": "b767b67a-1843-4e39-9184-54b936617521",
        "colab": {
          "base_uri": "https://localhost:8080/"
        }
      },
      "cell_type": "code",
      "outputs": [
        {
          "output_type": "stream",
          "name": "stdout",
          "text": [
            "Downloading from https://www.kaggle.com/api/v1/competitions/data/download-all/icecube-neutrinos-in-deep-ice...\n"
          ]
        },
        {
          "output_type": "stream",
          "name": "stderr",
          "text": [
            " 10%|▉         | 8.88G/89.5G [01:25<26:55, 53.6MB/s]"
          ]
        }
      ],
      "execution_count": null
    },
    {
      "cell_type": "code",
      "source": [
        "import getpass\n",
        "from pathlib import Path\n",
        "from typing import Any, Callable, List, Optional, Sequence, Tuple, Union\n",
        "\n",
        "import numpy as np\n",
        "import pandas as pd\n",
        "import pytorch_lightning as pl\n",
        "import torch\n",
        "import torch.nn as nn\n",
        "import torch.nn.functional as F\n",
        "\n",
        "from scipy.interpolate import interp1d\n",
        "from sklearn.preprocessing import RobustScaler\n",
        "from torch import LongTensor, Tensor\n",
        "from torch.utils.data import DataLoader, Dataset\n",
        "from tqdm import tqdm\n",
        "from transformers import get_cosine_schedule_with_warmup\n",
        "\n",
        "COMP_NAME = \"icecube-neutrinos-in-deep-ice\"\n",
        "# Return the “login name” of the user\n",
        "KERNEL = False if getpass.getuser() == \"anjum\" else True\n",
        "if not KERNEL:  # in personal computer\n",
        "    INPUT_PATH = Path(f\"/mnt/storage_dimm2/kaggle_data/{COMP_NAME}\")\n",
        "    OUTPUT_PATH = Path(f\"/mnt/storage_dimm2/kaggle_output/{COMP_NAME}\")\n",
        "    MODEL_CACHE = Path(\"/mnt/storage/model_cache/torch\")\n",
        "    TRANSPARENCY_PATH = INPUT_PATH / \"ice_transparency.txt\"\n",
        "else:           # in kaggle\n",
        "    INPUT_PATH = Path(f\"/kaggle/input/{COMP_NAME}\")\n",
        "    MODEL_CACHE = None\n",
        "    TRANSPARENCY_PATH = \"/kaggle/input/icecubetransparency/ice_transparency.txt\"\n",
        "\n",
        "    # Install packages\n",
        "    import subprocess\n",
        "\n",
        "    if torch.cuda.is_available():\n",
        "        whls = [\n",
        "            \"/kaggle/input/pytorchgeometric/torch_cluster-1.6.0-cp37-cp37m-linux_x86_64.whl\",\n",
        "            \"/kaggle/input/pytorchgeometric/torch_scatter-2.1.0-cp37-cp37m-linux_x86_64.whl\",\n",
        "            \"/kaggle/input/pytorchgeometric/torch_sparse-0.6.16-cp37-cp37m-linux_x86_64.whl\",\n",
        "            \"/kaggle/input/pytorchgeometric/torch_spline_conv-1.2.1-cp37-cp37m-linux_x86_64.whl\",\n",
        "            \"/kaggle/input/pytorchgeometric/torch_geometric-2.2.0-py3-none-any.whl\",\n",
        "            \"/kaggle/input/pytorchgeometric/ruamel.yaml-0.17.21-py3-none-any.whl\",\n",
        "        ]\n",
        "    else:\n",
        "        whls = [\n",
        "            \"/kaggle/input/pytorch-geometric/PyTorch-Geometric/torch_cluster-1.6.0-cp37-cp37m-linux_x86_64.whl\",\n",
        "            \"/kaggle/input/pytorch-geometric/PyTorch-Geometric/torch_scatter-2.0.9-cp37-cp37m-linux_x86_64.whl\",\n",
        "            \"/kaggle/input/pytorch-geometric/PyTorch-Geometric/torch_sparse-0.6.15-cp37-cp37m-linux_x86_64.whl\",\n",
        "            \"/kaggle/input/pytorch-geometric/PyTorch-Geometric/torch_spline_conv-1.2.1-cp37-cp37m-linux_x86_64.whl\",\n",
        "            \"/kaggle/input/pytorch-geometric/PyTorch-Geometric/torch_geometric-2.1.0.post1-py3-none-any.whl\",\n",
        "            \"/kaggle/input/pytorchgeometric/ruamel.yaml-0.17.21-py3-none-any.whl\",\n",
        "        ]\n",
        "\n",
        "    for w in whls:\n",
        "        print(\"Installing\", w)\n",
        "        subprocess.call([\"pip\", \"install\", w, \"--no-deps\", \"--upgrade\"])\n",
        "\n",
        "    import sys\n",
        "#     sys.path.append(\"/kaggle/input/graphnet/graphnet-main/src\")\n",
        "\n",
        "# from graphnet.models.graph_builders import KNNGraphBuilder\n",
        "# from graphnet.models.task.reconstruction import (\n",
        "#     AzimuthReconstructionWithKappa,\n",
        "#     ZenithReconstruction,\n",
        "# )\n",
        "# from graphnet.training.loss_functions import VonMisesFisher2DLoss, CosineLoss\n",
        "# from graphnet.models.gnn.gnn import GNN\n",
        "# from graphnet.models.utils import calculate_xyzt_homophily\n",
        "# from graphnet.utilities.config import save_model_config\n",
        "\n",
        "import torch_geometric\n",
        "import torch_geometric.nn as pyg_nn\n",
        "from torch_geometric.data import Data, Dataset\n",
        "from torch_geometric.loader import DataLoader\n",
        "# from torch_geometric.nn import EdgeConv\n",
        "from torch_geometric.nn import EdgeConv, SAGEConv, ChebConv, GCNConv\n",
        "# from torch_geometric.nn.pool import knn_graph\n",
        "from torch_geometric.nn import knn_graph\n",
        "from torch_geometric.typing import Adj\n",
        "\n",
        "import torch_scatter\n",
        "from torch_scatter import scatter_max, scatter_mean, scatter_min, scatter_sum\n",
        "\n",
        "GLOBAL_POOLINGS = {\n",
        "    \"min\": scatter_min,\n",
        "    \"max\": scatter_max,\n",
        "    \"sum\": scatter_sum,\n",
        "    \"mean\": scatter_mean,\n",
        "}\n",
        "\n",
        "_dtype = {\n",
        "    \"batch_id\": \"int16\",\n",
        "    \"event_id\": \"int64\",\n",
        "}"
      ],
      "metadata": {
        "_uuid": "632c42d7-0e51-42ee-8205-cc7fec9d0c56",
        "_cell_guid": "7e3ab8b8-8781-4d27-958b-ea47012eb172",
        "jupyter": {
          "outputs_hidden": false
        },
        "execution": {
          "iopub.status.busy": "2023-02-19T04:59:07.352512Z",
          "iopub.execute_input": "2023-02-19T04:59:07.35291Z",
          "iopub.status.idle": "2023-02-19T05:01:25.199869Z",
          "shell.execute_reply.started": "2023-02-19T04:59:07.352827Z",
          "shell.execute_reply": "2023-02-19T05:01:25.198723Z"
        },
        "trusted": true,
        "id": "7Qs8UY7_9P9i"
      },
      "execution_count": null,
      "outputs": []
    },
    {
      "cell_type": "markdown",
      "source": [
        "https://github.com/graphnet-team/graphnet"
      ],
      "metadata": {
        "id": "j-CDZXAs9P9j"
      }
    },
    {
      "cell_type": "markdown",
      "source": [
        "## Dataset"
      ],
      "metadata": {
        "id": "Mx4h75V79P9j"
      }
    },
    {
      "cell_type": "code",
      "source": [
        "!cat /kaggle/input/icecubetransparency/ice_transparency.txt"
      ],
      "metadata": {
        "execution": {
          "iopub.status.busy": "2023-02-19T05:01:25.202467Z",
          "iopub.execute_input": "2023-02-19T05:01:25.203336Z",
          "iopub.status.idle": "2023-02-19T05:01:26.154017Z",
          "shell.execute_reply.started": "2023-02-19T05:01:25.203301Z",
          "shell.execute_reply": "2023-02-19T05:01:26.15284Z"
        },
        "trusted": true,
        "id": "Nt9uo9y29P9k"
      },
      "execution_count": null,
      "outputs": []
    },
    {
      "cell_type": "code",
      "source": [
        "# datasets.py\n",
        "def ice_transparency(data_path, datum=1950):\n",
        "    # Data from page 31 of https://arxiv.org/pdf/1301.5361.pdf\n",
        "    # Datum is from footnote 8 of page 29\n",
        "    df = pd.read_csv(data_path, delim_whitespace=True)\n",
        "    df[\"z\"] = df[\"depth\"] - datum\n",
        "    df[\"z_norm\"] = df[\"z\"] / 500\n",
        "    df[[\"scattering_len_norm\", \"absorption_len_norm\"]] = RobustScaler().fit_transform(\n",
        "        df[[\"scattering_len\", \"absorption_len\"]]\n",
        "    )\n",
        "\n",
        "    # These are both roughly equivalent after scaling\n",
        "    f_scattering = interp1d(df[\"z_norm\"], df[\"scattering_len_norm\"])\n",
        "    f_absorption = interp1d(df[\"z_norm\"], df[\"absorption_len_norm\"])\n",
        "    return f_scattering, f_absorption"
      ],
      "metadata": {
        "execution": {
          "iopub.status.busy": "2023-02-19T05:01:26.156194Z",
          "iopub.execute_input": "2023-02-19T05:01:26.157127Z",
          "iopub.status.idle": "2023-02-19T05:01:26.165577Z",
          "shell.execute_reply.started": "2023-02-19T05:01:26.157084Z",
          "shell.execute_reply": "2023-02-19T05:01:26.164261Z"
        },
        "trusted": true,
        "id": "AUZsfA409P9k"
      },
      "execution_count": null,
      "outputs": []
    },
    {
      "cell_type": "code",
      "source": [
        "class IceCubeDataset(Dataset):\n",
        "    def __init__(\n",
        "        self,\n",
        "        batch_id,\n",
        "        event_ids,\n",
        "        sensor_df,\n",
        "        mode=\"test\",\n",
        "        y=None,\n",
        "        pulse_limit=300,\n",
        "        transform=None,\n",
        "        pre_transform=None,\n",
        "        pre_filter=None,\n",
        "    ):\n",
        "        super().__init__(transform, pre_transform, pre_filter)\n",
        "        self.y = y\n",
        "        self.event_ids = event_ids\n",
        "        self.batch_df = pd.read_parquet(INPUT_PATH / mode / f\"batch_{batch_id}.parquet\")\n",
        "        self.sensor_df = sensor_df\n",
        "        self.pulse_limit = pulse_limit\n",
        "        self.f_scattering, self.f_absorption = ice_transparency(TRANSPARENCY_PATH)\n",
        "\n",
        "        self.batch_df[\"time\"] = (self.batch_df[\"time\"] - 1.0e04) / 3.0e4\n",
        "        self.batch_df[\"charge\"] = np.log10(self.batch_df[\"charge\"]) / 3.0\n",
        "        self.batch_df[\"auxiliary\"] = self.batch_df[\"auxiliary\"].astype(int) - 0.5\n",
        "\n",
        "    def len(self):\n",
        "        return len(self.event_ids)\n",
        "\n",
        "    def get(self, idx):\n",
        "        event_id = self.event_ids[idx]\n",
        "        event = self.batch_df.loc[event_id]\n",
        "\n",
        "        # represent each event by a single graph\n",
        "        event = pd.merge(event, self.sensor_df, on=\"sensor_id\")\n",
        "        col = [\"x\", \"y\", \"z\", \"time\", \"charge\", \"qe\", \"auxiliary\"]\n",
        "\n",
        "        x = event[col].values\n",
        "        x = torch.tensor(x, dtype=torch.float32)\n",
        "        data = Data(x=x, n_pulses=torch.tensor(x.shape[0], dtype=torch.int32))\n",
        "\n",
        "        # Add ice transparency data\n",
        "        z = data.x[:, 2].numpy()\n",
        "        scattering = torch.tensor(self.f_scattering(z), dtype=torch.float32).view(-1, 1)\n",
        "        # absorption = torch.tensor(self.f_absorption(z), dtype=torch.float32).view(-1, 1)\n",
        "\n",
        "        data.x = torch.cat([data.x, scattering], dim=1)\n",
        "\n",
        "        # Downsample the large events\n",
        "        if data.n_pulses > self.pulse_limit:\n",
        "            data.x = data.x[np.random.choice(data.n_pulses, self.pulse_limit)]\n",
        "            data.n_pulses = torch.tensor(self.pulse_limit, dtype=torch.int32)\n",
        "\n",
        "        # Builds graph from the k-nearest neighbours.\n",
        "        data.edge_index = knn_graph(\n",
        "            data.x[:, [0, 1, 2]],  # x, y, z\n",
        "            k=8,\n",
        "            batch=None,\n",
        "            loop=False\n",
        "        )\n",
        "\n",
        "        if self.y is not None:\n",
        "            y = self.y.loc[idx, :].values\n",
        "            y = torch.tensor(y, dtype=torch.float32)\n",
        "            data.y = y\n",
        "\n",
        "        return data"
      ],
      "metadata": {
        "execution": {
          "iopub.status.busy": "2023-02-19T05:01:26.169297Z",
          "iopub.execute_input": "2023-02-19T05:01:26.170081Z",
          "iopub.status.idle": "2023-02-19T05:01:26.185752Z",
          "shell.execute_reply.started": "2023-02-19T05:01:26.170043Z",
          "shell.execute_reply": "2023-02-19T05:01:26.18476Z"
        },
        "trusted": true,
        "id": "s-MDRin59P9k"
      },
      "execution_count": null,
      "outputs": []
    },
    {
      "cell_type": "code",
      "source": [
        "# preprocessing.py\n",
        "def prepare_sensors():\n",
        "    sensors = pd.read_csv(INPUT_PATH / \"sensor_geometry.csv\").astype(\n",
        "        {\n",
        "            \"sensor_id\": np.int16,\n",
        "            \"x\": np.float32,\n",
        "            \"y\": np.float32,\n",
        "            \"z\": np.float32,\n",
        "        }\n",
        "    )\n",
        "    sensors[\"string\"] = 0\n",
        "    sensors[\"qe\"] = 1\n",
        "\n",
        "    for i in range(len(sensors) // 60):\n",
        "        start, end = i * 60, (i * 60) + 60\n",
        "        sensors.loc[start:end, \"string\"] = i\n",
        "\n",
        "        # High Quantum Efficiency in the lower 50 DOMs - https://arxiv.org/pdf/2209.03042.pdf (Figure 1)\n",
        "        if i in range(78, 86):\n",
        "            start_veto, end_veto = i * 60, (i * 60) + 10\n",
        "            start_core, end_core = end_veto + 1, (i * 60) + 60\n",
        "            sensors.loc[start_core:end_core, \"qe\"] = 1.35\n",
        "\n",
        "    # https://github.com/graphnet-team/graphnet/blob/b2bad25528652587ab0cdb7cf2335ee254cfa2db/src/graphnet/models/detector/icecube.py#L33-L41\n",
        "    # Assume that \"rde\" (relative dom efficiency) is equivalent to QE\n",
        "    sensors[\"x\"] /= 500\n",
        "    sensors[\"y\"] /= 500\n",
        "    sensors[\"z\"] /= 500\n",
        "    sensors[\"qe\"] -= 1.25\n",
        "    sensors[\"qe\"] /= 0.25\n",
        "\n",
        "    return sensors"
      ],
      "metadata": {
        "execution": {
          "iopub.status.busy": "2023-02-19T05:01:26.187762Z",
          "iopub.execute_input": "2023-02-19T05:01:26.188106Z",
          "iopub.status.idle": "2023-02-19T05:01:26.201117Z",
          "shell.execute_reply.started": "2023-02-19T05:01:26.188069Z",
          "shell.execute_reply": "2023-02-19T05:01:26.200006Z"
        },
        "trusted": true,
        "id": "rKjVP1eP9P9l"
      },
      "execution_count": null,
      "outputs": []
    },
    {
      "cell_type": "code",
      "source": [
        "sensors = prepare_sensors()\n",
        "sensors"
      ],
      "metadata": {
        "execution": {
          "iopub.status.busy": "2023-02-19T05:01:26.202523Z",
          "iopub.execute_input": "2023-02-19T05:01:26.203345Z",
          "iopub.status.idle": "2023-02-19T05:01:26.276989Z",
          "shell.execute_reply.started": "2023-02-19T05:01:26.203307Z",
          "shell.execute_reply": "2023-02-19T05:01:26.276023Z"
        },
        "trusted": true,
        "id": "_9iKSGGj9P9l"
      },
      "execution_count": null,
      "outputs": []
    },
    {
      "cell_type": "code",
      "source": [
        "meta = pd.read_parquet(\n",
        "    INPUT_PATH / f\"train_meta.parquet\", columns=[\"batch_id\", \"event_id\", \"azimuth\", \"zenith\"]\n",
        ").astype(_dtype)\n",
        "meta"
      ],
      "metadata": {
        "execution": {
          "iopub.status.busy": "2023-02-19T05:01:26.278222Z",
          "iopub.execute_input": "2023-02-19T05:01:26.278559Z",
          "iopub.status.idle": "2023-02-19T05:02:01.29728Z",
          "shell.execute_reply.started": "2023-02-19T05:01:26.278524Z",
          "shell.execute_reply": "2023-02-19T05:02:01.295712Z"
        },
        "trusted": true,
        "id": "q5YMB46I9P9m"
      },
      "execution_count": null,
      "outputs": []
    },
    {
      "cell_type": "code",
      "source": [
        "batch_ids = meta[\"batch_id\"].unique()\n",
        "batch_ids"
      ],
      "metadata": {
        "execution": {
          "iopub.status.busy": "2023-02-19T05:02:01.30278Z",
          "iopub.execute_input": "2023-02-19T05:02:01.306021Z",
          "iopub.status.idle": "2023-02-19T05:02:02.261297Z",
          "shell.execute_reply.started": "2023-02-19T05:02:01.30594Z",
          "shell.execute_reply": "2023-02-19T05:02:02.259811Z"
        },
        "trusted": true,
        "id": "hxaEBZJg9P9m"
      },
      "execution_count": null,
      "outputs": []
    },
    {
      "cell_type": "code",
      "source": [
        "# for i, b in enumerate(batch_ids):\n",
        "#     event_ids = meta[meta[\"batch_id\"] == b][\"event_id\"].tolist()\n",
        "#     y = meta[meta[\"batch_id\"] == b][['zenith', 'azimuth']].reset_index(drop=True)\n",
        "#     dataset = IceCubeDataset(\n",
        "#         b, event_ids, sensors, mode='train', y=y,\n",
        "#     )\n",
        "#     print(f'batch {i}')\n",
        "#     print(\"num of graph:\", len(dataset), '\\t', dataset[0], '\\t', dataset[1])\n",
        "#     if i >= 3:\n",
        "#         break"
      ],
      "metadata": {
        "execution": {
          "iopub.status.busy": "2023-02-19T05:02:02.268674Z",
          "iopub.execute_input": "2023-02-19T05:02:02.269846Z",
          "iopub.status.idle": "2023-02-19T05:02:02.28563Z",
          "shell.execute_reply.started": "2023-02-19T05:02:02.269747Z",
          "shell.execute_reply": "2023-02-19T05:02:02.282652Z"
        },
        "trusted": true,
        "id": "380OEeLK9P9n"
      },
      "execution_count": null,
      "outputs": []
    },
    {
      "cell_type": "code",
      "source": [
        "# dataset[0].edge_index"
      ],
      "metadata": {
        "execution": {
          "iopub.status.busy": "2023-02-19T05:02:02.291097Z",
          "iopub.execute_input": "2023-02-19T05:02:02.294221Z",
          "iopub.status.idle": "2023-02-19T05:02:02.30007Z",
          "shell.execute_reply.started": "2023-02-19T05:02:02.294177Z",
          "shell.execute_reply": "2023-02-19T05:02:02.299017Z"
        },
        "trusted": true,
        "id": "6zlOvOrZ9P9n"
      },
      "execution_count": null,
      "outputs": []
    },
    {
      "cell_type": "markdown",
      "source": [
        "## Dynamic graph"
      ],
      "metadata": {
        "id": "A_H9imDU9P9n"
      }
    },
    {
      "cell_type": "code",
      "source": [
        "def calculate_distance_matrix(xyz_coords: Tensor) -> Tensor:\n",
        "    \"\"\"Calculate the matrix of pairwise distances between pulses.\n",
        "    Args:\n",
        "        xyz_coords: (x,y,z)-coordinates of pulses, of shape [nb_doms, 3].\n",
        "    Returns:\n",
        "        Matrix of pairwise distances, of shape [nb_doms, nb_doms]\n",
        "    \"\"\"\n",
        "    diff = xyz_coords.unsqueeze(dim=2) - xyz_coords.T.unsqueeze(dim=0)\n",
        "    return torch.sqrt(torch.sum(diff**2, dim=1))\n",
        "\n",
        "\n",
        "class EuclideanGraphBuilder(nn.Module):\n",
        "    \"\"\"Builds graph according to Euclidean distance between nodes.\n",
        "    See https://arxiv.org/pdf/1809.06166.pdf.\n",
        "    \"\"\"\n",
        "    def __init__(\n",
        "        self,\n",
        "        sigma: float,\n",
        "        threshold: float = 0.0,\n",
        "        columns: List[int] = None,\n",
        "    ):\n",
        "        \"\"\"Construct `EuclideanGraphBuilder`.\"\"\"\n",
        "        # Base class constructor\n",
        "        super().__init__()\n",
        "\n",
        "        # Check(s)\n",
        "        if columns is None:\n",
        "            columns = [0, 1, 2]\n",
        "\n",
        "        # Member variable(s)\n",
        "        self._sigma = sigma\n",
        "        self._threshold = threshold\n",
        "        self._columns = columns\n",
        "\n",
        "    def forward(self, data: Data) -> Data:\n",
        "        \"\"\"Forward pass.\"\"\"\n",
        "        # Constructs the adjacency matrix from the raw, DOM-level data and\n",
        "        # returns this matrix\n",
        "        xyz_coords = data.x[:, self._columns]\n",
        "\n",
        "        # Construct block-diagonal matrix indicating whether pulses belong to\n",
        "        # the same event in the batch\n",
        "        batch_mask = data.batch.unsqueeze(dim=0) == data.batch.unsqueeze(dim=1)\n",
        "\n",
        "        distance_matrix = calculate_distance_matrix(xyz_coords)\n",
        "        affinity_matrix = torch.exp(\n",
        "            -0.5 * distance_matrix**2 / self._sigma**2\n",
        "        )\n",
        "\n",
        "        # Use softmax to normalise all adjacencies to one for each node\n",
        "        exp_row_sums = torch.exp(affinity_matrix).sum(axis=1)\n",
        "        weighted_adj_matrix = torch.exp(\n",
        "            affinity_matrix\n",
        "        ) / exp_row_sums.unsqueeze(dim=1)\n",
        "\n",
        "        # Only include edges with weights that exceed the chosen threshold (and\n",
        "        # are part of the same event)\n",
        "        sources, targets = torch.where(\n",
        "            (weighted_adj_matrix > self._threshold) & (batch_mask)\n",
        "        )\n",
        "        edge_weights = weighted_adj_matrix[sources, targets]\n",
        "\n",
        "        data.edge_index = torch.stack((sources, targets))\n",
        "        data.edge_weight = edge_weights\n",
        "\n",
        "        return data"
      ],
      "metadata": {
        "execution": {
          "iopub.status.busy": "2023-02-19T05:02:02.302342Z",
          "iopub.execute_input": "2023-02-19T05:02:02.302695Z",
          "iopub.status.idle": "2023-02-19T05:02:02.328003Z",
          "shell.execute_reply.started": "2023-02-19T05:02:02.302661Z",
          "shell.execute_reply": "2023-02-19T05:02:02.326595Z"
        },
        "trusted": true,
        "id": "1bQvInvH9P9n"
      },
      "execution_count": null,
      "outputs": []
    },
    {
      "cell_type": "markdown",
      "source": [
        "## Model"
      ],
      "metadata": {
        "id": "Een2f9XC9P9n"
      }
    },
    {
      "cell_type": "code",
      "source": [
        "class DenseDynBlock(nn.Module):\n",
        "    \"\"\"\n",
        "    Dense Dynamic graph convolution block\n",
        "    \"\"\"\n",
        "    def __init__(self, in_channels, out_channels=64, sigma=0.5):\n",
        "        super(DenseDynBlock, self).__init__()\n",
        "        self.GraphBuilder = EuclideanGraphBuilder(sigma=sigma)\n",
        "        self.gnn = SAGEConv(in_channels, out_channels)\n",
        "\n",
        "    def forward(self, data):\n",
        "        data1 = self.GraphBuilder(data)\n",
        "        x, edge_index, batch = data1.x, data1.edge_index, data1.batch\n",
        "        x = self.gnn(x, edge_index)\n",
        "        data1.x = torch.cat((x, data.x), 1)\n",
        "        return data1"
      ],
      "metadata": {
        "execution": {
          "iopub.status.busy": "2023-02-19T05:02:02.329328Z",
          "iopub.execute_input": "2023-02-19T05:02:02.329948Z",
          "iopub.status.idle": "2023-02-19T05:02:02.340802Z",
          "shell.execute_reply.started": "2023-02-19T05:02:02.329911Z",
          "shell.execute_reply": "2023-02-19T05:02:02.339598Z"
        },
        "trusted": true,
        "id": "gLJ0BEUu9P9n"
      },
      "execution_count": null,
      "outputs": []
    },
    {
      "cell_type": "code",
      "source": [
        "class MyGNN(nn.Module):\n",
        "    \"\"\"\n",
        "    Dynamic graph convolution layer\n",
        "    \"\"\"\n",
        "    def __init__(self, in_channels, hidden_channels, out_channels, n_blocks):\n",
        "        super().__init__()\n",
        "        self.n_blocks = n_blocks\n",
        "        self.head = SAGEConv(in_channels, hidden_channels)\n",
        "        c_growth  = hidden_channels\n",
        "        self.gnn = nn.Sequential(*[DenseDynBlock(hidden_channels+i*c_growth, c_growth)\n",
        "                                    for i in range(n_blocks-1)])\n",
        "        fusion_dims = int(hidden_channels * self.n_blocks + c_growth * ((1 + self.n_blocks - 1) * (self.n_blocks - 1) / 2))\n",
        "        self.linear = nn.Linear(fusion_dims, out_channels)\n",
        "\n",
        "    def forward(self, data):\n",
        "        x, edge_index, batch = data.x, data.edge_index, data.batch\n",
        "        data.x = self.head(x, edge_index)\n",
        "        feats = [data.x]\n",
        "        for i in range(self.n_blocks-1):\n",
        "            data = self.gnn[i](data)\n",
        "            feats.append(data.x)\n",
        "        feats = torch.cat(feats, 1)\n",
        "        x = pyg_nn.global_mean_pool(feats, data.batch)\n",
        "        out = F.relu(self.linear(x))\n",
        "        return out"
      ],
      "metadata": {
        "execution": {
          "iopub.status.busy": "2023-02-19T05:02:02.342979Z",
          "iopub.execute_input": "2023-02-19T05:02:02.343447Z",
          "iopub.status.idle": "2023-02-19T05:02:02.373992Z",
          "shell.execute_reply.started": "2023-02-19T05:02:02.343405Z",
          "shell.execute_reply": "2023-02-19T05:02:02.369854Z"
        },
        "trusted": true,
        "id": "RsMm4LOp9P9o"
      },
      "execution_count": null,
      "outputs": []
    },
    {
      "cell_type": "code",
      "source": [
        "model = MyGNN(8, 16, 2, 3)\n",
        "model"
      ],
      "metadata": {
        "execution": {
          "iopub.status.busy": "2023-02-19T05:02:02.375471Z",
          "iopub.execute_input": "2023-02-19T05:02:02.380192Z",
          "iopub.status.idle": "2023-02-19T05:02:02.452686Z",
          "shell.execute_reply.started": "2023-02-19T05:02:02.38015Z",
          "shell.execute_reply": "2023-02-19T05:02:02.451626Z"
        },
        "trusted": true,
        "id": "mmH5rWnE9P9o"
      },
      "execution_count": null,
      "outputs": []
    },
    {
      "cell_type": "code",
      "source": [
        "# train_loader = DataLoader(dataset[0:500], batch_size=32, num_workers=1)\n",
        "# for d in train_loader:\n",
        "#     print(d)\n",
        "#     break\n",
        "# for sample_batched in train_loader:\n",
        "#     outputs = model(sample_batched)\n",
        "#     print(outputs.shape, sample_batched.x.shape, sample_batched.y.shape)\n",
        "#     break"
      ],
      "metadata": {
        "execution": {
          "iopub.status.busy": "2023-02-19T05:02:02.456925Z",
          "iopub.execute_input": "2023-02-19T05:02:02.457376Z",
          "iopub.status.idle": "2023-02-19T05:02:02.466119Z",
          "shell.execute_reply.started": "2023-02-19T05:02:02.457313Z",
          "shell.execute_reply": "2023-02-19T05:02:02.465074Z"
        },
        "trusted": true,
        "id": "RurLhhzM9P9o"
      },
      "execution_count": null,
      "outputs": []
    },
    {
      "cell_type": "code",
      "source": [
        "epochs = 10\n",
        "batchsize = 32\n",
        "criterion = nn.L1Loss()\n",
        "opt = torch.optim.AdamW(model.parameters(), lr=0.3)\n",
        "device = torch.device('cuda' if torch.cuda.is_available() else 'cpu')\n",
        "print('using ', device)\n",
        "model = model.to(device)"
      ],
      "metadata": {
        "execution": {
          "iopub.status.busy": "2023-02-19T05:02:02.469285Z",
          "iopub.execute_input": "2023-02-19T05:02:02.470375Z",
          "iopub.status.idle": "2023-02-19T05:02:08.498474Z",
          "shell.execute_reply.started": "2023-02-19T05:02:02.470311Z",
          "shell.execute_reply": "2023-02-19T05:02:08.497252Z"
        },
        "trusted": true,
        "id": "IIe7G5-U9P9o"
      },
      "execution_count": null,
      "outputs": []
    },
    {
      "cell_type": "code",
      "source": [
        "for i, b in enumerate(batch_ids):\n",
        "    event_ids = meta[meta[\"batch_id\"] == b][\"event_id\"].tolist()\n",
        "    y = meta[meta[\"batch_id\"] == b][['zenith', 'azimuth']].reset_index(drop=True)\n",
        "    dataset = IceCubeDataset(\n",
        "        b, event_ids, sensors, mode='train', y=y,\n",
        "    )\n",
        "    train_len = int(0.7*len(dataset[0:3000]))\n",
        "    train_loader = DataLoader(dataset[0:train_len], batch_size=batchsize)\n",
        "    val_loader = DataLoader(dataset[train_len:3000], batch_size=batchsize)\n",
        "\n",
        "    print(f'batch {i}')\n",
        "    for epoch_num in range(epochs):\n",
        "        total_loss_train = 0\n",
        "        model.train()\n",
        "        for sample_batched in tqdm(train_loader, desc='train'):\n",
        "            opt.zero_grad()\n",
        "            sample_batched = sample_batched.to(device)\n",
        "            outputs = model(sample_batched)\n",
        "            label = sample_batched.y.reshape(-1, 2).to(device)\n",
        "            loss = criterion(outputs, label)\n",
        "            total_loss_train += loss.cpu().item()\n",
        "            loss.backward()\n",
        "            opt.step()\n",
        "#             break\n",
        "\n",
        "        total_loss_val = 0\n",
        "        model.eval()\n",
        "        with torch.no_grad():\n",
        "            for sample_batched in tqdm(val_loader, desc='val'):\n",
        "                sample_batched = sample_batched.to(device)\n",
        "                outputs = model(sample_batched)\n",
        "                label = sample_batched.y.reshape(-1, 2).to(device)\n",
        "                loss = criterion(outputs, label)\n",
        "                total_loss_val += loss.cpu().item()\n",
        "#                 break\n",
        "\n",
        "        print(f'epoch[{epoch_num}]', total_loss_train / train_len, total_loss_train / (len(dataset[0:3000]) - train_len))\n",
        "\n",
        "    # just three batch dataset\n",
        "    if i >= 2:\n",
        "        break"
      ],
      "metadata": {
        "execution": {
          "iopub.status.busy": "2023-02-19T05:02:08.499922Z",
          "iopub.execute_input": "2023-02-19T05:02:08.500552Z",
          "iopub.status.idle": "2023-02-19T05:17:16.986912Z",
          "shell.execute_reply.started": "2023-02-19T05:02:08.500511Z",
          "shell.execute_reply": "2023-02-19T05:17:16.985899Z"
        },
        "trusted": true,
        "id": "Co0W8sYR9P9o"
      },
      "execution_count": null,
      "outputs": []
    },
    {
      "cell_type": "markdown",
      "source": [
        "## Infer"
      ],
      "metadata": {
        "id": "JfVdpnRQ9P9o"
      }
    },
    {
      "cell_type": "code",
      "source": [
        "def infer(model, loader, device=\"cpu\"):\n",
        "    model.to(device)\n",
        "    model.eval()\n",
        "\n",
        "    predictions = []\n",
        "    with torch.no_grad():\n",
        "        for batch in loader:\n",
        "            batch = batch.to(device)\n",
        "            pred_angles = model(batch)\n",
        "            predictions.append(pred_angles.cpu())\n",
        "\n",
        "    return torch.cat(predictions, 0)"
      ],
      "metadata": {
        "execution": {
          "iopub.status.busy": "2023-02-19T05:17:16.988294Z",
          "iopub.execute_input": "2023-02-19T05:17:16.98922Z",
          "iopub.status.idle": "2023-02-19T05:17:16.995546Z",
          "shell.execute_reply.started": "2023-02-19T05:17:16.989179Z",
          "shell.execute_reply": "2023-02-19T05:17:16.99452Z"
        },
        "trusted": true,
        "id": "rAwsgVZQ9P9o"
      },
      "execution_count": null,
      "outputs": []
    },
    {
      "cell_type": "code",
      "source": [
        "def make_predictions(model, device=\"cpu\", mode=\"test\", batch_size=32):\n",
        "    sensors = prepare_sensors()\n",
        "\n",
        "    meta = pd.read_parquet(\n",
        "        INPUT_PATH / f\"{mode}_meta.parquet\", columns=[\"batch_id\", \"event_id\"]\n",
        "    ).astype(_dtype)\n",
        "    batch_ids = meta[\"batch_id\"].unique()\n",
        "\n",
        "    if mode == \"train\":\n",
        "        batch_ids = batch_ids[:6]\n",
        "\n",
        "    batch_preds = []\n",
        "    for b in batch_ids:\n",
        "        event_ids = meta[meta[\"batch_id\"] == b][\"event_id\"].tolist()\n",
        "        dataset = IceCubeDataset(\n",
        "            b, event_ids, sensors, mode=mode,\n",
        "        )\n",
        "        loader = DataLoader(dataset, batch_size=batch_size, num_workers=1)\n",
        "        batch_preds.append(infer(model, loader, device=device))\n",
        "        print(\"Finished batch\", b)\n",
        "\n",
        "        if mode == \"train\" and b == 6:\n",
        "            break\n",
        "\n",
        "    output = torch.cat(batch_preds, 0)\n",
        "\n",
        "    event_id_labels = []\n",
        "    for b in batch_ids:\n",
        "        event_id_labels.extend(meta[meta[\"batch_id\"] == b][\"event_id\"].tolist())\n",
        "\n",
        "    sub = {\n",
        "        \"event_id\": event_id_labels,\n",
        "        \"azimuth\": output[:, 0],\n",
        "        \"zenith\": output[:, 1],\n",
        "    }\n",
        "\n",
        "    sub = pd.DataFrame(sub)\n",
        "    sub.to_csv(\"submission.csv\", index=False)"
      ],
      "metadata": {
        "execution": {
          "iopub.status.busy": "2023-02-19T05:17:16.997045Z",
          "iopub.execute_input": "2023-02-19T05:17:16.997429Z",
          "iopub.status.idle": "2023-02-19T05:17:17.010854Z",
          "shell.execute_reply.started": "2023-02-19T05:17:16.997395Z",
          "shell.execute_reply": "2023-02-19T05:17:17.009751Z"
        },
        "trusted": true,
        "id": "CeAbDHi_9P9p"
      },
      "execution_count": null,
      "outputs": []
    },
    {
      "cell_type": "code",
      "source": [
        "make_predictions(model, device=\"cuda\", mode=\"test\", batch_size=32)"
      ],
      "metadata": {
        "execution": {
          "iopub.status.busy": "2023-02-19T05:17:17.013102Z",
          "iopub.execute_input": "2023-02-19T05:17:17.013502Z",
          "iopub.status.idle": "2023-02-19T05:17:17.399803Z",
          "shell.execute_reply.started": "2023-02-19T05:17:17.013462Z",
          "shell.execute_reply": "2023-02-19T05:17:17.39859Z"
        },
        "trusted": true,
        "id": "FWMPyorD9P9p"
      },
      "execution_count": null,
      "outputs": []
    },
    {
      "cell_type": "code",
      "source": [
        "pd.read_csv(\"submission.csv\")"
      ],
      "metadata": {
        "execution": {
          "iopub.status.busy": "2023-02-19T05:17:17.401556Z",
          "iopub.execute_input": "2023-02-19T05:17:17.402493Z",
          "iopub.status.idle": "2023-02-19T05:17:17.416784Z",
          "shell.execute_reply.started": "2023-02-19T05:17:17.402449Z",
          "shell.execute_reply": "2023-02-19T05:17:17.415714Z"
        },
        "trusted": true,
        "id": "6O-_Vy9b9P9p"
      },
      "execution_count": null,
      "outputs": []
    },
    {
      "cell_type": "code",
      "source": [],
      "metadata": {
        "id": "pjtbfC139P9p"
      },
      "execution_count": null,
      "outputs": []
    }
  ]
}