{
  "cells": [
    {
      "metadata": {
        "id": "48ff35e63fdf238d",
        "outputId": "6be12fd8-479d-4df9-eb4f-03b63d0853e7",
        "colab": {
          "base_uri": "https://localhost:8080/"
        }
      },
      "cell_type": "code",
      "outputs": [
        {
          "output_type": "stream",
          "name": "stdout",
          "text": [
            "Cloning into 'IceCubeNeutrino'...\n",
            "remote: Enumerating objects: 92, done.\u001b[K\n",
            "remote: Counting objects: 100% (92/92), done.\u001b[K\n",
            "remote: Compressing objects: 100% (79/79), done.\u001b[K\n",
            "remote: Total 92 (delta 47), reused 33 (delta 12), pack-reused 0 (from 0)\u001b[K\n",
            "Receiving objects: 100% (92/92), 693.42 KiB | 9.50 MiB/s, done.\n",
            "Resolving deltas: 100% (47/47), done.\n"
          ]
        }
      ],
      "execution_count": 1,
      "source": [
        "!git clone https://github.com/WaShindeiru/IceCubeNeutrino"
      ],
      "id": "48ff35e63fdf238d"
    },
    {
      "metadata": {
        "id": "c9120ce404b1e479"
      },
      "cell_type": "code",
      "outputs": [],
      "execution_count": 2,
      "source": [
        "!cp -r IceCubeNeutrino/* ."
      ],
      "id": "c9120ce404b1e479"
    },
    {
      "metadata": {
        "id": "8ddb8bf434ffc847",
        "outputId": "372a0695-0057-44db-ba23-ba9603616ed2",
        "colab": {
          "base_uri": "https://localhost:8080/"
        }
      },
      "cell_type": "code",
      "outputs": [
        {
          "output_type": "stream",
          "name": "stdout",
          "text": [
            "Mounted at /content/drive\n"
          ]
        }
      ],
      "execution_count": 3,
      "source": [
        "from google.colab import drive\n",
        "drive.mount('/content/drive')"
      ],
      "id": "8ddb8bf434ffc847"
    },
    {
      "metadata": {
        "id": "1716994e38cc5685",
        "outputId": "178e8eeb-ad10-4a91-c2ed-deb3aeb30c86",
        "colab": {
          "base_uri": "https://localhost:8080/"
        }
      },
      "cell_type": "code",
      "outputs": [
        {
          "output_type": "stream",
          "name": "stdout",
          "text": [
            "Archive:  ./drive/MyDrive/icecube/ice_cube_small.zip\n",
            "   creating: ice_cube_small/\n",
            "  inflating: ice_cube_small/train_meta.parquet  \n",
            "  inflating: ice_cube_small/test_meta.parquet  \n",
            "  inflating: ice_cube_small/sensor_geometry.csv  \n",
            "  inflating: ice_cube_small/sample_submission.parquet  \n",
            "   creating: ice_cube_small/train_2/\n",
            "  inflating: ice_cube_small/train_2/batch_3.parquet  \n",
            "  inflating: ice_cube_small/train_2/batch_2.parquet  \n",
            "  inflating: ice_cube_small/train_2/batch_1.parquet  \n",
            "   creating: ice_cube_small/test/\n",
            "  inflating: ice_cube_small/test/batch_661.parquet  \n"
          ]
        }
      ],
      "execution_count": 4,
      "source": [
        "!unzip ./drive/MyDrive/icecube/ice_cube_small.zip"
      ],
      "id": "1716994e38cc5685"
    },
    {
      "metadata": {
        "id": "8380eaf0a3b83798",
        "outputId": "b9349f65-be6d-452e-a4e8-c9d8fbe9db36",
        "colab": {
          "base_uri": "https://localhost:8080/"
        }
      },
      "cell_type": "code",
      "outputs": [
        {
          "output_type": "stream",
          "name": "stdout",
          "text": [
            "Archive:  ./drive/MyDrive/icecube/iceCube1_result.zip\n",
            "   creating: iceCube_result/\n",
            "  inflating: iceCube_result/model_101.pth  \n",
            "  inflating: iceCube_result/losses.pickle  \n",
            "   creating: iceCube_result/weights/\n",
            "  inflating: iceCube_result/weights/model_34_2025-06-12_11:59:35.pth  \n",
            "  inflating: iceCube_result/weights/model_101_2025-06-11_18:39:52.pth  \n",
            "  inflating: iceCube_result/weights/model_34_2025-07-06_16:43:54.pth  \n",
            "   creating: iceCube_result/results/\n",
            "  inflating: iceCube_result/results/losses_2025-06-12_11:59:35.pickle  \n",
            "  inflating: iceCube_result/results/val_losses_2025-07-06_16:43:54.pickle  \n",
            "  inflating: iceCube_result/results/losses_2025-07-06_16:43:54.pickle  \n",
            "  inflating: iceCube_result/results/losses_2025-06-11_18:39:52.pickle  \n"
          ]
        }
      ],
      "execution_count": 5,
      "source": [
        "!unzip ./drive/MyDrive/icecube/iceCube1_result.zip"
      ],
      "id": "8380eaf0a3b83798"
    },
    {
      "cell_type": "code",
      "id": "initial_id",
      "metadata": {
        "collapsed": true,
        "ExecuteTime": {
          "end_time": "2025-07-06T16:16:22.962753Z",
          "start_time": "2025-07-06T16:16:22.150956Z"
        },
        "id": "initial_id"
      },
      "source": [
        "import matplotlib.pyplot as plt\n",
        "import torch\n",
        "import torch.nn as nn\n",
        "\n",
        "from Resnet import resnet34\n",
        "from Icecube_Dataloader import IceCube_Dataloader, collate_fn"
      ],
      "outputs": [],
      "execution_count": 6
    },
    {
      "metadata": {
        "ExecuteTime": {
          "end_time": "2025-07-06T16:16:23.299771Z",
          "start_time": "2025-07-06T16:16:23.015289Z"
        },
        "id": "f2c18296b5ccfb59",
        "outputId": "d14fe3b0-15ab-41b9-aa07-c597a2653676",
        "colab": {
          "base_uri": "https://localhost:8080/"
        }
      },
      "cell_type": "code",
      "source": [
        "model = resnet34(pretrained = False)\n",
        "model.fc = nn.Sequential(nn.ReLU(),nn.Linear(in_features=512, out_features=2)) # Changed FC layer for our task\n",
        "model.load_state_dict(torch.load(\"./iceCube_result/weights/model_34_2025-07-06_16:43:54.pth\", weights_only=True))\n",
        "model.eval()"
      ],
      "id": "f2c18296b5ccfb59",
      "outputs": [
        {
          "output_type": "execute_result",
          "data": {
            "text/plain": [
              "ResNet(\n",
              "  (conv1): Conv2d(5, 64, kernel_size=(7, 7), stride=(2, 2), padding=(3, 3), bias=False)\n",
              "  (bn1): BatchNorm2d(64, eps=1e-05, momentum=0.1, affine=True, track_running_stats=True)\n",
              "  (relu): ReLU(inplace=True)\n",
              "  (maxpool): MaxPool2d(kernel_size=3, stride=2, padding=1, dilation=1, ceil_mode=False)\n",
              "  (layer1): Sequential(\n",
              "    (0): BasicBlock(\n",
              "      (conv1): Conv2d(64, 64, kernel_size=(3, 3), stride=(1, 1), padding=(1, 1), bias=False)\n",
              "      (bn1): BatchNorm2d(64, eps=1e-05, momentum=0.1, affine=True, track_running_stats=True)\n",
              "      (relu): ReLU(inplace=True)\n",
              "      (conv2): Conv2d(64, 64, kernel_size=(3, 3), stride=(1, 1), padding=(1, 1), bias=False)\n",
              "      (bn2): BatchNorm2d(64, eps=1e-05, momentum=0.1, affine=True, track_running_stats=True)\n",
              "    )\n",
              "    (1): BasicBlock(\n",
              "      (conv1): Conv2d(64, 64, kernel_size=(3, 3), stride=(1, 1), padding=(1, 1), bias=False)\n",
              "      (bn1): BatchNorm2d(64, eps=1e-05, momentum=0.1, affine=True, track_running_stats=True)\n",
              "      (relu): ReLU(inplace=True)\n",
              "      (conv2): Conv2d(64, 64, kernel_size=(3, 3), stride=(1, 1), padding=(1, 1), bias=False)\n",
              "      (bn2): BatchNorm2d(64, eps=1e-05, momentum=0.1, affine=True, track_running_stats=True)\n",
              "    )\n",
              "    (2): BasicBlock(\n",
              "      (conv1): Conv2d(64, 64, kernel_size=(3, 3), stride=(1, 1), padding=(1, 1), bias=False)\n",
              "      (bn1): BatchNorm2d(64, eps=1e-05, momentum=0.1, affine=True, track_running_stats=True)\n",
              "      (relu): ReLU(inplace=True)\n",
              "      (conv2): Conv2d(64, 64, kernel_size=(3, 3), stride=(1, 1), padding=(1, 1), bias=False)\n",
              "      (bn2): BatchNorm2d(64, eps=1e-05, momentum=0.1, affine=True, track_running_stats=True)\n",
              "    )\n",
              "  )\n",
              "  (layer2): Sequential(\n",
              "    (0): BasicBlock(\n",
              "      (conv1): Conv2d(64, 128, kernel_size=(3, 3), stride=(2, 2), padding=(1, 1), bias=False)\n",
              "      (bn1): BatchNorm2d(128, eps=1e-05, momentum=0.1, affine=True, track_running_stats=True)\n",
              "      (relu): ReLU(inplace=True)\n",
              "      (conv2): Conv2d(128, 128, kernel_size=(3, 3), stride=(1, 1), padding=(1, 1), bias=False)\n",
              "      (bn2): BatchNorm2d(128, eps=1e-05, momentum=0.1, affine=True, track_running_stats=True)\n",
              "      (downsample): Sequential(\n",
              "        (0): Conv2d(64, 128, kernel_size=(1, 1), stride=(2, 2), bias=False)\n",
              "        (1): BatchNorm2d(128, eps=1e-05, momentum=0.1, affine=True, track_running_stats=True)\n",
              "      )\n",
              "    )\n",
              "    (1): BasicBlock(\n",
              "      (conv1): Conv2d(128, 128, kernel_size=(3, 3), stride=(1, 1), padding=(1, 1), bias=False)\n",
              "      (bn1): BatchNorm2d(128, eps=1e-05, momentum=0.1, affine=True, track_running_stats=True)\n",
              "      (relu): ReLU(inplace=True)\n",
              "      (conv2): Conv2d(128, 128, kernel_size=(3, 3), stride=(1, 1), padding=(1, 1), bias=False)\n",
              "      (bn2): BatchNorm2d(128, eps=1e-05, momentum=0.1, affine=True, track_running_stats=True)\n",
              "    )\n",
              "    (2): BasicBlock(\n",
              "      (conv1): Conv2d(128, 128, kernel_size=(3, 3), stride=(1, 1), padding=(1, 1), bias=False)\n",
              "      (bn1): BatchNorm2d(128, eps=1e-05, momentum=0.1, affine=True, track_running_stats=True)\n",
              "      (relu): ReLU(inplace=True)\n",
              "      (conv2): Conv2d(128, 128, kernel_size=(3, 3), stride=(1, 1), padding=(1, 1), bias=False)\n",
              "      (bn2): BatchNorm2d(128, eps=1e-05, momentum=0.1, affine=True, track_running_stats=True)\n",
              "    )\n",
              "    (3): BasicBlock(\n",
              "      (conv1): Conv2d(128, 128, kernel_size=(3, 3), stride=(1, 1), padding=(1, 1), bias=False)\n",
              "      (bn1): BatchNorm2d(128, eps=1e-05, momentum=0.1, affine=True, track_running_stats=True)\n",
              "      (relu): ReLU(inplace=True)\n",
              "      (conv2): Conv2d(128, 128, kernel_size=(3, 3), stride=(1, 1), padding=(1, 1), bias=False)\n",
              "      (bn2): BatchNorm2d(128, eps=1e-05, momentum=0.1, affine=True, track_running_stats=True)\n",
              "    )\n",
              "  )\n",
              "  (layer3): Sequential(\n",
              "    (0): BasicBlock(\n",
              "      (conv1): Conv2d(128, 256, kernel_size=(3, 3), stride=(2, 2), padding=(1, 1), bias=False)\n",
              "      (bn1): BatchNorm2d(256, eps=1e-05, momentum=0.1, affine=True, track_running_stats=True)\n",
              "      (relu): ReLU(inplace=True)\n",
              "      (conv2): Conv2d(256, 256, kernel_size=(3, 3), stride=(1, 1), padding=(1, 1), bias=False)\n",
              "      (bn2): BatchNorm2d(256, eps=1e-05, momentum=0.1, affine=True, track_running_stats=True)\n",
              "      (downsample): Sequential(\n",
              "        (0): Conv2d(128, 256, kernel_size=(1, 1), stride=(2, 2), bias=False)\n",
              "        (1): BatchNorm2d(256, eps=1e-05, momentum=0.1, affine=True, track_running_stats=True)\n",
              "      )\n",
              "    )\n",
              "    (1): BasicBlock(\n",
              "      (conv1): Conv2d(256, 256, kernel_size=(3, 3), stride=(1, 1), padding=(1, 1), bias=False)\n",
              "      (bn1): BatchNorm2d(256, eps=1e-05, momentum=0.1, affine=True, track_running_stats=True)\n",
              "      (relu): ReLU(inplace=True)\n",
              "      (conv2): Conv2d(256, 256, kernel_size=(3, 3), stride=(1, 1), padding=(1, 1), bias=False)\n",
              "      (bn2): BatchNorm2d(256, eps=1e-05, momentum=0.1, affine=True, track_running_stats=True)\n",
              "    )\n",
              "    (2): BasicBlock(\n",
              "      (conv1): Conv2d(256, 256, kernel_size=(3, 3), stride=(1, 1), padding=(1, 1), bias=False)\n",
              "      (bn1): BatchNorm2d(256, eps=1e-05, momentum=0.1, affine=True, track_running_stats=True)\n",
              "      (relu): ReLU(inplace=True)\n",
              "      (conv2): Conv2d(256, 256, kernel_size=(3, 3), stride=(1, 1), padding=(1, 1), bias=False)\n",
              "      (bn2): BatchNorm2d(256, eps=1e-05, momentum=0.1, affine=True, track_running_stats=True)\n",
              "    )\n",
              "    (3): BasicBlock(\n",
              "      (conv1): Conv2d(256, 256, kernel_size=(3, 3), stride=(1, 1), padding=(1, 1), bias=False)\n",
              "      (bn1): BatchNorm2d(256, eps=1e-05, momentum=0.1, affine=True, track_running_stats=True)\n",
              "      (relu): ReLU(inplace=True)\n",
              "      (conv2): Conv2d(256, 256, kernel_size=(3, 3), stride=(1, 1), padding=(1, 1), bias=False)\n",
              "      (bn2): BatchNorm2d(256, eps=1e-05, momentum=0.1, affine=True, track_running_stats=True)\n",
              "    )\n",
              "    (4): BasicBlock(\n",
              "      (conv1): Conv2d(256, 256, kernel_size=(3, 3), stride=(1, 1), padding=(1, 1), bias=False)\n",
              "      (bn1): BatchNorm2d(256, eps=1e-05, momentum=0.1, affine=True, track_running_stats=True)\n",
              "      (relu): ReLU(inplace=True)\n",
              "      (conv2): Conv2d(256, 256, kernel_size=(3, 3), stride=(1, 1), padding=(1, 1), bias=False)\n",
              "      (bn2): BatchNorm2d(256, eps=1e-05, momentum=0.1, affine=True, track_running_stats=True)\n",
              "    )\n",
              "    (5): BasicBlock(\n",
              "      (conv1): Conv2d(256, 256, kernel_size=(3, 3), stride=(1, 1), padding=(1, 1), bias=False)\n",
              "      (bn1): BatchNorm2d(256, eps=1e-05, momentum=0.1, affine=True, track_running_stats=True)\n",
              "      (relu): ReLU(inplace=True)\n",
              "      (conv2): Conv2d(256, 256, kernel_size=(3, 3), stride=(1, 1), padding=(1, 1), bias=False)\n",
              "      (bn2): BatchNorm2d(256, eps=1e-05, momentum=0.1, affine=True, track_running_stats=True)\n",
              "    )\n",
              "  )\n",
              "  (layer4): Sequential(\n",
              "    (0): BasicBlock(\n",
              "      (conv1): Conv2d(256, 512, kernel_size=(3, 3), stride=(2, 2), padding=(1, 1), bias=False)\n",
              "      (bn1): BatchNorm2d(512, eps=1e-05, momentum=0.1, affine=True, track_running_stats=True)\n",
              "      (relu): ReLU(inplace=True)\n",
              "      (conv2): Conv2d(512, 512, kernel_size=(3, 3), stride=(1, 1), padding=(1, 1), bias=False)\n",
              "      (bn2): BatchNorm2d(512, eps=1e-05, momentum=0.1, affine=True, track_running_stats=True)\n",
              "      (downsample): Sequential(\n",
              "        (0): Conv2d(256, 512, kernel_size=(1, 1), stride=(2, 2), bias=False)\n",
              "        (1): BatchNorm2d(512, eps=1e-05, momentum=0.1, affine=True, track_running_stats=True)\n",
              "      )\n",
              "    )\n",
              "    (1): BasicBlock(\n",
              "      (conv1): Conv2d(512, 512, kernel_size=(3, 3), stride=(1, 1), padding=(1, 1), bias=False)\n",
              "      (bn1): BatchNorm2d(512, eps=1e-05, momentum=0.1, affine=True, track_running_stats=True)\n",
              "      (relu): ReLU(inplace=True)\n",
              "      (conv2): Conv2d(512, 512, kernel_size=(3, 3), stride=(1, 1), padding=(1, 1), bias=False)\n",
              "      (bn2): BatchNorm2d(512, eps=1e-05, momentum=0.1, affine=True, track_running_stats=True)\n",
              "    )\n",
              "    (2): BasicBlock(\n",
              "      (conv1): Conv2d(512, 512, kernel_size=(3, 3), stride=(1, 1), padding=(1, 1), bias=False)\n",
              "      (bn1): BatchNorm2d(512, eps=1e-05, momentum=0.1, affine=True, track_running_stats=True)\n",
              "      (relu): ReLU(inplace=True)\n",
              "      (conv2): Conv2d(512, 512, kernel_size=(3, 3), stride=(1, 1), padding=(1, 1), bias=False)\n",
              "      (bn2): BatchNorm2d(512, eps=1e-05, momentum=0.1, affine=True, track_running_stats=True)\n",
              "    )\n",
              "  )\n",
              "  (avgpool): AdaptiveAvgPool2d(output_size=(1, 1))\n",
              "  (fc): Sequential(\n",
              "    (0): ReLU()\n",
              "    (1): Linear(in_features=512, out_features=2, bias=True)\n",
              "  )\n",
              ")"
            ]
          },
          "metadata": {},
          "execution_count": 7
        }
      ],
      "execution_count": 7
    },
    {
      "metadata": {
        "ExecuteTime": {
          "end_time": "2025-07-06T16:16:23.309703Z",
          "start_time": "2025-07-06T16:16:23.308219Z"
        },
        "id": "72a68efe2ead2646"
      },
      "cell_type": "code",
      "source": [
        "pqfile = './ice_cube_small/train_meta.parquet'\n",
        "path_batch = './ice_cube_small/train_2/'\n",
        "geometry = \"./ice_cube_small/sensor_geometry.csv\"\n",
        "\n",
        "batch_num=2\n",
        "lr = 1e-07\n",
        "num_epochs = 1\n",
        "batch_size = 16"
      ],
      "id": "72a68efe2ead2646",
      "outputs": [],
      "execution_count": 8
    },
    {
      "metadata": {
        "ExecuteTime": {
          "end_time": "2025-07-06T16:16:25.441362Z",
          "start_time": "2025-07-06T16:16:23.351803Z"
        },
        "id": "bbe3e68c48d8caab",
        "outputId": "4468fe5a-0048-4d24-fb35-6065035dc4e9",
        "colab": {
          "base_uri": "https://localhost:8080/"
        }
      },
      "cell_type": "code",
      "source": [
        "from torch.utils.data import DataLoader\n",
        "\n",
        "ice_dataset = IceCube_Dataloader(pqfile, path_batch, geometry, batch_num)\n",
        "train_dataset = ice_dataset\n",
        "train_dataloader = DataLoader(train_dataset, batch_size=batch_size, shuffle=True,collate_fn=collate_fn, num_workers=11)"
      ],
      "id": "bbe3e68c48d8caab",
      "outputs": [
        {
          "output_type": "stream",
          "name": "stderr",
          "text": [
            "/usr/local/lib/python3.11/dist-packages/torch/utils/data/dataloader.py:624: UserWarning: This DataLoader will create 11 worker processes in total. Our suggested max number of worker in current system is 2, which is smaller than what this DataLoader is going to create. Please be aware that excessive worker creation might get DataLoader running slow or even freeze, lower the worker number to avoid potential slowness/freeze if necessary.\n",
            "  warnings.warn(\n"
          ]
        }
      ],
      "execution_count": 9
    },
    {
      "metadata": {
        "ExecuteTime": {
          "end_time": "2025-07-06T16:16:25.663482Z",
          "start_time": "2025-07-06T16:16:25.647466Z"
        },
        "id": "e33c11e7a981baab"
      },
      "cell_type": "code",
      "source": [
        "device = torch.device('cuda' if torch.cuda.is_available() else 'cpu')\n",
        "\n",
        "model = model.to(device)"
      ],
      "id": "e33c11e7a981baab",
      "outputs": [],
      "execution_count": 10
    },
    {
      "metadata": {
        "id": "b46872ef155ba1ea"
      },
      "cell_type": "markdown",
      "source": [
        "## Testy resnet34"
      ],
      "id": "b46872ef155ba1ea"
    },
    {
      "metadata": {
        "ExecuteTime": {
          "end_time": "2025-07-06T16:16:26.334236Z",
          "start_time": "2025-07-06T16:16:25.895688Z"
        },
        "id": "8ae7714bff502ebd"
      },
      "cell_type": "code",
      "source": [
        "data_iter = iter(train_dataloader)"
      ],
      "id": "8ae7714bff502ebd",
      "outputs": [],
      "execution_count": 11
    },
    {
      "metadata": {
        "ExecuteTime": {
          "end_time": "2025-07-06T16:16:29.259947Z",
          "start_time": "2025-07-06T16:16:26.926527Z"
        },
        "id": "c302fe8c5286069d",
        "outputId": "ca7c70ab-cd24-4b8d-8654-0d9df7a0b89c",
        "colab": {
          "base_uri": "https://localhost:8080/"
        }
      },
      "cell_type": "code",
      "source": [
        "first_batch = next(data_iter)\n",
        "print(f\"input tensor shape: {first_batch['input_tensor'].shape}\")\n",
        "print(f\"label shape: {first_batch['label'].shape}\")\n",
        "input_tensor = first_batch['input_tensor']\n",
        "label = first_batch['label'].to(device)\n",
        "\n",
        "result = model(input_tensor.to(device))"
      ],
      "id": "c302fe8c5286069d",
      "outputs": [
        {
          "output_type": "stream",
          "name": "stdout",
          "text": [
            "input tensor shape: torch.Size([16, 5, 1, 40574])\n",
            "label shape: torch.Size([16, 2])\n"
          ]
        }
      ],
      "execution_count": 12
    },
    {
      "metadata": {
        "ExecuteTime": {
          "end_time": "2025-07-06T16:16:29.961523Z",
          "start_time": "2025-07-06T16:16:29.953001Z"
        },
        "id": "9cd5ba926293f16"
      },
      "cell_type": "code",
      "source": [
        "def compare(label, result):\n",
        "    assert label.shape == result.shape\n",
        "    x = label.shape[0]\n",
        "    for i in range(x):\n",
        "        print(f\"Correct: {label[i, :].detach().cpu().numpy()}, predicted: {result[i, :].detach().cpu().numpy()}\")"
      ],
      "id": "9cd5ba926293f16",
      "outputs": [],
      "execution_count": 13
    },
    {
      "metadata": {
        "ExecuteTime": {
          "end_time": "2025-07-06T16:16:30.560907Z",
          "start_time": "2025-07-06T16:16:30.548454Z"
        },
        "id": "28f394ab18e2196a",
        "outputId": "3a4d073e-40af-49c1-defb-f9129649f7c5",
        "colab": {
          "base_uri": "https://localhost:8080/"
        }
      },
      "cell_type": "code",
      "source": [
        "compare(label, result)"
      ],
      "id": "28f394ab18e2196a",
      "outputs": [
        {
          "output_type": "stream",
          "name": "stdout",
          "text": [
            "Correct: [1.3094674 1.4569385], predicted: [1.9432718 1.6211785]\n",
            "Correct: [0.36587763 1.5503592 ], predicted: [1.9411682 1.6222512]\n",
            "Correct: [5.411389  1.8956873], predicted: [1.941958 1.621888]\n",
            "Correct: [5.7976327 1.5299659], predicted: [1.9411438 1.6209106]\n",
            "Correct: [1.0795888 1.5558317], predicted: [1.9413433 1.6230792]\n",
            "Correct: [1.8193924 2.5666716], predicted: [1.9411912 1.6226771]\n",
            "Correct: [5.2632475 1.8062365], predicted: [1.9405515 1.6202055]\n",
            "Correct: [3.2348194 1.5699083], predicted: [1.9401101 1.6206259]\n",
            "Correct: [0.72465396 0.285989  ], predicted: [3.6687455 0.6533731]\n",
            "Correct: [2.964782  2.3667738], predicted: [1.9404315 1.6204098]\n",
            "Correct: [4.5529127  0.72191787], predicted: [1.93994   1.6219366]\n",
            "Correct: [4.4229364 1.1512367], predicted: [1.9417287 1.6219058]\n",
            "Correct: [1.2908477 2.0225742], predicted: [1.9406784 1.6214216]\n",
            "Correct: [5.1789494  0.67744726], predicted: [1.939674  1.6233948]\n",
            "Correct: [3.014161 2.541569], predicted: [1.9410517 1.6236253]\n",
            "Correct: [2.3294933 0.9398608], predicted: [1.9404054 1.6230084]\n"
          ]
        }
      ],
      "execution_count": 14
    },
    {
      "metadata": {
        "ExecuteTime": {
          "end_time": "2025-07-06T16:16:31.342245Z",
          "start_time": "2025-07-06T16:16:31.337642Z"
        },
        "id": "81fe8ebb7bdc94b6"
      },
      "cell_type": "code",
      "source": [
        "loss_function = nn.MSELoss().to(device)"
      ],
      "id": "81fe8ebb7bdc94b6",
      "outputs": [],
      "execution_count": 15
    },
    {
      "metadata": {
        "ExecuteTime": {
          "end_time": "2025-07-06T16:16:31.786803Z",
          "start_time": "2025-07-06T16:16:31.777159Z"
        },
        "id": "845ab950f43541cb",
        "outputId": "f8bff0ad-ad96-4308-e2c7-599dcf46fca1",
        "colab": {
          "base_uri": "https://localhost:8080/"
        }
      },
      "cell_type": "code",
      "source": [
        "temp = loss_function(result.float(),label.float())\n",
        "print(temp)"
      ],
      "id": "845ab950f43541cb",
      "outputs": [
        {
          "output_type": "stream",
          "name": "stdout",
          "text": [
            "tensor(2.6038, device='cuda:0', grad_fn=<MseLossBackward0>)\n"
          ]
        }
      ],
      "execution_count": 16
    },
    {
      "metadata": {
        "ExecuteTime": {
          "end_time": "2025-07-06T16:16:32.146920Z",
          "start_time": "2025-07-06T16:16:32.114674Z"
        },
        "id": "a687e83fcb1abb8d",
        "outputId": "addb5f8b-da6c-48dd-9614-bdf5149f70da",
        "colab": {
          "base_uri": "https://localhost:8080/"
        }
      },
      "cell_type": "code",
      "source": [
        "first_batch = next(data_iter)\n",
        "print(f\"input tensor shape: {first_batch['input_tensor'].shape}\")\n",
        "print(f\"label shape: {first_batch['label'].shape}\")\n",
        "input_tensor = first_batch['input_tensor']\n",
        "label = first_batch['label']\n",
        "\n",
        "result = model(input_tensor.to(device))"
      ],
      "id": "a687e83fcb1abb8d",
      "outputs": [
        {
          "output_type": "stream",
          "name": "stdout",
          "text": [
            "input tensor shape: torch.Size([16, 5, 1, 87])\n",
            "label shape: torch.Size([16, 2])\n"
          ]
        }
      ],
      "execution_count": 17
    },
    {
      "metadata": {
        "ExecuteTime": {
          "end_time": "2025-07-06T16:16:32.457084Z",
          "start_time": "2025-07-06T16:16:32.452504Z"
        },
        "id": "63b735cc11418932",
        "outputId": "eae9ce98-cb2e-48b2-f40c-c8c808f9edc7",
        "colab": {
          "base_uri": "https://localhost:8080/"
        }
      },
      "cell_type": "code",
      "source": [
        "compare(label, result)"
      ],
      "id": "63b735cc11418932",
      "outputs": [
        {
          "output_type": "stream",
          "name": "stdout",
          "text": [
            "Correct: [3.459777  1.0682106], predicted: [2.025123  1.5202724]\n",
            "Correct: [1.8965435 2.0491993], predicted: [1.9362049 1.9598775]\n",
            "Correct: [6.0062175 1.214638 ], predicted: [2.1355457 1.4227744]\n",
            "Correct: [5.0591354 2.562436 ], predicted: [1.8409942 1.1934471]\n",
            "Correct: [2.7769141 2.2501485], predicted: [1.6435096 1.0314233]\n",
            "Correct: [4.1755357 2.4943383], predicted: [1.9298915 1.6124675]\n",
            "Correct: [0.8983815 2.4185522], predicted: [2.059038  1.3018634]\n",
            "Correct: [0.64708006 3.1011517 ], predicted: [1.7246006 1.3444332]\n",
            "Correct: [3.8278003 1.8901063], predicted: [4.9470963 3.0149207]\n",
            "Correct: [5.2179646 2.4562387], predicted: [1.6819674 1.4781722]\n",
            "Correct: [0.8872316 2.9614713], predicted: [1.6635889 1.2632991]\n",
            "Correct: [0.21549904 2.1214628 ], predicted: [2.025532  1.0502092]\n",
            "Correct: [1.1592255 0.6585343], predicted: [1.9453425 1.2881979]\n",
            "Correct: [1.6390312 1.1765193], predicted: [1.8530283 1.4088856]\n",
            "Correct: [3.0633292 1.3302373], predicted: [1.6013156 1.3908365]\n",
            "Correct: [1.7164711 2.3940482], predicted: [2.0105517 1.1649246]\n"
          ]
        }
      ],
      "execution_count": 18
    },
    {
      "metadata": {
        "ExecuteTime": {
          "end_time": "2025-07-06T16:16:32.807001Z",
          "start_time": "2025-07-06T16:16:32.793133Z"
        },
        "id": "10196cbc62c703cb",
        "outputId": "1dce99db-8a1d-46d1-fe99-c9b702c21131",
        "colab": {
          "base_uri": "https://localhost:8080/"
        }
      },
      "cell_type": "code",
      "source": [
        "first_batch = next(data_iter)\n",
        "print(f\"input tensor shape: {first_batch['input_tensor'].shape}\")\n",
        "print(f\"label shape: {first_batch['label'].shape}\")\n",
        "input_tensor = first_batch['input_tensor']\n",
        "label = first_batch['label']\n",
        "\n",
        "result = model(input_tensor.to(device))"
      ],
      "id": "10196cbc62c703cb",
      "outputs": [
        {
          "output_type": "stream",
          "name": "stdout",
          "text": [
            "input tensor shape: torch.Size([16, 5, 1, 2409])\n",
            "label shape: torch.Size([16, 2])\n"
          ]
        }
      ],
      "execution_count": 19
    },
    {
      "metadata": {
        "ExecuteTime": {
          "end_time": "2025-07-06T16:16:33.113968Z",
          "start_time": "2025-07-06T16:16:33.110260Z"
        },
        "id": "ac1157ca44103108",
        "outputId": "04e75f00-da52-422c-f85a-d557e564da65",
        "colab": {
          "base_uri": "https://localhost:8080/"
        }
      },
      "cell_type": "code",
      "source": [
        "compare(label, result)"
      ],
      "id": "ac1157ca44103108",
      "outputs": [
        {
          "output_type": "stream",
          "name": "stdout",
          "text": [
            "Correct: [5.846696  1.0036911], predicted: [1.9564414 1.5924405]\n",
            "Correct: [4.963914  1.3950213], predicted: [1.9518012 1.6207334]\n",
            "Correct: [0.30117077 2.9755213 ], predicted: [1.9658602 1.6087359]\n",
            "Correct: [4.846968  1.8835764], predicted: [1.9299997 1.5993016]\n",
            "Correct: [4.8862076 1.4305174], predicted: [1.9341797 1.6113985]\n",
            "Correct: [2.9433856 1.919053 ], predicted: [1.966276  1.5960418]\n",
            "Correct: [1.0093726  0.67742234], predicted: [1.9543483 1.6130077]\n",
            "Correct: [1.238611   0.78068054], predicted: [1.9613844 1.6160866]\n",
            "Correct: [4.3170137 2.7322807], predicted: [1.9983773 1.524832 ]\n",
            "Correct: [1.0910524 2.373707 ], predicted: [1.9363049 1.5919145]\n",
            "Correct: [3.950419 1.004591], predicted: [1.9596314 1.6064517]\n",
            "Correct: [5.4312453 0.7021807], predicted: [1.9457814 1.6259936]\n",
            "Correct: [5.3268723 1.8123881], predicted: [1.9667528 1.5866517]\n",
            "Correct: [1.959383   0.35959575], predicted: [2.3481586 1.4557797]\n",
            "Correct: [1.0658724 1.3521875], predicted: [1.9748458 1.6424314]\n",
            "Correct: [2.981863  0.9433288], predicted: [1.9523038 1.619377 ]\n"
          ]
        }
      ],
      "execution_count": 20
    },
    {
      "metadata": {
        "ExecuteTime": {
          "end_time": "2025-07-06T16:16:33.465187Z",
          "start_time": "2025-07-06T16:16:33.452789Z"
        },
        "id": "8b2d677c86a195d7",
        "outputId": "e63fb91d-ea02-4822-8945-3a13895c67f8",
        "colab": {
          "base_uri": "https://localhost:8080/"
        }
      },
      "cell_type": "code",
      "source": [
        "first_batch = next(data_iter)\n",
        "print(f\"input tensor shape: {first_batch['input_tensor'].shape}\")\n",
        "print(f\"label shape: {first_batch['label'].shape}\")\n",
        "input_tensor = first_batch['input_tensor']\n",
        "label = first_batch['label']\n",
        "\n",
        "result = model(input_tensor.to(device))"
      ],
      "id": "8b2d677c86a195d7",
      "outputs": [
        {
          "output_type": "stream",
          "name": "stdout",
          "text": [
            "input tensor shape: torch.Size([16, 5, 1, 268])\n",
            "label shape: torch.Size([16, 2])\n"
          ]
        }
      ],
      "execution_count": 21
    },
    {
      "metadata": {
        "ExecuteTime": {
          "end_time": "2025-07-06T16:16:33.772565Z",
          "start_time": "2025-07-06T16:16:33.768058Z"
        },
        "id": "7b2be20632ad619b",
        "outputId": "9510c611-6220-4fc1-dbf3-8a2c20090d0f",
        "colab": {
          "base_uri": "https://localhost:8080/"
        }
      },
      "cell_type": "code",
      "source": [
        "compare(label, result)"
      ],
      "id": "7b2be20632ad619b",
      "outputs": [
        {
          "output_type": "stream",
          "name": "stdout",
          "text": [
            "Correct: [3.8900733 1.3383378], predicted: [1.9009842 1.983601 ]\n",
            "Correct: [0.2592983 0.8145929], predicted: [1.9570266 1.4739395]\n",
            "Correct: [1.1266407 2.2128787], predicted: [2.099933  1.6622244]\n",
            "Correct: [4.757131 1.058703], predicted: [2.0786493 1.5422083]\n",
            "Correct: [1.1738256  0.78702754], predicted: [2.0022016 1.6516429]\n",
            "Correct: [2.919115  1.9410143], predicted: [1.9552468 1.4906499]\n",
            "Correct: [4.6207466 2.3161418], predicted: [1.9363837 1.507259 ]\n",
            "Correct: [4.774466  0.9987993], predicted: [2.117752  1.3428289]\n",
            "Correct: [6.1110344 1.9807669], predicted: [1.9070133 1.1122407]\n",
            "Correct: [2.6108336 1.0625534], predicted: [2.065164  1.5637841]\n",
            "Correct: [3.957771  1.0070096], predicted: [2.124651  1.5330368]\n",
            "Correct: [2.6726668 2.0410895], predicted: [2.0424116 1.4704512]\n",
            "Correct: [0.36459857 2.63065   ], predicted: [1.7399807 1.2873743]\n",
            "Correct: [5.3023014 1.2770613], predicted: [2.866778  1.0045829]\n",
            "Correct: [0.68817836 0.8749787 ], predicted: [2.0466657 1.5297725]\n",
            "Correct: [1.3919259 1.0635272], predicted: [1.6045063  0.95803744]\n"
          ]
        }
      ],
      "execution_count": 22
    },
    {
      "metadata": {
        "ExecuteTime": {
          "end_time": "2025-07-06T16:16:34.382644Z",
          "start_time": "2025-07-06T16:16:34.107566Z"
        },
        "id": "3c988e5542fb0fed",
        "outputId": "6d82ce42-7ca2-4b77-dd7f-ed3dde0b0819",
        "colab": {
          "base_uri": "https://localhost:8080/",
          "height": 470
        }
      },
      "cell_type": "code",
      "source": [
        "import pickle\n",
        "\n",
        "with open('./iceCube_result/results/losses_2025-07-06_16:43:54.pickle', 'rb') as f:\n",
        "    data = pickle.load(f)\n",
        "\n",
        "plt.figure()\n",
        "plt.title(\"Funkcja straty dla zbioru uczącego\")\n",
        "plt.plot(data)"
      ],
      "id": "3c988e5542fb0fed",
      "outputs": [
        {
          "output_type": "execute_result",
          "data": {
            "text/plain": [
              "[<matplotlib.lines.Line2D at 0x7ecbc64d4e50>]"
            ]
          },
          "metadata": {},
          "execution_count": 25
        },
        {
          "output_type": "display_data",
          "data": {
            "text/plain": [
              "<Figure size 640x480 with 1 Axes>"
            ],
            "image/png": "[encoded data removed]"
          },
          "metadata": {}
        }
      ],
      "execution_count": 25
    },
    {
      "metadata": {
        "ExecuteTime": {
          "end_time": "2025-07-06T16:16:34.755553Z",
          "start_time": "2025-07-06T16:16:34.654304Z"
        },
        "id": "f425654c5fbab26a",
        "outputId": "844c093e-ad34-4454-82b6-9e0cf5df677c",
        "colab": {
          "base_uri": "https://localhost:8080/",
          "height": 470
        }
      },
      "cell_type": "code",
      "source": [
        "with open('./iceCube_result/results/val_losses_2025-07-06_16:43:54.pickle', 'rb') as f:\n",
        "    data = pickle.load(f)\n",
        "\n",
        "plt.figure()\n",
        "plt.title(\"Funkcja straty dla zbioru walidacyjnego\")\n",
        "plt.plot(data)"
      ],
      "id": "f425654c5fbab26a",
      "outputs": [
        {
          "output_type": "execute_result",
          "data": {
            "text/plain": [
              "[<matplotlib.lines.Line2D at 0x7ecbd9cd7910>]"
            ]
          },
          "metadata": {},
          "execution_count": 26
        },
        {
          "output_type": "display_data",
          "data": {
            "text/plain": [
              "<Figure size 640x480 with 1 Axes>"
            ],
            "image/png": "[encoded data removed]"
          },
          "metadata": {}
        }
      ],
      "execution_count": 26
    },
    {
      "metadata": {
        "ExecuteTime": {
          "end_time": "2025-07-06T16:16:35.032840Z",
          "start_time": "2025-07-06T16:16:35.030993Z"
        },
        "id": "6e80941bd65c3cb0"
      },
      "cell_type": "code",
      "source": [
        "def angles_to_unit_vector(angle_array):\n",
        "    azimuth = angle_array[:, 0]\n",
        "    zenith = angle_array[:, 1]\n",
        "\n",
        "    x = np.sin(zenith) * np.cos(azimuth)\n",
        "    y = np.sin(zenith) * np.sin(azimuth)\n",
        "    z = np.cos(zenith)\n",
        "\n",
        "    return np.stack([x, y, z], axis=1)"
      ],
      "id": "6e80941bd65c3cb0",
      "outputs": [],
      "execution_count": 27
    },
    {
      "metadata": {
        "ExecuteTime": {
          "end_time": "2025-07-06T16:16:54.526626Z",
          "start_time": "2025-07-06T16:16:35.302942Z"
        },
        "id": "e8dd08615f3fc33a",
        "outputId": "d3abb8f8-ae8b-479c-e5db-100bb06dfa81",
        "colab": {
          "base_uri": "https://localhost:8080/"
        }
      },
      "cell_type": "code",
      "source": [
        "import numpy as np\n",
        "\n",
        "num_of_examples = 100\n",
        "losses_ = []\n",
        "residual_cache = []\n",
        "loss_total = 0.\n",
        "\n",
        "for i in range(num_of_examples):\n",
        "    example = next(data_iter)\n",
        "    input_tensor = example['input_tensor'].to(device)\n",
        "    label = example['label'].to(device)\n",
        "\n",
        "    result = model(input_tensor)\n",
        "\n",
        "    loss_value = loss_function(result.float().cpu(),label.float().cpu())\n",
        "    losses_.append(loss_value.item())\n",
        "\n",
        "    temp_result = angles_to_unit_vector(result.cpu().detach().numpy())\n",
        "    temp_label = angles_to_unit_vector(label.cpu().detach().numpy())\n",
        "\n",
        "    temp_ = np.clip(np.sum(temp_result * temp_label, axis=1), -1, 1)\n",
        "    residuals = np.degrees(np.arccos(temp_))\n",
        "    residual_cache.append(residuals.mean())\n",
        "\n",
        "print(f\"average loss: {np.mean(losses_)}\")\n",
        "print(f\"Median loss: {np.median(losses_)} \")"
      ],
      "id": "e8dd08615f3fc33a",
      "outputs": [
        {
          "output_type": "stream",
          "name": "stdout",
          "text": [
            "average loss: 4.2651323330402375\n",
            "Median loss: 2.915509343147278 \n"
          ]
        }
      ],
      "execution_count": 28
    },
    {
      "metadata": {
        "id": "3ea4e445f3d04429"
      },
      "cell_type": "markdown",
      "source": [
        "## Residuum"
      ],
      "id": "3ea4e445f3d04429"
    },
    {
      "metadata": {
        "ExecuteTime": {
          "end_time": "2025-07-06T16:16:55.196152Z",
          "start_time": "2025-07-06T16:16:55.192065Z"
        },
        "id": "7267718d7c2fe437",
        "outputId": "79204437-7aab-4732-ea97-3b200906b7b1",
        "colab": {
          "base_uri": "https://localhost:8080/"
        }
      },
      "cell_type": "code",
      "source": [
        "residual_ = np.array(residual_cache)\n",
        "# residual_ = residual_.reshape(-1)\n",
        "print(residual_.shape)"
      ],
      "id": "7267718d7c2fe437",
      "outputs": [
        {
          "output_type": "stream",
          "name": "stdout",
          "text": [
            "(100,)\n"
          ]
        }
      ],
      "execution_count": 29
    },
    {
      "metadata": {
        "ExecuteTime": {
          "end_time": "2025-07-06T16:16:55.878564Z",
          "start_time": "2025-07-06T16:16:55.795133Z"
        },
        "id": "a3674757a093ef66",
        "outputId": "ff038310-d84d-4761-c487-07eff75aaf4f",
        "colab": {
          "base_uri": "https://localhost:8080/",
          "height": 452
        }
      },
      "cell_type": "code",
      "source": [
        "plt.figure()\n",
        "plt.plot(residual_)\n",
        "plt.title(\"Residuum\")\n",
        "plt.show()"
      ],
      "id": "a3674757a093ef66",
      "outputs": [
        {
          "output_type": "display_data",
          "data": {
            "text/plain": [
              "<Figure size 640x480 with 1 Axes>"
            ],
            "image/png": "[encoded data removed]"
          },
          "metadata": {}
        }
      ],
      "execution_count": 30
    },
    {
      "metadata": {
        "ExecuteTime": {
          "end_time": "2025-07-06T16:16:56.460224Z",
          "start_time": "2025-07-06T16:16:56.456850Z"
        },
        "id": "f6ddbac8484de4fe"
      },
      "cell_type": "code",
      "source": [],
      "id": "f6ddbac8484de4fe",
      "outputs": [],
      "execution_count": 30
    }
  ],
  "metadata": {
    "kernelspec": {
      "display_name": "Python 3",
      "name": "python3"
    },
    "language_info": {
      "codemirror_mode": {
        "name": "ipython",
        "version": 2
      },
      "file_extension": ".py",
      "mimetype": "text/x-python",
      "name": "python",
      "nbconvert_exporter": "python",
      "pygments_lexer": "ipython2",
      "version": "2.7.6"
    },
    "colab": {
      "provenance": [],
      "gpuType": "T4"
    },
    "accelerator": "GPU"
  },
  "nbformat": 4,
  "nbformat_minor": 5
}