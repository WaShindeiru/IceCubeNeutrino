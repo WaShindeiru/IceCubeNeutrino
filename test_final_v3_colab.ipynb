{
 "cells": [
  {
   "metadata": {},
   "cell_type": "code",
   "outputs": [],
   "execution_count": null,
   "source": "!git clone https://github.com/WaShindeiru/IceCubeNeutrino",
   "id": "48ff35e63fdf238d"
  },
  {
   "metadata": {},
   "cell_type": "code",
   "outputs": [],
   "execution_count": null,
   "source": "!cp -r IceCubeNeutrino/* .",
   "id": "c9120ce404b1e479"
  },
  {
   "metadata": {},
   "cell_type": "code",
   "outputs": [],
   "execution_count": null,
   "source": [
    "from google.colab import drive\n",
    "drive.mount('/content/drive')"
   ],
   "id": "8ddb8bf434ffc847"
  },
  {
   "metadata": {},
   "cell_type": "code",
   "outputs": [],
   "execution_count": null,
   "source": "!unzip ./drive/MyDrive/icecube/ice_cube_small.zip",
   "id": "1716994e38cc5685"
  },
  {
   "metadata": {},
   "cell_type": "code",
   "outputs": [],
   "execution_count": null,
   "source": "!unzip ./drive/MyDrive/icecube/iceCube_result.zip",
   "id": "8380eaf0a3b83798"
  },
  {
   "cell_type": "code",
   "id": "initial_id",
   "metadata": {
    "collapsed": true,
    "ExecuteTime": {
     "end_time": "2025-07-06T16:16:22.962753Z",
     "start_time": "2025-07-06T16:16:22.150956Z"
    }
   },
   "source": [
    "import matplotlib.pyplot as plt\n",
    "import torch\n",
    "import torch.nn as nn\n",
    "\n",
    "from Resnet import resnet34\n",
    "from Icecube_Dataloader import IceCube_Dataloader, collate_fn"
   ],
   "outputs": [],
   "execution_count": 1
  },
  {
   "metadata": {
    "ExecuteTime": {
     "end_time": "2025-07-06T16:16:23.299771Z",
     "start_time": "2025-07-06T16:16:23.015289Z"
    }
   },
   "cell_type": "code",
   "source": [
    "model = resnet34(pretrained = False)\n",
    "model.fc = nn.Sequential(nn.ReLU(),nn.Linear(in_features=512, out_features=2)) # Changed FC layer for our task\n",
    "model.load_state_dict(torch.load(\"./weights/model_34_2025-07-06_16:43:54.pth\", weights_only=True))\n",
    "model.eval()"
   ],
   "id": "f2c18296b5ccfb59",
   "outputs": [
    {
     "data": {
      "text/plain": [
       "ResNet(\n",
       "  (conv1): Conv2d(5, 64, kernel_size=(7, 7), stride=(2, 2), padding=(3, 3), bias=False)\n",
       "  (bn1): BatchNorm2d(64, eps=1e-05, momentum=0.1, affine=True, track_running_stats=True)\n",
       "  (relu): ReLU(inplace=True)\n",
       "  (maxpool): MaxPool2d(kernel_size=3, stride=2, padding=1, dilation=1, ceil_mode=False)\n",
       "  (layer1): Sequential(\n",
       "    (0): BasicBlock(\n",
       "      (conv1): Conv2d(64, 64, kernel_size=(3, 3), stride=(1, 1), padding=(1, 1), bias=False)\n",
       "      (bn1): BatchNorm2d(64, eps=1e-05, momentum=0.1, affine=True, track_running_stats=True)\n",
       "      (relu): ReLU(inplace=True)\n",
       "      (conv2): Conv2d(64, 64, kernel_size=(3, 3), stride=(1, 1), padding=(1, 1), bias=False)\n",
       "      (bn2): BatchNorm2d(64, eps=1e-05, momentum=0.1, affine=True, track_running_stats=True)\n",
       "    )\n",
       "    (1): BasicBlock(\n",
       "      (conv1): Conv2d(64, 64, kernel_size=(3, 3), stride=(1, 1), padding=(1, 1), bias=False)\n",
       "      (bn1): BatchNorm2d(64, eps=1e-05, momentum=0.1, affine=True, track_running_stats=True)\n",
       "      (relu): ReLU(inplace=True)\n",
       "      (conv2): Conv2d(64, 64, kernel_size=(3, 3), stride=(1, 1), padding=(1, 1), bias=False)\n",
       "      (bn2): BatchNorm2d(64, eps=1e-05, momentum=0.1, affine=True, track_running_stats=True)\n",
       "    )\n",
       "    (2): BasicBlock(\n",
       "      (conv1): Conv2d(64, 64, kernel_size=(3, 3), stride=(1, 1), padding=(1, 1), bias=False)\n",
       "      (bn1): BatchNorm2d(64, eps=1e-05, momentum=0.1, affine=True, track_running_stats=True)\n",
       "      (relu): ReLU(inplace=True)\n",
       "      (conv2): Conv2d(64, 64, kernel_size=(3, 3), stride=(1, 1), padding=(1, 1), bias=False)\n",
       "      (bn2): BatchNorm2d(64, eps=1e-05, momentum=0.1, affine=True, track_running_stats=True)\n",
       "    )\n",
       "  )\n",
       "  (layer2): Sequential(\n",
       "    (0): BasicBlock(\n",
       "      (conv1): Conv2d(64, 128, kernel_size=(3, 3), stride=(2, 2), padding=(1, 1), bias=False)\n",
       "      (bn1): BatchNorm2d(128, eps=1e-05, momentum=0.1, affine=True, track_running_stats=True)\n",
       "      (relu): ReLU(inplace=True)\n",
       "      (conv2): Conv2d(128, 128, kernel_size=(3, 3), stride=(1, 1), padding=(1, 1), bias=False)\n",
       "      (bn2): BatchNorm2d(128, eps=1e-05, momentum=0.1, affine=True, track_running_stats=True)\n",
       "      (downsample): Sequential(\n",
       "        (0): Conv2d(64, 128, kernel_size=(1, 1), stride=(2, 2), bias=False)\n",
       "        (1): BatchNorm2d(128, eps=1e-05, momentum=0.1, affine=True, track_running_stats=True)\n",
       "      )\n",
       "    )\n",
       "    (1): BasicBlock(\n",
       "      (conv1): Conv2d(128, 128, kernel_size=(3, 3), stride=(1, 1), padding=(1, 1), bias=False)\n",
       "      (bn1): BatchNorm2d(128, eps=1e-05, momentum=0.1, affine=True, track_running_stats=True)\n",
       "      (relu): ReLU(inplace=True)\n",
       "      (conv2): Conv2d(128, 128, kernel_size=(3, 3), stride=(1, 1), padding=(1, 1), bias=False)\n",
       "      (bn2): BatchNorm2d(128, eps=1e-05, momentum=0.1, affine=True, track_running_stats=True)\n",
       "    )\n",
       "    (2): BasicBlock(\n",
       "      (conv1): Conv2d(128, 128, kernel_size=(3, 3), stride=(1, 1), padding=(1, 1), bias=False)\n",
       "      (bn1): BatchNorm2d(128, eps=1e-05, momentum=0.1, affine=True, track_running_stats=True)\n",
       "      (relu): ReLU(inplace=True)\n",
       "      (conv2): Conv2d(128, 128, kernel_size=(3, 3), stride=(1, 1), padding=(1, 1), bias=False)\n",
       "      (bn2): BatchNorm2d(128, eps=1e-05, momentum=0.1, affine=True, track_running_stats=True)\n",
       "    )\n",
       "    (3): BasicBlock(\n",
       "      (conv1): Conv2d(128, 128, kernel_size=(3, 3), stride=(1, 1), padding=(1, 1), bias=False)\n",
       "      (bn1): BatchNorm2d(128, eps=1e-05, momentum=0.1, affine=True, track_running_stats=True)\n",
       "      (relu): ReLU(inplace=True)\n",
       "      (conv2): Conv2d(128, 128, kernel_size=(3, 3), stride=(1, 1), padding=(1, 1), bias=False)\n",
       "      (bn2): BatchNorm2d(128, eps=1e-05, momentum=0.1, affine=True, track_running_stats=True)\n",
       "    )\n",
       "  )\n",
       "  (layer3): Sequential(\n",
       "    (0): BasicBlock(\n",
       "      (conv1): Conv2d(128, 256, kernel_size=(3, 3), stride=(2, 2), padding=(1, 1), bias=False)\n",
       "      (bn1): BatchNorm2d(256, eps=1e-05, momentum=0.1, affine=True, track_running_stats=True)\n",
       "      (relu): ReLU(inplace=True)\n",
       "      (conv2): Conv2d(256, 256, kernel_size=(3, 3), stride=(1, 1), padding=(1, 1), bias=False)\n",
       "      (bn2): BatchNorm2d(256, eps=1e-05, momentum=0.1, affine=True, track_running_stats=True)\n",
       "      (downsample): Sequential(\n",
       "        (0): Conv2d(128, 256, kernel_size=(1, 1), stride=(2, 2), bias=False)\n",
       "        (1): BatchNorm2d(256, eps=1e-05, momentum=0.1, affine=True, track_running_stats=True)\n",
       "      )\n",
       "    )\n",
       "    (1): BasicBlock(\n",
       "      (conv1): Conv2d(256, 256, kernel_size=(3, 3), stride=(1, 1), padding=(1, 1), bias=False)\n",
       "      (bn1): BatchNorm2d(256, eps=1e-05, momentum=0.1, affine=True, track_running_stats=True)\n",
       "      (relu): ReLU(inplace=True)\n",
       "      (conv2): Conv2d(256, 256, kernel_size=(3, 3), stride=(1, 1), padding=(1, 1), bias=False)\n",
       "      (bn2): BatchNorm2d(256, eps=1e-05, momentum=0.1, affine=True, track_running_stats=True)\n",
       "    )\n",
       "    (2): BasicBlock(\n",
       "      (conv1): Conv2d(256, 256, kernel_size=(3, 3), stride=(1, 1), padding=(1, 1), bias=False)\n",
       "      (bn1): BatchNorm2d(256, eps=1e-05, momentum=0.1, affine=True, track_running_stats=True)\n",
       "      (relu): ReLU(inplace=True)\n",
       "      (conv2): Conv2d(256, 256, kernel_size=(3, 3), stride=(1, 1), padding=(1, 1), bias=False)\n",
       "      (bn2): BatchNorm2d(256, eps=1e-05, momentum=0.1, affine=True, track_running_stats=True)\n",
       "    )\n",
       "    (3): BasicBlock(\n",
       "      (conv1): Conv2d(256, 256, kernel_size=(3, 3), stride=(1, 1), padding=(1, 1), bias=False)\n",
       "      (bn1): BatchNorm2d(256, eps=1e-05, momentum=0.1, affine=True, track_running_stats=True)\n",
       "      (relu): ReLU(inplace=True)\n",
       "      (conv2): Conv2d(256, 256, kernel_size=(3, 3), stride=(1, 1), padding=(1, 1), bias=False)\n",
       "      (bn2): BatchNorm2d(256, eps=1e-05, momentum=0.1, affine=True, track_running_stats=True)\n",
       "    )\n",
       "    (4): BasicBlock(\n",
       "      (conv1): Conv2d(256, 256, kernel_size=(3, 3), stride=(1, 1), padding=(1, 1), bias=False)\n",
       "      (bn1): BatchNorm2d(256, eps=1e-05, momentum=0.1, affine=True, track_running_stats=True)\n",
       "      (relu): ReLU(inplace=True)\n",
       "      (conv2): Conv2d(256, 256, kernel_size=(3, 3), stride=(1, 1), padding=(1, 1), bias=False)\n",
       "      (bn2): BatchNorm2d(256, eps=1e-05, momentum=0.1, affine=True, track_running_stats=True)\n",
       "    )\n",
       "    (5): BasicBlock(\n",
       "      (conv1): Conv2d(256, 256, kernel_size=(3, 3), stride=(1, 1), padding=(1, 1), bias=False)\n",
       "      (bn1): BatchNorm2d(256, eps=1e-05, momentum=0.1, affine=True, track_running_stats=True)\n",
       "      (relu): ReLU(inplace=True)\n",
       "      (conv2): Conv2d(256, 256, kernel_size=(3, 3), stride=(1, 1), padding=(1, 1), bias=False)\n",
       "      (bn2): BatchNorm2d(256, eps=1e-05, momentum=0.1, affine=True, track_running_stats=True)\n",
       "    )\n",
       "  )\n",
       "  (layer4): Sequential(\n",
       "    (0): BasicBlock(\n",
       "      (conv1): Conv2d(256, 512, kernel_size=(3, 3), stride=(2, 2), padding=(1, 1), bias=False)\n",
       "      (bn1): BatchNorm2d(512, eps=1e-05, momentum=0.1, affine=True, track_running_stats=True)\n",
       "      (relu): ReLU(inplace=True)\n",
       "      (conv2): Conv2d(512, 512, kernel_size=(3, 3), stride=(1, 1), padding=(1, 1), bias=False)\n",
       "      (bn2): BatchNorm2d(512, eps=1e-05, momentum=0.1, affine=True, track_running_stats=True)\n",
       "      (downsample): Sequential(\n",
       "        (0): Conv2d(256, 512, kernel_size=(1, 1), stride=(2, 2), bias=False)\n",
       "        (1): BatchNorm2d(512, eps=1e-05, momentum=0.1, affine=True, track_running_stats=True)\n",
       "      )\n",
       "    )\n",
       "    (1): BasicBlock(\n",
       "      (conv1): Conv2d(512, 512, kernel_size=(3, 3), stride=(1, 1), padding=(1, 1), bias=False)\n",
       "      (bn1): BatchNorm2d(512, eps=1e-05, momentum=0.1, affine=True, track_running_stats=True)\n",
       "      (relu): ReLU(inplace=True)\n",
       "      (conv2): Conv2d(512, 512, kernel_size=(3, 3), stride=(1, 1), padding=(1, 1), bias=False)\n",
       "      (bn2): BatchNorm2d(512, eps=1e-05, momentum=0.1, affine=True, track_running_stats=True)\n",
       "    )\n",
       "    (2): BasicBlock(\n",
       "      (conv1): Conv2d(512, 512, kernel_size=(3, 3), stride=(1, 1), padding=(1, 1), bias=False)\n",
       "      (bn1): BatchNorm2d(512, eps=1e-05, momentum=0.1, affine=True, track_running_stats=True)\n",
       "      (relu): ReLU(inplace=True)\n",
       "      (conv2): Conv2d(512, 512, kernel_size=(3, 3), stride=(1, 1), padding=(1, 1), bias=False)\n",
       "      (bn2): BatchNorm2d(512, eps=1e-05, momentum=0.1, affine=True, track_running_stats=True)\n",
       "    )\n",
       "  )\n",
       "  (avgpool): AdaptiveAvgPool2d(output_size=(1, 1))\n",
       "  (fc): Sequential(\n",
       "    (0): ReLU()\n",
       "    (1): Linear(in_features=512, out_features=2, bias=True)\n",
       "  )\n",
       ")"
      ]
     },
     "execution_count": 2,
     "metadata": {},
     "output_type": "execute_result"
    }
   ],
   "execution_count": 2
  },
  {
   "metadata": {
    "ExecuteTime": {
     "end_time": "2025-07-06T16:16:23.309703Z",
     "start_time": "2025-07-06T16:16:23.308219Z"
    }
   },
   "cell_type": "code",
   "source": [
    "pqfile = '/home/washindeiru/primaryDrive/iceCube/icecube-neutrinos-in-deep-ice/train_meta.parquet'\n",
    "path_batch = '/home/washindeiru/primaryDrive/iceCube/icecube-neutrinos-in-deep-ice/train/'\n",
    "geometry = \"/home/washindeiru/primaryDrive/iceCube/icecube-neutrinos-in-deep-ice/sensor_geometry.csv\"\n",
    "\n",
    "batch_num=2\n",
    "lr = 1e-06\n",
    "num_epochs = 1\n",
    "batch_size = 16"
   ],
   "id": "72a68efe2ead2646",
   "outputs": [],
   "execution_count": 3
  },
  {
   "metadata": {
    "ExecuteTime": {
     "end_time": "2025-07-06T16:16:25.441362Z",
     "start_time": "2025-07-06T16:16:23.351803Z"
    }
   },
   "cell_type": "code",
   "source": [
    "from torch.utils.data import DataLoader\n",
    "\n",
    "ice_dataset = IceCube_Dataloader(pqfile, path_batch, geometry, batch_num)\n",
    "train_dataset = ice_dataset\n",
    "train_dataloader = DataLoader(train_dataset, batch_size=batch_size, shuffle=True,collate_fn=collate_fn, num_workers=11)"
   ],
   "id": "bbe3e68c48d8caab",
   "outputs": [],
   "execution_count": 4
  },
  {
   "metadata": {
    "ExecuteTime": {
     "end_time": "2025-07-06T16:16:25.663482Z",
     "start_time": "2025-07-06T16:16:25.647466Z"
    }
   },
   "cell_type": "code",
   "source": [
    "device = torch.device('cuda' if torch.cuda.is_available() else 'cpu')\n",
    "\n",
    "model = model.to(device)"
   ],
   "id": "e33c11e7a981baab",
   "outputs": [],
   "execution_count": 5
  },
  {
   "metadata": {},
   "cell_type": "markdown",
   "source": "## Testy resnet34",
   "id": "b46872ef155ba1ea"
  },
  {
   "metadata": {
    "ExecuteTime": {
     "end_time": "2025-07-06T16:16:26.334236Z",
     "start_time": "2025-07-06T16:16:25.895688Z"
    }
   },
   "cell_type": "code",
   "source": "data_iter = iter(train_dataloader)",
   "id": "8ae7714bff502ebd",
   "outputs": [],
   "execution_count": 6
  },
  {
   "metadata": {
    "ExecuteTime": {
     "end_time": "2025-07-06T16:16:29.259947Z",
     "start_time": "2025-07-06T16:16:26.926527Z"
    }
   },
   "cell_type": "code",
   "source": [
    "first_batch = next(data_iter)\n",
    "print(f\"input tensor shape: {first_batch['input_tensor'].shape}\")\n",
    "print(f\"label shape: {first_batch['label'].shape}\")\n",
    "input_tensor = first_batch['input_tensor']\n",
    "label = first_batch['label'].to(device)\n",
    "\n",
    "result = model(input_tensor.to(device))"
   ],
   "id": "c302fe8c5286069d",
   "outputs": [
    {
     "name": "stdout",
     "output_type": "stream",
     "text": [
      "input tensor shape: torch.Size([16, 5, 1, 786])\n",
      "label shape: torch.Size([16, 2])\n"
     ]
    }
   ],
   "execution_count": 7
  },
  {
   "metadata": {
    "ExecuteTime": {
     "end_time": "2025-07-06T16:16:29.961523Z",
     "start_time": "2025-07-06T16:16:29.953001Z"
    }
   },
   "cell_type": "code",
   "source": [
    "def compare(label, result):\n",
    "    assert label.shape == result.shape\n",
    "    x = label.shape[0]\n",
    "    for i in range(x):\n",
    "        print(f\"Correct: {label[i, :].detach().cpu().numpy()}, predicted: {result[i, :].detach().cpu().numpy()}\")"
   ],
   "id": "9cd5ba926293f16",
   "outputs": [],
   "execution_count": 8
  },
  {
   "metadata": {
    "ExecuteTime": {
     "end_time": "2025-07-06T16:16:30.560907Z",
     "start_time": "2025-07-06T16:16:30.548454Z"
    }
   },
   "cell_type": "code",
   "source": "compare(label, result)",
   "id": "28f394ab18e2196a",
   "outputs": [
    {
     "name": "stdout",
     "output_type": "stream",
     "text": [
      "Correct: [4.397665  2.2143948], predicted: [1.9483231 1.6097548]\n",
      "Correct: [5.430101  2.9032795], predicted: [2.0004783 1.6220359]\n",
      "Correct: [4.7456374 1.3124967], predicted: [1.9978738 1.6024829]\n",
      "Correct: [5.42572   1.4795985], predicted: [2.034683  1.5650815]\n",
      "Correct: [3.9254432 1.2506934], predicted: [1.9861519 1.5895268]\n",
      "Correct: [1.3749152  0.96741647], predicted: [1.9851906 1.613675 ]\n",
      "Correct: [5.5646963 1.2833916], predicted: [1.9429914 1.5754207]\n",
      "Correct: [5.708021  1.5951016], predicted: [1.9975343 1.5963908]\n",
      "Correct: [0.5401932 2.187957 ], predicted: [1.8957686 1.5834278]\n",
      "Correct: [2.0293329 1.8986098], predicted: [2.0331178 1.6481997]\n",
      "Correct: [3.0536447 1.897843 ], predicted: [1.9524449 1.5815985]\n",
      "Correct: [6.134015  2.7823713], predicted: [1.9729887 1.5674831]\n",
      "Correct: [4.4677167 1.3895506], predicted: [1.9656101 1.5944726]\n",
      "Correct: [0.10932269 1.1180297 ], predicted: [1.8771157 1.5970734]\n",
      "Correct: [3.9420083 1.1789559], predicted: [1.9094834  0.75285566]\n",
      "Correct: [5.376932  1.9926506], predicted: [1.9233011 1.5648439]\n"
     ]
    }
   ],
   "execution_count": 9
  },
  {
   "metadata": {
    "ExecuteTime": {
     "end_time": "2025-07-06T16:16:31.342245Z",
     "start_time": "2025-07-06T16:16:31.337642Z"
    }
   },
   "cell_type": "code",
   "source": "loss_function = nn.MSELoss().to(device)",
   "id": "81fe8ebb7bdc94b6",
   "outputs": [],
   "execution_count": 10
  },
  {
   "metadata": {
    "ExecuteTime": {
     "end_time": "2025-07-06T16:16:31.786803Z",
     "start_time": "2025-07-06T16:16:31.777159Z"
    }
   },
   "cell_type": "code",
   "source": [
    "temp = loss_function(result.float(),label.float())\n",
    "print(temp)"
   ],
   "id": "845ab950f43541cb",
   "outputs": [
    {
     "name": "stdout",
     "output_type": "stream",
     "text": [
      "tensor(3.7186, device='cuda:0', grad_fn=<MseLossBackward0>)\n"
     ]
    }
   ],
   "execution_count": 11
  },
  {
   "metadata": {
    "ExecuteTime": {
     "end_time": "2025-07-06T16:16:32.146920Z",
     "start_time": "2025-07-06T16:16:32.114674Z"
    }
   },
   "cell_type": "code",
   "source": [
    "first_batch = next(data_iter)\n",
    "print(f\"input tensor shape: {first_batch['input_tensor'].shape}\")\n",
    "print(f\"label shape: {first_batch['label'].shape}\")\n",
    "input_tensor = first_batch['input_tensor']\n",
    "label = first_batch['label']\n",
    "\n",
    "result = model(input_tensor.to(device))"
   ],
   "id": "a687e83fcb1abb8d",
   "outputs": [
    {
     "name": "stdout",
     "output_type": "stream",
     "text": [
      "input tensor shape: torch.Size([16, 5, 1, 33])\n",
      "label shape: torch.Size([16, 2])\n"
     ]
    }
   ],
   "execution_count": 12
  },
  {
   "metadata": {
    "ExecuteTime": {
     "end_time": "2025-07-06T16:16:32.457084Z",
     "start_time": "2025-07-06T16:16:32.452504Z"
    }
   },
   "cell_type": "code",
   "source": "compare(label, result)",
   "id": "63b735cc11418932",
   "outputs": [
    {
     "name": "stdout",
     "output_type": "stream",
     "text": [
      "Correct: [4.2949843  0.33460286], predicted: [2.257765  1.1518523]\n",
      "Correct: [5.335549  2.5136642], predicted: [2.3548791 1.2228577]\n",
      "Correct: [2.2436514 2.9453225], predicted: [2.0978334 1.3821902]\n",
      "Correct: [6.277991  1.1981549], predicted: [2.0189981 1.5058638]\n",
      "Correct: [5.2724237 1.7981626], predicted: [2.036771   0.99653256]\n",
      "Correct: [2.7499993 1.9752115], predicted: [2.1900542 1.4911759]\n",
      "Correct: [4.6812196 0.6479384], predicted: [2.805194  1.5376837]\n",
      "Correct: [6.1379375  0.18163848], predicted: [2.2704751 1.4526802]\n",
      "Correct: [0.48181045 1.6517323 ], predicted: [2.2315345 1.6387252]\n",
      "Correct: [5.69833   0.8398638], predicted: [2.3746479 1.6550001]\n",
      "Correct: [6.0985894 0.9503003], predicted: [2.2342227 1.0776012]\n",
      "Correct: [3.8776577 2.2384274], predicted: [2.0128396 1.3435627]\n",
      "Correct: [3.941763 2.246588], predicted: [2.2610488 1.2476597]\n",
      "Correct: [1.1873281 2.1487179], predicted: [2.4104965 1.7650554]\n",
      "Correct: [1.3566753 1.5088042], predicted: [2.0675483 1.9021677]\n",
      "Correct: [1.6210183 2.6971545], predicted: [2.0889502 2.006049 ]\n"
     ]
    }
   ],
   "execution_count": 13
  },
  {
   "metadata": {
    "ExecuteTime": {
     "end_time": "2025-07-06T16:16:32.807001Z",
     "start_time": "2025-07-06T16:16:32.793133Z"
    }
   },
   "cell_type": "code",
   "source": [
    "first_batch = next(data_iter)\n",
    "print(f\"input tensor shape: {first_batch['input_tensor'].shape}\")\n",
    "print(f\"label shape: {first_batch['label'].shape}\")\n",
    "input_tensor = first_batch['input_tensor']\n",
    "label = first_batch['label']\n",
    "\n",
    "result = model(input_tensor.to(device))"
   ],
   "id": "10196cbc62c703cb",
   "outputs": [
    {
     "name": "stdout",
     "output_type": "stream",
     "text": [
      "input tensor shape: torch.Size([16, 5, 1, 104])\n",
      "label shape: torch.Size([16, 2])\n"
     ]
    }
   ],
   "execution_count": 14
  },
  {
   "metadata": {
    "ExecuteTime": {
     "end_time": "2025-07-06T16:16:33.113968Z",
     "start_time": "2025-07-06T16:16:33.110260Z"
    }
   },
   "cell_type": "code",
   "source": "compare(label, result)",
   "id": "ac1157ca44103108",
   "outputs": [
    {
     "name": "stdout",
     "output_type": "stream",
     "text": [
      "Correct: [1.7770674 1.3811553], predicted: [1.8324454 1.0439242]\n",
      "Correct: [2.6062903 1.6628194], predicted: [2.246242  1.2911413]\n",
      "Correct: [2.7812552 2.4555678], predicted: [2.208418  1.0987362]\n",
      "Correct: [2.3901987 2.3327715], predicted: [1.9034594 1.1790682]\n",
      "Correct: [4.7693815 2.6294289], predicted: [2.2013412 1.3762187]\n",
      "Correct: [3.8770719 1.8333825], predicted: [2.2375054 1.0771124]\n",
      "Correct: [4.8191257 2.3260767], predicted: [1.7474555 0.5200403]\n",
      "Correct: [4.8231425 1.1643972], predicted: [1.8076267 1.195889 ]\n",
      "Correct: [0.10072412 1.513027  ], predicted: [2.050593  1.1935041]\n",
      "Correct: [2.453142 2.158957], predicted: [2.1753807 0.7579514]\n",
      "Correct: [2.1155186 1.3646456], predicted: [2.3931363 1.8283591]\n",
      "Correct: [5.834114  1.9247692], predicted: [2.561394   0.82682395]\n",
      "Correct: [2.9756424 2.5532286], predicted: [1.7525096 1.3225337]\n",
      "Correct: [5.607259  2.5118067], predicted: [1.4377604 1.161516 ]\n",
      "Correct: [2.4335985  0.77164686], predicted: [1.7800137 1.0373625]\n",
      "Correct: [3.8612154 1.3241459], predicted: [1.7313887  0.96949905]\n"
     ]
    }
   ],
   "execution_count": 15
  },
  {
   "metadata": {
    "ExecuteTime": {
     "end_time": "2025-07-06T16:16:33.465187Z",
     "start_time": "2025-07-06T16:16:33.452789Z"
    }
   },
   "cell_type": "code",
   "source": [
    "first_batch = next(data_iter)\n",
    "print(f\"input tensor shape: {first_batch['input_tensor'].shape}\")\n",
    "print(f\"label shape: {first_batch['label'].shape}\")\n",
    "input_tensor = first_batch['input_tensor']\n",
    "label = first_batch['label']\n",
    "\n",
    "result = model(input_tensor.to(device))"
   ],
   "id": "8b2d677c86a195d7",
   "outputs": [
    {
     "name": "stdout",
     "output_type": "stream",
     "text": [
      "input tensor shape: torch.Size([16, 5, 1, 52])\n",
      "label shape: torch.Size([16, 2])\n"
     ]
    }
   ],
   "execution_count": 16
  },
  {
   "metadata": {
    "ExecuteTime": {
     "end_time": "2025-07-06T16:16:33.772565Z",
     "start_time": "2025-07-06T16:16:33.768058Z"
    }
   },
   "cell_type": "code",
   "source": "compare(label, result)",
   "id": "7b2be20632ad619b",
   "outputs": [
    {
     "name": "stdout",
     "output_type": "stream",
     "text": [
      "Correct: [0.1329636 0.4343483], predicted: [1.5550076 1.3620895]\n",
      "Correct: [5.053898  1.8201983], predicted: [1.7092788 1.0607864]\n",
      "Correct: [1.928945  2.8029127], predicted: [2.0650134 1.2048354]\n",
      "Correct: [4.7169447 2.2500472], predicted: [1.7756007 1.0486251]\n",
      "Correct: [5.145785  0.5590584], predicted: [2.3381212 1.5356127]\n",
      "Correct: [4.3982606 2.4885614], predicted: [1.9251239 1.5567034]\n",
      "Correct: [5.1110864 1.5810479], predicted: [5.6591177 2.2623315]\n",
      "Correct: [4.0615015  0.97197276], predicted: [2.1068146 1.6311255]\n",
      "Correct: [5.0086584 0.9778753], predicted: [2.1951241 1.3582615]\n",
      "Correct: [4.548884  1.5877146], predicted: [1.6644316 1.4001328]\n",
      "Correct: [2.8561356 1.5274273], predicted: [2.1964362 1.1647329]\n",
      "Correct: [4.5604796 2.0574627], predicted: [2.0275207 1.4981273]\n",
      "Correct: [1.6195437  0.44587815], predicted: [1.8238049 1.5018625]\n",
      "Correct: [5.258256  1.8469656], predicted: [2.10698   1.1461197]\n",
      "Correct: [2.1657481 0.5103805], predicted: [2.2197154 1.3584996]\n",
      "Correct: [5.0345592 2.4129941], predicted: [1.9059381 1.4896251]\n"
     ]
    }
   ],
   "execution_count": 17
  },
  {
   "metadata": {
    "ExecuteTime": {
     "end_time": "2025-07-06T16:16:34.382644Z",
     "start_time": "2025-07-06T16:16:34.107566Z"
    }
   },
   "cell_type": "code",
   "source": [
    "import pickle\n",
    "\n",
    "with open('./results/losses_2025-07-06_16:43:54.pickle', 'rb') as f:\n",
    "    data = pickle.load(f)\n",
    "\n",
    "plt.figure()\n",
    "plt.title(\"Funkcja straty dla zbioru uczącego\")\n",
    "plt.plot(data)"
   ],
   "id": "3c988e5542fb0fed",
   "outputs": [
    {
     "data": {
      "text/plain": [
       "[<matplotlib.lines.Line2D at 0x7f73db13d880>]"
      ]
     },
     "execution_count": 18,
     "metadata": {},
     "output_type": "execute_result"
    },
    {
     "data": {
      "text/plain": [
       "<Figure size 640x480 with 1 Axes>"
      ],
      "image/png": "[encoded data removed]"
     },
     "metadata": {},
     "output_type": "display_data"
    }
   ],
   "execution_count": 18
  },
  {
   "metadata": {
    "ExecuteTime": {
     "end_time": "2025-07-06T16:16:34.755553Z",
     "start_time": "2025-07-06T16:16:34.654304Z"
    }
   },
   "cell_type": "code",
   "source": [
    "with open('./results/val_losses_2025-07-06_16:43:54.pickle', 'rb') as f:\n",
    "    data = pickle.load(f)\n",
    "\n",
    "plt.figure()\n",
    "plt.title(\"Funkcja straty dla zbioru walidacyjnego\")\n",
    "plt.plot(data)"
   ],
   "id": "f425654c5fbab26a",
   "outputs": [
    {
     "data": {
      "text/plain": [
       "[<matplotlib.lines.Line2D at 0x7f72da68b590>]"
      ]
     },
     "execution_count": 19,
     "metadata": {},
     "output_type": "execute_result"
    },
    {
     "data": {
      "text/plain": [
       "<Figure size 640x480 with 1 Axes>"
      ],
      "image/png": "[encoded data removed]"
     },
     "metadata": {},
     "output_type": "display_data"
    }
   ],
   "execution_count": 19
  },
  {
   "metadata": {
    "ExecuteTime": {
     "end_time": "2025-07-06T16:16:35.032840Z",
     "start_time": "2025-07-06T16:16:35.030993Z"
    }
   },
   "cell_type": "code",
   "source": [
    "def angles_to_unit_vector(angle_array):\n",
    "    azimuth = angle_array[:, 0]\n",
    "    zenith = angle_array[:, 1]\n",
    "\n",
    "    x = np.sin(zenith) * np.cos(azimuth)\n",
    "    y = np.sin(zenith) * np.sin(azimuth)\n",
    "    z = np.cos(zenith)\n",
    "\n",
    "    return np.stack([x, y, z], axis=1)"
   ],
   "id": "6e80941bd65c3cb0",
   "outputs": [],
   "execution_count": 20
  },
  {
   "metadata": {
    "ExecuteTime": {
     "end_time": "2025-07-06T16:16:54.526626Z",
     "start_time": "2025-07-06T16:16:35.302942Z"
    }
   },
   "cell_type": "code",
   "source": [
    "import numpy as np\n",
    "\n",
    "num_of_examples = 100\n",
    "losses_ = []\n",
    "residual_cache = []\n",
    "loss_total = 0.\n",
    "\n",
    "for i in range(num_of_examples):\n",
    "    example = next(data_iter)\n",
    "    input_tensor = example['input_tensor'].to(device)\n",
    "    label = example['label'].to(device)\n",
    "\n",
    "    result = model(input_tensor)\n",
    "\n",
    "    loss_value = loss_function(result.float().cpu(),label.float().cpu())\n",
    "    losses_.append(loss_value.item())\n",
    "\n",
    "    temp_result = angles_to_unit_vector(result.cpu().detach().numpy())\n",
    "    temp_label = angles_to_unit_vector(label.cpu().detach().numpy())\n",
    "\n",
    "    temp_ = np.clip(np.sum(temp_result * temp_label, axis=1), -1, 1)\n",
    "    residuals = np.degrees(np.arccos(temp_))\n",
    "    residual_cache.append(residuals.mean())\n",
    "\n",
    "print(f\"average loss: {np.mean(losses_)}\")\n",
    "print(f\"Median loss: {np.median(losses_)} \")"
   ],
   "id": "e8dd08615f3fc33a",
   "outputs": [
    {
     "name": "stdout",
     "output_type": "stream",
     "text": [
      "average loss: 4.969091364145279\n",
      "Median loss: 2.9768006801605225 \n"
     ]
    }
   ],
   "execution_count": 21
  },
  {
   "metadata": {},
   "cell_type": "markdown",
   "source": "## Residuum",
   "id": "3ea4e445f3d04429"
  },
  {
   "metadata": {
    "ExecuteTime": {
     "end_time": "2025-07-06T16:16:55.196152Z",
     "start_time": "2025-07-06T16:16:55.192065Z"
    }
   },
   "cell_type": "code",
   "source": [
    "residual_ = np.array(residual_cache)\n",
    "# residual_ = residual_.reshape(-1)\n",
    "print(residual_.shape)"
   ],
   "id": "7267718d7c2fe437",
   "outputs": [
    {
     "name": "stdout",
     "output_type": "stream",
     "text": [
      "(100,)\n"
     ]
    }
   ],
   "execution_count": 22
  },
  {
   "metadata": {
    "ExecuteTime": {
     "end_time": "2025-07-06T16:16:55.878564Z",
     "start_time": "2025-07-06T16:16:55.795133Z"
    }
   },
   "cell_type": "code",
   "source": [
    "plt.figure()\n",
    "plt.plot(residual_)\n",
    "plt.title(\"Residuum\")\n",
    "plt.show()"
   ],
   "id": "a3674757a093ef66",
   "outputs": [
    {
     "data": {
      "text/plain": [
       "<Figure size 640x480 with 1 Axes>"
      ],
      "image/png": "[encoded data removed]"
     },
     "metadata": {},
     "output_type": "display_data"
    }
   ],
   "execution_count": 23
  },
  {
   "metadata": {
    "ExecuteTime": {
     "end_time": "2025-07-06T16:16:56.460224Z",
     "start_time": "2025-07-06T16:16:56.456850Z"
    }
   },
   "cell_type": "code",
   "source": "",
   "id": "f6ddbac8484de4fe",
   "outputs": [],
   "execution_count": null
  }
 ],
 "metadata": {
  "kernelspec": {
   "display_name": "Python 3",
   "language": "python",
   "name": "python3"
  },
  "language_info": {
   "codemirror_mode": {
    "name": "ipython",
    "version": 2
   },
   "file_extension": ".py",
   "mimetype": "text/x-python",
   "name": "python",
   "nbconvert_exporter": "python",
   "pygments_lexer": "ipython2",
   "version": "2.7.6"
  }
 },
 "nbformat": 4,
 "nbformat_minor": 5
}
