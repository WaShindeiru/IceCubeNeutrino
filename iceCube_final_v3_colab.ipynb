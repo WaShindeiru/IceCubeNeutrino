{
 "cells": [
  {
   "metadata": {},
   "cell_type": "code",
   "outputs": [],
   "execution_count": null,
   "source": "!git clone https://github.com/WaShindeiru/IceCubeNeutrino",
   "id": "38b46a8acc962c86"
  },
  {
   "metadata": {},
   "cell_type": "code",
   "outputs": [],
   "execution_count": null,
   "source": "!cp IceCubeNeutrino/* .",
   "id": "27f36cc4e0693335"
  },
  {
   "metadata": {},
   "cell_type": "code",
   "outputs": [],
   "execution_count": null,
   "source": [
    "from google.colab import drive\n",
    "drive.mount('/content/drive')"
   ],
   "id": "65eb1c796ba195b6"
  },
  {
   "metadata": {},
   "cell_type": "code",
   "outputs": [],
   "execution_count": null,
   "source": "!unzip ./drive/MyDrive/icecube/ice_cube_small.zip",
   "id": "8da6864fce0b0c1a"
  },
  {
   "cell_type": "code",
   "id": "initial_id",
   "metadata": {
    "collapsed": true,
    "ExecuteTime": {
     "end_time": "2025-07-06T13:13:35.690387Z",
     "start_time": "2025-07-06T13:13:34.880977Z"
    }
   },
   "source": [
    "import pandas as pd\n",
    "import pyarrow.parquet as pq\n",
    "from tqdm import tqdm\n",
    "import torch\n",
    "import torch.nn as nn\n",
    "import torch.nn.functional as F\n",
    "from Resnet import resnet34"
   ],
   "outputs": [],
   "execution_count": 1
  },
  {
   "metadata": {
    "ExecuteTime": {
     "end_time": "2025-07-06T13:13:36.376960Z",
     "start_time": "2025-07-06T13:13:35.742905Z"
    }
   },
   "cell_type": "code",
   "source": [
    "sensor = pd.read_csv('/home/washindeiru/primaryDrive/iceCube/icecube-neutrinos-in-deep-ice/sensor_geometry.csv')\n",
    "train_meta = pq.ParquetFile('/home/washindeiru/primaryDrive/iceCube/icecube-neutrinos-in-deep-ice/train_meta.parquet')\n",
    "it = train_meta.iter_batches()\n",
    "train_meta = next(it).to_pandas()"
   ],
   "id": "ace94db47f43f6e6",
   "outputs": [],
   "execution_count": 2
  },
  {
   "metadata": {
    "ExecuteTime": {
     "end_time": "2025-07-06T13:13:36.393296Z",
     "start_time": "2025-07-06T13:13:36.388182Z"
    }
   },
   "cell_type": "code",
   "source": "train_meta.head(20)",
   "id": "344f95d883a96a97",
   "outputs": [
    {
     "data": {
      "text/plain": [
       "    batch_id  event_id  first_pulse_index  last_pulse_index   azimuth  \\\n",
       "0          1        24                  0                60  5.029555   \n",
       "1          1        41                 61               111  0.417742   \n",
       "2          1        59                112               147  1.160466   \n",
       "3          1        67                148               289  5.845952   \n",
       "4          1        72                290               351  0.653719   \n",
       "5          1        77                352               401  0.011372   \n",
       "6          1        79                402               717  3.533397   \n",
       "7          1        82                718               762  5.252108   \n",
       "8          1       121                763               803  3.084929   \n",
       "9          1       127                804               846  6.154335   \n",
       "10         1       140                847               938  4.486290   \n",
       "11         1       221                939              1000  0.367230   \n",
       "12         1       244               1001              1134  1.976920   \n",
       "13         1       290               1135              1183  4.658321   \n",
       "14         1       325               1184              1251  5.015813   \n",
       "15         1       354               1252              1304  1.059909   \n",
       "16         1       360               1305              1421  4.432304   \n",
       "17         1       402               1422              1473  5.608713   \n",
       "18         1       406               1474              1548  6.261226   \n",
       "19         1       410               1549              1597  5.367438   \n",
       "\n",
       "      zenith  \n",
       "0   2.087498  \n",
       "1   1.549686  \n",
       "2   2.401942  \n",
       "3   0.759054  \n",
       "4   0.939117  \n",
       "5   1.295371  \n",
       "6   2.479947  \n",
       "7   0.672366  \n",
       "8   2.065880  \n",
       "9   1.371721  \n",
       "10  1.655948  \n",
       "11  2.667595  \n",
       "12  1.363919  \n",
       "13  1.625890  \n",
       "14  1.676437  \n",
       "15  0.778906  \n",
       "16  0.340555  \n",
       "17  1.545135  \n",
       "18  0.910476  \n",
       "19  0.862134  "
      ],
      "text/html": [
       "<div>\n",
       "<style scoped>\n",
       "    .dataframe tbody tr th:only-of-type {\n",
       "        vertical-align: middle;\n",
       "    }\n",
       "\n",
       "    .dataframe tbody tr th {\n",
       "        vertical-align: top;\n",
       "    }\n",
       "\n",
       "    .dataframe thead th {\n",
       "        text-align: right;\n",
       "    }\n",
       "</style>\n",
       "<table border=\"1\" class=\"dataframe\">\n",
       "  <thead>\n",
       "    <tr style=\"text-align: right;\">\n",
       "      <th></th>\n",
       "      <th>batch_id</th>\n",
       "      <th>event_id</th>\n",
       "      <th>first_pulse_index</th>\n",
       "      <th>last_pulse_index</th>\n",
       "      <th>azimuth</th>\n",
       "      <th>zenith</th>\n",
       "    </tr>\n",
       "  </thead>\n",
       "  <tbody>\n",
       "    <tr>\n",
       "      <th>0</th>\n",
       "      <td>1</td>\n",
       "      <td>24</td>\n",
       "      <td>0</td>\n",
       "      <td>60</td>\n",
       "      <td>5.029555</td>\n",
       "      <td>2.087498</td>\n",
       "    </tr>\n",
       "    <tr>\n",
       "      <th>1</th>\n",
       "      <td>1</td>\n",
       "      <td>41</td>\n",
       "      <td>61</td>\n",
       "      <td>111</td>\n",
       "      <td>0.417742</td>\n",
       "      <td>1.549686</td>\n",
       "    </tr>\n",
       "    <tr>\n",
       "      <th>2</th>\n",
       "      <td>1</td>\n",
       "      <td>59</td>\n",
       "      <td>112</td>\n",
       "      <td>147</td>\n",
       "      <td>1.160466</td>\n",
       "      <td>2.401942</td>\n",
       "    </tr>\n",
       "    <tr>\n",
       "      <th>3</th>\n",
       "      <td>1</td>\n",
       "      <td>67</td>\n",
       "      <td>148</td>\n",
       "      <td>289</td>\n",
       "      <td>5.845952</td>\n",
       "      <td>0.759054</td>\n",
       "    </tr>\n",
       "    <tr>\n",
       "      <th>4</th>\n",
       "      <td>1</td>\n",
       "      <td>72</td>\n",
       "      <td>290</td>\n",
       "      <td>351</td>\n",
       "      <td>0.653719</td>\n",
       "      <td>0.939117</td>\n",
       "    </tr>\n",
       "    <tr>\n",
       "      <th>5</th>\n",
       "      <td>1</td>\n",
       "      <td>77</td>\n",
       "      <td>352</td>\n",
       "      <td>401</td>\n",
       "      <td>0.011372</td>\n",
       "      <td>1.295371</td>\n",
       "    </tr>\n",
       "    <tr>\n",
       "      <th>6</th>\n",
       "      <td>1</td>\n",
       "      <td>79</td>\n",
       "      <td>402</td>\n",
       "      <td>717</td>\n",
       "      <td>3.533397</td>\n",
       "      <td>2.479947</td>\n",
       "    </tr>\n",
       "    <tr>\n",
       "      <th>7</th>\n",
       "      <td>1</td>\n",
       "      <td>82</td>\n",
       "      <td>718</td>\n",
       "      <td>762</td>\n",
       "      <td>5.252108</td>\n",
       "      <td>0.672366</td>\n",
       "    </tr>\n",
       "    <tr>\n",
       "      <th>8</th>\n",
       "      <td>1</td>\n",
       "      <td>121</td>\n",
       "      <td>763</td>\n",
       "      <td>803</td>\n",
       "      <td>3.084929</td>\n",
       "      <td>2.065880</td>\n",
       "    </tr>\n",
       "    <tr>\n",
       "      <th>9</th>\n",
       "      <td>1</td>\n",
       "      <td>127</td>\n",
       "      <td>804</td>\n",
       "      <td>846</td>\n",
       "      <td>6.154335</td>\n",
       "      <td>1.371721</td>\n",
       "    </tr>\n",
       "    <tr>\n",
       "      <th>10</th>\n",
       "      <td>1</td>\n",
       "      <td>140</td>\n",
       "      <td>847</td>\n",
       "      <td>938</td>\n",
       "      <td>4.486290</td>\n",
       "      <td>1.655948</td>\n",
       "    </tr>\n",
       "    <tr>\n",
       "      <th>11</th>\n",
       "      <td>1</td>\n",
       "      <td>221</td>\n",
       "      <td>939</td>\n",
       "      <td>1000</td>\n",
       "      <td>0.367230</td>\n",
       "      <td>2.667595</td>\n",
       "    </tr>\n",
       "    <tr>\n",
       "      <th>12</th>\n",
       "      <td>1</td>\n",
       "      <td>244</td>\n",
       "      <td>1001</td>\n",
       "      <td>1134</td>\n",
       "      <td>1.976920</td>\n",
       "      <td>1.363919</td>\n",
       "    </tr>\n",
       "    <tr>\n",
       "      <th>13</th>\n",
       "      <td>1</td>\n",
       "      <td>290</td>\n",
       "      <td>1135</td>\n",
       "      <td>1183</td>\n",
       "      <td>4.658321</td>\n",
       "      <td>1.625890</td>\n",
       "    </tr>\n",
       "    <tr>\n",
       "      <th>14</th>\n",
       "      <td>1</td>\n",
       "      <td>325</td>\n",
       "      <td>1184</td>\n",
       "      <td>1251</td>\n",
       "      <td>5.015813</td>\n",
       "      <td>1.676437</td>\n",
       "    </tr>\n",
       "    <tr>\n",
       "      <th>15</th>\n",
       "      <td>1</td>\n",
       "      <td>354</td>\n",
       "      <td>1252</td>\n",
       "      <td>1304</td>\n",
       "      <td>1.059909</td>\n",
       "      <td>0.778906</td>\n",
       "    </tr>\n",
       "    <tr>\n",
       "      <th>16</th>\n",
       "      <td>1</td>\n",
       "      <td>360</td>\n",
       "      <td>1305</td>\n",
       "      <td>1421</td>\n",
       "      <td>4.432304</td>\n",
       "      <td>0.340555</td>\n",
       "    </tr>\n",
       "    <tr>\n",
       "      <th>17</th>\n",
       "      <td>1</td>\n",
       "      <td>402</td>\n",
       "      <td>1422</td>\n",
       "      <td>1473</td>\n",
       "      <td>5.608713</td>\n",
       "      <td>1.545135</td>\n",
       "    </tr>\n",
       "    <tr>\n",
       "      <th>18</th>\n",
       "      <td>1</td>\n",
       "      <td>406</td>\n",
       "      <td>1474</td>\n",
       "      <td>1548</td>\n",
       "      <td>6.261226</td>\n",
       "      <td>0.910476</td>\n",
       "    </tr>\n",
       "    <tr>\n",
       "      <th>19</th>\n",
       "      <td>1</td>\n",
       "      <td>410</td>\n",
       "      <td>1549</td>\n",
       "      <td>1597</td>\n",
       "      <td>5.367438</td>\n",
       "      <td>0.862134</td>\n",
       "    </tr>\n",
       "  </tbody>\n",
       "</table>\n",
       "</div>"
      ]
     },
     "execution_count": 3,
     "metadata": {},
     "output_type": "execute_result"
    }
   ],
   "execution_count": 3
  },
  {
   "metadata": {
    "ExecuteTime": {
     "end_time": "2025-07-06T13:13:36.456953Z",
     "start_time": "2025-07-06T13:13:36.453073Z"
    }
   },
   "cell_type": "code",
   "source": "sensor.head(20)",
   "id": "55a8682ce41c6950",
   "outputs": [
    {
     "data": {
      "text/plain": [
       "    sensor_id       x       y       z\n",
       "0           0 -256.14 -521.08  496.03\n",
       "1           1 -256.14 -521.08  479.01\n",
       "2           2 -256.14 -521.08  461.99\n",
       "3           3 -256.14 -521.08  444.97\n",
       "4           4 -256.14 -521.08  427.95\n",
       "5           5 -256.14 -521.08  410.93\n",
       "6           6 -256.14 -521.08  393.91\n",
       "7           7 -256.14 -521.08  376.88\n",
       "8           8 -256.14 -521.08  359.86\n",
       "9           9 -256.14 -521.08  342.84\n",
       "10         10 -256.14 -521.08  325.82\n",
       "11         11 -256.14 -521.08  308.80\n",
       "12         12 -256.14 -521.08  291.78\n",
       "13         13 -256.14 -521.08  274.76\n",
       "14         14 -256.14 -521.08  257.74\n",
       "15         15 -256.14 -521.08  240.72\n",
       "16         16 -256.14 -521.08  223.70\n",
       "17         17 -256.14 -521.08  206.68\n",
       "18         18 -256.14 -521.08  189.66\n",
       "19         19 -256.14 -521.08  172.64"
      ],
      "text/html": [
       "<div>\n",
       "<style scoped>\n",
       "    .dataframe tbody tr th:only-of-type {\n",
       "        vertical-align: middle;\n",
       "    }\n",
       "\n",
       "    .dataframe tbody tr th {\n",
       "        vertical-align: top;\n",
       "    }\n",
       "\n",
       "    .dataframe thead th {\n",
       "        text-align: right;\n",
       "    }\n",
       "</style>\n",
       "<table border=\"1\" class=\"dataframe\">\n",
       "  <thead>\n",
       "    <tr style=\"text-align: right;\">\n",
       "      <th></th>\n",
       "      <th>sensor_id</th>\n",
       "      <th>x</th>\n",
       "      <th>y</th>\n",
       "      <th>z</th>\n",
       "    </tr>\n",
       "  </thead>\n",
       "  <tbody>\n",
       "    <tr>\n",
       "      <th>0</th>\n",
       "      <td>0</td>\n",
       "      <td>-256.14</td>\n",
       "      <td>-521.08</td>\n",
       "      <td>496.03</td>\n",
       "    </tr>\n",
       "    <tr>\n",
       "      <th>1</th>\n",
       "      <td>1</td>\n",
       "      <td>-256.14</td>\n",
       "      <td>-521.08</td>\n",
       "      <td>479.01</td>\n",
       "    </tr>\n",
       "    <tr>\n",
       "      <th>2</th>\n",
       "      <td>2</td>\n",
       "      <td>-256.14</td>\n",
       "      <td>-521.08</td>\n",
       "      <td>461.99</td>\n",
       "    </tr>\n",
       "    <tr>\n",
       "      <th>3</th>\n",
       "      <td>3</td>\n",
       "      <td>-256.14</td>\n",
       "      <td>-521.08</td>\n",
       "      <td>444.97</td>\n",
       "    </tr>\n",
       "    <tr>\n",
       "      <th>4</th>\n",
       "      <td>4</td>\n",
       "      <td>-256.14</td>\n",
       "      <td>-521.08</td>\n",
       "      <td>427.95</td>\n",
       "    </tr>\n",
       "    <tr>\n",
       "      <th>5</th>\n",
       "      <td>5</td>\n",
       "      <td>-256.14</td>\n",
       "      <td>-521.08</td>\n",
       "      <td>410.93</td>\n",
       "    </tr>\n",
       "    <tr>\n",
       "      <th>6</th>\n",
       "      <td>6</td>\n",
       "      <td>-256.14</td>\n",
       "      <td>-521.08</td>\n",
       "      <td>393.91</td>\n",
       "    </tr>\n",
       "    <tr>\n",
       "      <th>7</th>\n",
       "      <td>7</td>\n",
       "      <td>-256.14</td>\n",
       "      <td>-521.08</td>\n",
       "      <td>376.88</td>\n",
       "    </tr>\n",
       "    <tr>\n",
       "      <th>8</th>\n",
       "      <td>8</td>\n",
       "      <td>-256.14</td>\n",
       "      <td>-521.08</td>\n",
       "      <td>359.86</td>\n",
       "    </tr>\n",
       "    <tr>\n",
       "      <th>9</th>\n",
       "      <td>9</td>\n",
       "      <td>-256.14</td>\n",
       "      <td>-521.08</td>\n",
       "      <td>342.84</td>\n",
       "    </tr>\n",
       "    <tr>\n",
       "      <th>10</th>\n",
       "      <td>10</td>\n",
       "      <td>-256.14</td>\n",
       "      <td>-521.08</td>\n",
       "      <td>325.82</td>\n",
       "    </tr>\n",
       "    <tr>\n",
       "      <th>11</th>\n",
       "      <td>11</td>\n",
       "      <td>-256.14</td>\n",
       "      <td>-521.08</td>\n",
       "      <td>308.80</td>\n",
       "    </tr>\n",
       "    <tr>\n",
       "      <th>12</th>\n",
       "      <td>12</td>\n",
       "      <td>-256.14</td>\n",
       "      <td>-521.08</td>\n",
       "      <td>291.78</td>\n",
       "    </tr>\n",
       "    <tr>\n",
       "      <th>13</th>\n",
       "      <td>13</td>\n",
       "      <td>-256.14</td>\n",
       "      <td>-521.08</td>\n",
       "      <td>274.76</td>\n",
       "    </tr>\n",
       "    <tr>\n",
       "      <th>14</th>\n",
       "      <td>14</td>\n",
       "      <td>-256.14</td>\n",
       "      <td>-521.08</td>\n",
       "      <td>257.74</td>\n",
       "    </tr>\n",
       "    <tr>\n",
       "      <th>15</th>\n",
       "      <td>15</td>\n",
       "      <td>-256.14</td>\n",
       "      <td>-521.08</td>\n",
       "      <td>240.72</td>\n",
       "    </tr>\n",
       "    <tr>\n",
       "      <th>16</th>\n",
       "      <td>16</td>\n",
       "      <td>-256.14</td>\n",
       "      <td>-521.08</td>\n",
       "      <td>223.70</td>\n",
       "    </tr>\n",
       "    <tr>\n",
       "      <th>17</th>\n",
       "      <td>17</td>\n",
       "      <td>-256.14</td>\n",
       "      <td>-521.08</td>\n",
       "      <td>206.68</td>\n",
       "    </tr>\n",
       "    <tr>\n",
       "      <th>18</th>\n",
       "      <td>18</td>\n",
       "      <td>-256.14</td>\n",
       "      <td>-521.08</td>\n",
       "      <td>189.66</td>\n",
       "    </tr>\n",
       "    <tr>\n",
       "      <th>19</th>\n",
       "      <td>19</td>\n",
       "      <td>-256.14</td>\n",
       "      <td>-521.08</td>\n",
       "      <td>172.64</td>\n",
       "    </tr>\n",
       "  </tbody>\n",
       "</table>\n",
       "</div>"
      ]
     },
     "execution_count": 4,
     "metadata": {},
     "output_type": "execute_result"
    }
   ],
   "execution_count": 4
  },
  {
   "metadata": {
    "ExecuteTime": {
     "end_time": "2025-07-06T13:13:36.667875Z",
     "start_time": "2025-07-06T13:13:36.528205Z"
    }
   },
   "cell_type": "code",
   "source": [
    "import torch.nn as nn\n",
    "model = resnet34(pretrained = False)\n",
    "model.fc = nn.Sequential(nn.ReLU(),nn.Linear(in_features=512, out_features=2))"
   ],
   "id": "39d613485a2a5147",
   "outputs": [],
   "execution_count": 5
  },
  {
   "metadata": {
    "ExecuteTime": {
     "end_time": "2025-07-06T13:13:36.726237Z",
     "start_time": "2025-07-06T13:13:36.690941Z"
    }
   },
   "cell_type": "code",
   "source": [
    "from sklearn.metrics import mean_squared_error\n",
    "import numpy as np\n",
    "\n",
    "def evaluation(dataloader):\n",
    "    predictions = torch.tensor([], dtype=torch.float).to(device)\n",
    "    actual = torch.tensor([], dtype=torch.float).to(device)\n",
    "    with torch.no_grad():\n",
    "        model.eval()\n",
    "        for data in dataloader:\n",
    "            inputs, values = data['input_tensor'].float().to(device),data['label'].to(device)\n",
    "            outputs = model(inputs).to(device)\n",
    "            predictions = torch.cat((predictions, torch.stack([torch.argmax(o) for o in outputs])),0)\n",
    "            actual = torch.cat((actual, values), 0)\n",
    "    predictions = predictions.cpu().numpy()\n",
    "    actual = actual.cpu().numpy()\n",
    "    rmse = np.sqrt(mean_squared_error(predictions, actual))\n",
    "    return rmse"
   ],
   "id": "85cb37016915d656",
   "outputs": [],
   "execution_count": 6
  },
  {
   "metadata": {
    "ExecuteTime": {
     "end_time": "2025-07-06T13:13:37.423223Z",
     "start_time": "2025-07-06T13:13:36.775263Z"
    }
   },
   "cell_type": "code",
   "source": [
    "from torch import optim\n",
    "device = torch.device('cuda' if torch.cuda.is_available() else 'cpu')\n",
    "# device = 'cpu'\n",
    "\n",
    "\n",
    "pqfile = '/home/washindeiru/primaryDrive/iceCube/icecube-neutrinos-in-deep-ice/train_meta.parquet'\n",
    "path_batch = '/home/washindeiru/primaryDrive/iceCube/icecube-neutrinos-in-deep-ice/train/'\n",
    "geometry = \"/home/washindeiru/primaryDrive/iceCube/icecube-neutrinos-in-deep-ice/sensor_geometry.csv\"\n",
    "\n",
    "batch_num=8\n",
    "val_batch_num=9\n",
    "\n",
    "# lr = 1e-06\n",
    "lr = 1e-07\n",
    "num_epochs = 1\n",
    "batch_size = 4\n",
    "\n",
    "model = model.to(device)\n",
    "optimizer = optim.Adam(model.parameters(), lr=lr)\n",
    "# loss_function = nn.MSELoss().to(device)\n",
    "loss_function = nn.L1Loss(reduction='mean').to(device)"
   ],
   "id": "2cf90ec0aadfc1d6",
   "outputs": [],
   "execution_count": 7
  },
  {
   "metadata": {
    "ExecuteTime": {
     "end_time": "2025-07-06T13:13:41.317564Z",
     "start_time": "2025-07-06T13:13:37.431458Z"
    }
   },
   "cell_type": "code",
   "source": [
    "from torch.utils.data import DataLoader\n",
    "from Icecube_Dataloader import IceCube_Dataloader, collate_fn\n",
    "\n",
    "ice_dataset = IceCube_Dataloader(pqfile, path_batch, geometry, batch_num)\n",
    "train_dataset = ice_dataset\n",
    "\n",
    "train_dataloader = DataLoader(train_dataset, batch_size=batch_size, shuffle=True, collate_fn=collate_fn, num_workers=11)\n",
    "\n",
    "val_dataset = IceCube_Dataloader(pqfile, path_batch, geometry, val_batch_num)\n",
    "val_dataloader = DataLoader(val_dataset, batch_size=batch_size, shuffle=False, collate_fn=collate_fn, num_workers=11)"
   ],
   "id": "67b8aa1a551755e2",
   "outputs": [],
   "execution_count": 8
  },
  {
   "metadata": {
    "ExecuteTime": {
     "end_time": "2025-07-06T13:13:41.746337Z",
     "start_time": "2025-07-06T13:13:41.663921Z"
    }
   },
   "cell_type": "code",
   "source": "ice_dataset.__getitem__(0)['input_tensor'].shape",
   "id": "40fb009094bdba0",
   "outputs": [
    {
     "data": {
      "text/plain": [
       "torch.Size([5, 1, 67])"
      ]
     },
     "execution_count": 9,
     "metadata": {},
     "output_type": "execute_result"
    }
   ],
   "execution_count": 9
  },
  {
   "metadata": {
    "ExecuteTime": {
     "end_time": "2025-07-06T13:13:42.104125Z",
     "start_time": "2025-07-06T13:13:42.102493Z"
    }
   },
   "cell_type": "code",
   "source": "print(device)",
   "id": "f5ac5d6ab9938ca5",
   "outputs": [
    {
     "name": "stdout",
     "output_type": "stream",
     "text": [
      "cuda\n"
     ]
    }
   ],
   "execution_count": 10
  },
  {
   "metadata": {
    "ExecuteTime": {
     "end_time": "2025-07-06T13:13:42.497655Z",
     "start_time": "2025-07-06T13:13:42.496058Z"
    }
   },
   "cell_type": "code",
   "source": [
    "params = {\n",
    "    'num_epochs':num_epochs,\n",
    "    'optimizer':optimizer,\n",
    "    'loss_function':loss_function,\n",
    "    'train_dataloader':train_dataloader,\n",
    "    'val_dataloader': val_dataloader,\n",
    "    'device':device,\n",
    "    'num_epoch' : num_epochs\n",
    "}\n"
   ],
   "id": "568973ab711d22f1",
   "outputs": [],
   "execution_count": 11
  },
  {
   "metadata": {
    "ExecuteTime": {
     "end_time": "2025-07-06T14:43:53.091643Z",
     "start_time": "2025-07-06T13:13:42.847065Z"
    }
   },
   "cell_type": "code",
   "source": [
    "import gc\n",
    "train_losses = []\n",
    "val_losses = []\n",
    "outputs_ = []\n",
    "accum_iter = 1\n",
    "\n",
    "def train(model, params):\n",
    "    model.train()\n",
    "    loss_function=params[\"loss_function\"]\n",
    "    train_dataloader=params[\"train_dataloader\"]\n",
    "    val_dataloader=params[\"val_dataloader\"]\n",
    "    val_iter = iter(val_dataloader)\n",
    "\n",
    "    aa = 0\n",
    "\n",
    "    device=params[\"device\"]\n",
    "    for epoch in range(0, num_epochs):\n",
    "        for dat in tqdm(train_dataloader):\n",
    "            # train step\n",
    "            model.train()\n",
    "            inputs, labels = dat['input_tensor'].to(device),dat['label'].to(device)\n",
    "\n",
    "            assert not torch.isnan(inputs).any(), \"Inputs contain NaNs\"\n",
    "            assert not torch.isnan(labels).any(), \"Labels contain NaNs\"\n",
    "\n",
    "            outputs = model(inputs).to(device)\n",
    "            outputs_.append(outputs.cpu().detach().numpy())\n",
    "\n",
    "            train_loss = loss_function(outputs.float(),labels.float())\n",
    "            train_losses.append(train_loss.item())\n",
    "\n",
    "\n",
    "            # if aa%100==0:\n",
    "            #     print(f\"Train loss: {train_loss.item()}\")\n",
    "\n",
    "            train_loss.backward()\n",
    "\n",
    "            torch.nn.utils.clip_grad_norm_(model.parameters(), max_norm=1.0)\n",
    "            optimizer.step()\n",
    "            optimizer.zero_grad()\n",
    "            torch.cuda.empty_cache()\n",
    "\n",
    "            # validation step\n",
    "            model.eval()\n",
    "\n",
    "            with torch.no_grad():\n",
    "                try:\n",
    "                    temp = next(val_iter)\n",
    "                    val_input = temp['input_tensor'].to(device)\n",
    "                    val_label = temp['label'].to(device)\n",
    "                    val_outputs = model(val_input).to(device)\n",
    "                    val_loss = loss_function(val_outputs.float(),val_label.float())\n",
    "                    val_losses.append(val_loss.item())\n",
    "                except StopIteration:\n",
    "                    pass\n",
    "\n",
    "            aa = aa+1\n",
    "\n",
    "    model.eval()\n",
    "    gc.collect()\n",
    "\n",
    "    torch.cuda.empty_cache()\n",
    "    return 0\n",
    "\n",
    "\n",
    "train(model, params)"
   ],
   "id": "2a56012cd60a2b3e",
   "outputs": [
    {
     "name": "stderr",
     "output_type": "stream",
     "text": [
      "100%|██████████| 50000/50000 [1:30:09<00:00,  9.24it/s]\n"
     ]
    },
    {
     "data": {
      "text/plain": [
       "0"
      ]
     },
     "execution_count": 12,
     "metadata": {},
     "output_type": "execute_result"
    }
   ],
   "execution_count": 12
  },
  {
   "metadata": {
    "ExecuteTime": {
     "end_time": "2025-07-06T14:43:53.769339Z",
     "start_time": "2025-07-06T14:43:53.500727Z"
    }
   },
   "cell_type": "code",
   "source": [
    "import matplotlib.pyplot as plt\n",
    "\n",
    "\n",
    "plt.figure()\n",
    "plt.plot(train_losses)"
   ],
   "id": "997a8accb2935630",
   "outputs": [
    {
     "data": {
      "text/plain": [
       "[<matplotlib.lines.Line2D at 0x7059f3221850>]"
      ]
     },
     "execution_count": 13,
     "metadata": {},
     "output_type": "execute_result"
    },
    {
     "data": {
      "text/plain": [
       "<Figure size 640x480 with 1 Axes>"
      ],
      "image/png": "[encoded data removed]"
     },
     "metadata": {},
     "output_type": "display_data"
    }
   ],
   "execution_count": 13
  },
  {
   "metadata": {
    "ExecuteTime": {
     "end_time": "2025-07-06T14:43:54.203890Z",
     "start_time": "2025-07-06T14:43:54.113464Z"
    }
   },
   "cell_type": "code",
   "source": [
    "plt.figure()\n",
    "plt.plot(val_losses)"
   ],
   "id": "a42f9bb7facbb5cb",
   "outputs": [
    {
     "data": {
      "text/plain": [
       "[<matplotlib.lines.Line2D at 0x7059f113fd10>]"
      ]
     },
     "execution_count": 14,
     "metadata": {},
     "output_type": "execute_result"
    },
    {
     "data": {
      "text/plain": [
       "<Figure size 640x480 with 1 Axes>"
      ],
      "image/png": "[encoded data removed]"
     },
     "metadata": {},
     "output_type": "display_data"
    }
   ],
   "execution_count": 14
  },
  {
   "metadata": {
    "ExecuteTime": {
     "end_time": "2025-07-06T14:43:54.568407Z",
     "start_time": "2025-07-06T14:43:54.566472Z"
    }
   },
   "cell_type": "code",
   "source": [
    "from datetime import datetime\n",
    "\n",
    "now = datetime.now()\n",
    "\n",
    "timestamp = now.strftime(\"%Y-%m-%d_%H:%M:%S\")"
   ],
   "id": "fe47a0a8c7232ca5",
   "outputs": [],
   "execution_count": 15
  },
  {
   "metadata": {
    "ExecuteTime": {
     "end_time": "2025-07-06T14:43:55.031108Z",
     "start_time": "2025-07-06T14:43:54.952354Z"
    }
   },
   "cell_type": "code",
   "source": [
    "name = \"./weights/model_34_\"+timestamp+\".pth\"\n",
    "torch.save(model.state_dict(), name)"
   ],
   "id": "2004639204b50adc",
   "outputs": [],
   "execution_count": 16
  },
  {
   "metadata": {
    "ExecuteTime": {
     "end_time": "2025-07-06T14:43:55.381602Z",
     "start_time": "2025-07-06T14:43:55.377060Z"
    }
   },
   "cell_type": "code",
   "source": [
    "import pickle\n",
    "\n",
    "name = \"./results/losses_\"+timestamp+\".pickle\"\n",
    "with open(name, 'wb') as f:\n",
    "    pickle.dump(train_losses, f)"
   ],
   "id": "3d3b76a34149863f",
   "outputs": [],
   "execution_count": 17
  },
  {
   "metadata": {
    "ExecuteTime": {
     "end_time": "2025-07-06T14:43:55.772920Z",
     "start_time": "2025-07-06T14:43:55.768013Z"
    }
   },
   "cell_type": "code",
   "source": [
    "name = \"./results/val_losses_\"+timestamp+\".pickle\"\n",
    "with open(name, 'wb') as f:\n",
    "    pickle.dump(val_losses, f)"
   ],
   "id": "c369420e44ce8e7b",
   "outputs": [],
   "execution_count": 18
  }
 ],
 "metadata": {
  "kernelspec": {
   "display_name": "Python 3",
   "language": "python",
   "name": "python3"
  },
  "language_info": {
   "codemirror_mode": {
    "name": "ipython",
    "version": 2
   },
   "file_extension": ".py",
   "mimetype": "text/x-python",
   "name": "python",
   "nbconvert_exporter": "python",
   "pygments_lexer": "ipython2",
   "version": "2.7.6"
  }
 },
 "nbformat": 4,
 "nbformat_minor": 5
}
