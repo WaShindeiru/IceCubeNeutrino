{
 "cells": [
  {
   "cell_type": "code",
   "id": "initial_id",
   "metadata": {
    "collapsed": true,
    "ExecuteTime": {
     "end_time": "2025-06-11T17:11:17.884740Z",
     "start_time": "2025-06-11T17:11:16.493943Z"
    }
   },
   "source": [
    "import pandas as pd\n",
    "import os\n",
    "import pyarrow.parquet as pq\n",
    "from tqdm import tqdm\n",
    "import seaborn as sns\n",
    "import matplotlib.pyplot as plt\n",
    "import torch\n",
    "import torch.nn as nn\n",
    "from torchvision.models import resnet50, resnet18"
   ],
   "outputs": [],
   "execution_count": 1
  },
  {
   "metadata": {
    "ExecuteTime": {
     "end_time": "2025-06-11T17:11:17.936926Z",
     "start_time": "2025-06-11T17:11:17.935557Z"
    }
   },
   "cell_type": "code",
   "source": [
    "# def get_batch(batchfile):\n",
    "#     batch1 = pq.ParquetFile(batchfile)\n",
    "#     it = batch1.iter_batches()\n",
    "#     batch1 = next(it).to_pandas()\n",
    "#     temp = batchfile.split('/')[-1].split('batch_')[1].split('.')[0]\n",
    "#     batch1['Batch'] = temp\n",
    "#     return(batch1)\n",
    "#\n",
    "# def get_pq(pqfile):\n",
    "#     pq_df = pq.ParquetFile(pqfile)\n",
    "#     it = pq_df.iter_batches()\n",
    "#     pq_df = next(it).to_pandas()\n",
    "#     return(pq_df)"
   ],
   "id": "7059d9fd0244d922",
   "outputs": [],
   "execution_count": 2
  },
  {
   "metadata": {
    "ExecuteTime": {
     "end_time": "2025-06-11T17:11:18.734402Z",
     "start_time": "2025-06-11T17:11:17.980499Z"
    }
   },
   "cell_type": "code",
   "source": [
    "sensor = pd.read_csv('/home/washindeiru/primaryDrive/iceCube/icecube-neutrinos-in-deep-ice/sensor_geometry.csv')\n",
    "train_meta = pq.ParquetFile('/home/washindeiru/primaryDrive/iceCube/icecube-neutrinos-in-deep-ice/train_meta.parquet')\n",
    "# # train_meta = pq.ParquetFile(\"/home/washindeiru/primaryDrive/iceCube/icecube-neutrinos-in-deep-ice/train/batch_1.parquet\")\n",
    "it = train_meta.iter_batches()\n",
    "train_meta = next(it).to_pandas()"
   ],
   "id": "ace94db47f43f6e6",
   "outputs": [],
   "execution_count": 3
  },
  {
   "metadata": {
    "ExecuteTime": {
     "end_time": "2025-06-11T17:11:18.748221Z",
     "start_time": "2025-06-11T17:11:18.742922Z"
    }
   },
   "cell_type": "code",
   "source": "train_meta.head(20)",
   "id": "344f95d883a96a97",
   "outputs": [
    {
     "data": {
      "text/plain": [
       "    batch_id  event_id  first_pulse_index  last_pulse_index   azimuth  \\\n",
       "0          1        24                  0                60  5.029555   \n",
       "1          1        41                 61               111  0.417742   \n",
       "2          1        59                112               147  1.160466   \n",
       "3          1        67                148               289  5.845952   \n",
       "4          1        72                290               351  0.653719   \n",
       "5          1        77                352               401  0.011372   \n",
       "6          1        79                402               717  3.533397   \n",
       "7          1        82                718               762  5.252108   \n",
       "8          1       121                763               803  3.084929   \n",
       "9          1       127                804               846  6.154335   \n",
       "10         1       140                847               938  4.486290   \n",
       "11         1       221                939              1000  0.367230   \n",
       "12         1       244               1001              1134  1.976920   \n",
       "13         1       290               1135              1183  4.658321   \n",
       "14         1       325               1184              1251  5.015813   \n",
       "15         1       354               1252              1304  1.059909   \n",
       "16         1       360               1305              1421  4.432304   \n",
       "17         1       402               1422              1473  5.608713   \n",
       "18         1       406               1474              1548  6.261226   \n",
       "19         1       410               1549              1597  5.367438   \n",
       "\n",
       "      zenith  \n",
       "0   2.087498  \n",
       "1   1.549686  \n",
       "2   2.401942  \n",
       "3   0.759054  \n",
       "4   0.939117  \n",
       "5   1.295371  \n",
       "6   2.479947  \n",
       "7   0.672366  \n",
       "8   2.065880  \n",
       "9   1.371721  \n",
       "10  1.655948  \n",
       "11  2.667595  \n",
       "12  1.363919  \n",
       "13  1.625890  \n",
       "14  1.676437  \n",
       "15  0.778906  \n",
       "16  0.340555  \n",
       "17  1.545135  \n",
       "18  0.910476  \n",
       "19  0.862134  "
      ],
      "text/html": [
       "<div>\n",
       "<style scoped>\n",
       "    .dataframe tbody tr th:only-of-type {\n",
       "        vertical-align: middle;\n",
       "    }\n",
       "\n",
       "    .dataframe tbody tr th {\n",
       "        vertical-align: top;\n",
       "    }\n",
       "\n",
       "    .dataframe thead th {\n",
       "        text-align: right;\n",
       "    }\n",
       "</style>\n",
       "<table border=\"1\" class=\"dataframe\">\n",
       "  <thead>\n",
       "    <tr style=\"text-align: right;\">\n",
       "      <th></th>\n",
       "      <th>batch_id</th>\n",
       "      <th>event_id</th>\n",
       "      <th>first_pulse_index</th>\n",
       "      <th>last_pulse_index</th>\n",
       "      <th>azimuth</th>\n",
       "      <th>zenith</th>\n",
       "    </tr>\n",
       "  </thead>\n",
       "  <tbody>\n",
       "    <tr>\n",
       "      <th>0</th>\n",
       "      <td>1</td>\n",
       "      <td>24</td>\n",
       "      <td>0</td>\n",
       "      <td>60</td>\n",
       "      <td>5.029555</td>\n",
       "      <td>2.087498</td>\n",
       "    </tr>\n",
       "    <tr>\n",
       "      <th>1</th>\n",
       "      <td>1</td>\n",
       "      <td>41</td>\n",
       "      <td>61</td>\n",
       "      <td>111</td>\n",
       "      <td>0.417742</td>\n",
       "      <td>1.549686</td>\n",
       "    </tr>\n",
       "    <tr>\n",
       "      <th>2</th>\n",
       "      <td>1</td>\n",
       "      <td>59</td>\n",
       "      <td>112</td>\n",
       "      <td>147</td>\n",
       "      <td>1.160466</td>\n",
       "      <td>2.401942</td>\n",
       "    </tr>\n",
       "    <tr>\n",
       "      <th>3</th>\n",
       "      <td>1</td>\n",
       "      <td>67</td>\n",
       "      <td>148</td>\n",
       "      <td>289</td>\n",
       "      <td>5.845952</td>\n",
       "      <td>0.759054</td>\n",
       "    </tr>\n",
       "    <tr>\n",
       "      <th>4</th>\n",
       "      <td>1</td>\n",
       "      <td>72</td>\n",
       "      <td>290</td>\n",
       "      <td>351</td>\n",
       "      <td>0.653719</td>\n",
       "      <td>0.939117</td>\n",
       "    </tr>\n",
       "    <tr>\n",
       "      <th>5</th>\n",
       "      <td>1</td>\n",
       "      <td>77</td>\n",
       "      <td>352</td>\n",
       "      <td>401</td>\n",
       "      <td>0.011372</td>\n",
       "      <td>1.295371</td>\n",
       "    </tr>\n",
       "    <tr>\n",
       "      <th>6</th>\n",
       "      <td>1</td>\n",
       "      <td>79</td>\n",
       "      <td>402</td>\n",
       "      <td>717</td>\n",
       "      <td>3.533397</td>\n",
       "      <td>2.479947</td>\n",
       "    </tr>\n",
       "    <tr>\n",
       "      <th>7</th>\n",
       "      <td>1</td>\n",
       "      <td>82</td>\n",
       "      <td>718</td>\n",
       "      <td>762</td>\n",
       "      <td>5.252108</td>\n",
       "      <td>0.672366</td>\n",
       "    </tr>\n",
       "    <tr>\n",
       "      <th>8</th>\n",
       "      <td>1</td>\n",
       "      <td>121</td>\n",
       "      <td>763</td>\n",
       "      <td>803</td>\n",
       "      <td>3.084929</td>\n",
       "      <td>2.065880</td>\n",
       "    </tr>\n",
       "    <tr>\n",
       "      <th>9</th>\n",
       "      <td>1</td>\n",
       "      <td>127</td>\n",
       "      <td>804</td>\n",
       "      <td>846</td>\n",
       "      <td>6.154335</td>\n",
       "      <td>1.371721</td>\n",
       "    </tr>\n",
       "    <tr>\n",
       "      <th>10</th>\n",
       "      <td>1</td>\n",
       "      <td>140</td>\n",
       "      <td>847</td>\n",
       "      <td>938</td>\n",
       "      <td>4.486290</td>\n",
       "      <td>1.655948</td>\n",
       "    </tr>\n",
       "    <tr>\n",
       "      <th>11</th>\n",
       "      <td>1</td>\n",
       "      <td>221</td>\n",
       "      <td>939</td>\n",
       "      <td>1000</td>\n",
       "      <td>0.367230</td>\n",
       "      <td>2.667595</td>\n",
       "    </tr>\n",
       "    <tr>\n",
       "      <th>12</th>\n",
       "      <td>1</td>\n",
       "      <td>244</td>\n",
       "      <td>1001</td>\n",
       "      <td>1134</td>\n",
       "      <td>1.976920</td>\n",
       "      <td>1.363919</td>\n",
       "    </tr>\n",
       "    <tr>\n",
       "      <th>13</th>\n",
       "      <td>1</td>\n",
       "      <td>290</td>\n",
       "      <td>1135</td>\n",
       "      <td>1183</td>\n",
       "      <td>4.658321</td>\n",
       "      <td>1.625890</td>\n",
       "    </tr>\n",
       "    <tr>\n",
       "      <th>14</th>\n",
       "      <td>1</td>\n",
       "      <td>325</td>\n",
       "      <td>1184</td>\n",
       "      <td>1251</td>\n",
       "      <td>5.015813</td>\n",
       "      <td>1.676437</td>\n",
       "    </tr>\n",
       "    <tr>\n",
       "      <th>15</th>\n",
       "      <td>1</td>\n",
       "      <td>354</td>\n",
       "      <td>1252</td>\n",
       "      <td>1304</td>\n",
       "      <td>1.059909</td>\n",
       "      <td>0.778906</td>\n",
       "    </tr>\n",
       "    <tr>\n",
       "      <th>16</th>\n",
       "      <td>1</td>\n",
       "      <td>360</td>\n",
       "      <td>1305</td>\n",
       "      <td>1421</td>\n",
       "      <td>4.432304</td>\n",
       "      <td>0.340555</td>\n",
       "    </tr>\n",
       "    <tr>\n",
       "      <th>17</th>\n",
       "      <td>1</td>\n",
       "      <td>402</td>\n",
       "      <td>1422</td>\n",
       "      <td>1473</td>\n",
       "      <td>5.608713</td>\n",
       "      <td>1.545135</td>\n",
       "    </tr>\n",
       "    <tr>\n",
       "      <th>18</th>\n",
       "      <td>1</td>\n",
       "      <td>406</td>\n",
       "      <td>1474</td>\n",
       "      <td>1548</td>\n",
       "      <td>6.261226</td>\n",
       "      <td>0.910476</td>\n",
       "    </tr>\n",
       "    <tr>\n",
       "      <th>19</th>\n",
       "      <td>1</td>\n",
       "      <td>410</td>\n",
       "      <td>1549</td>\n",
       "      <td>1597</td>\n",
       "      <td>5.367438</td>\n",
       "      <td>0.862134</td>\n",
       "    </tr>\n",
       "  </tbody>\n",
       "</table>\n",
       "</div>"
      ]
     },
     "execution_count": 4,
     "metadata": {},
     "output_type": "execute_result"
    }
   ],
   "execution_count": 4
  },
  {
   "metadata": {
    "ExecuteTime": {
     "end_time": "2025-06-11T17:11:18.806525Z",
     "start_time": "2025-06-11T17:11:18.805321Z"
    }
   },
   "cell_type": "code",
   "source": [
    "# i = 1\n",
    "# while True:\n",
    "#     try:\n",
    "#         item = next(it)\n",
    "#         i += 1\n",
    "#     except StopIteration:\n",
    "#         break\n",
    "#\n",
    "# print(i)"
   ],
   "id": "668019177fb6670",
   "outputs": [],
   "execution_count": 5
  },
  {
   "metadata": {
    "ExecuteTime": {
     "end_time": "2025-06-11T17:11:18.865684Z",
     "start_time": "2025-06-11T17:11:18.864343Z"
    }
   },
   "cell_type": "code",
   "source": "# print(train_meta)",
   "id": "2a92e33808b32a75",
   "outputs": [],
   "execution_count": 6
  },
  {
   "metadata": {
    "ExecuteTime": {
     "end_time": "2025-06-11T17:11:18.914596Z",
     "start_time": "2025-06-11T17:11:18.913098Z"
    }
   },
   "cell_type": "code",
   "source": [
    "# path_batch = '/home/washindeiru/primaryDrive/iceCube/icecube-neutrinos-in-deep-ice/train/'\n",
    "# batchfile = path_batch + 'batch_1.parquet'\n",
    "# batch1 = pq.ParquetFile(batchfile)\n",
    "# it = batch1.iter_batches()\n",
    "# batch1 = next(it).to_pandas()\n",
    "# batch1.head(100)"
   ],
   "id": "2598ac14d4b5461b",
   "outputs": [],
   "execution_count": 7
  },
  {
   "metadata": {
    "ExecuteTime": {
     "end_time": "2025-06-11T17:11:18.957883Z",
     "start_time": "2025-06-11T17:11:18.956507Z"
    }
   },
   "cell_type": "code",
   "source": [
    "# path_batch = '/home/washindeiru/primaryDrive/iceCube/icecube-neutrinos-in-deep-ice/train/'\n",
    "# sensor_info = [get_batch(path_batch+'batch_' + str(i+1) + '.parquet') for i in tqdm(range(2))]\n",
    "# sensor_info_df = pd.concat(sensor_info).reset_index()"
   ],
   "id": "cc182a06c7bda4e",
   "outputs": [],
   "execution_count": 8
  },
  {
   "metadata": {
    "ExecuteTime": {
     "end_time": "2025-06-11T17:11:19.012050Z",
     "start_time": "2025-06-11T17:11:19.010659Z"
    }
   },
   "cell_type": "code",
   "source": "# sensor_info_df.head()",
   "id": "ed3e688366f5911a",
   "outputs": [],
   "execution_count": 9
  },
  {
   "metadata": {
    "ExecuteTime": {
     "end_time": "2025-06-11T17:11:19.059117Z",
     "start_time": "2025-06-11T17:11:19.057643Z"
    }
   },
   "cell_type": "code",
   "source": [
    "# plt.figure(figsize = (20,10))\n",
    "# sns.set(font_scale = 1,style = 'ticks')\n",
    "# for i in range(16):\n",
    "#     plt.subplot(4,4,i+1)\n",
    "#     df = sensor_info_df[(sensor_info_df.event_id==sensor_info_df.event_id.unique()[i])]\n",
    "#     sns.lineplot(data = df,x = 'time',y = 'charge',hue = 'auxiliary',)\n",
    "#     plt.title('Batch 1, Event ID'+str(sensor_info_df.event_id.unique()[i]))\n",
    "#     plt.legend(loc = 'upper right')\n",
    "#     sns.despine()\n",
    "# plt.tight_layout()"
   ],
   "id": "e30e277677c537f4",
   "outputs": [],
   "execution_count": 10
  },
  {
   "metadata": {
    "ExecuteTime": {
     "end_time": "2025-06-11T17:11:19.393526Z",
     "start_time": "2025-06-11T17:11:19.104752Z"
    }
   },
   "cell_type": "code",
   "source": [
    "from Resnet import resnet101\n",
    "import torch.nn as nn\n",
    "model = resnet101(pretrained = False)\n",
    "model.fc = nn.Sequential(nn.ReLU(),nn.Linear(in_features=2048, out_features=2)) # Changed FC layer for our task"
   ],
   "id": "39d613485a2a5147",
   "outputs": [],
   "execution_count": 11
  },
  {
   "metadata": {
    "ExecuteTime": {
     "end_time": "2025-06-11T17:11:19.506460Z",
     "start_time": "2025-06-11T17:11:19.401451Z"
    }
   },
   "cell_type": "code",
   "source": "model.load_state_dict(torch.load(\"./model_101.pth\", weights_only=True))",
   "id": "7c58fa5f799a26e7",
   "outputs": [
    {
     "data": {
      "text/plain": [
       "<All keys matched successfully>"
      ]
     },
     "execution_count": 12,
     "metadata": {},
     "output_type": "execute_result"
    }
   ],
   "execution_count": 12
  },
  {
   "metadata": {
    "ExecuteTime": {
     "end_time": "2025-06-11T17:11:19.515384Z",
     "start_time": "2025-06-11T17:11:19.514188Z"
    }
   },
   "cell_type": "code",
   "source": [
    "# import torch.nn as nn\n",
    "# model = resnet34(pretrained = False)\n",
    "# model.fc = nn.Sequential(nn.ReLU(),nn.Linear(in_features=512, out_features=2)) # Changed FC layer for our task\n",
    "# # model = model.to(device)"
   ],
   "id": "29c1a237c2710fd",
   "outputs": [],
   "execution_count": 13
  },
  {
   "metadata": {
    "ExecuteTime": {
     "end_time": "2025-06-11T17:11:19.561038Z",
     "start_time": "2025-06-11T17:11:19.559909Z"
    }
   },
   "cell_type": "code",
   "source": [
    "# from CustomConvolution import CustomConvolution\n",
    "# model = CustomConvolution()\n",
    "# # model = model.to(device)"
   ],
   "id": "4c2477fca4b9703a",
   "outputs": [],
   "execution_count": 14
  },
  {
   "metadata": {
    "ExecuteTime": {
     "end_time": "2025-06-11T17:11:19.640511Z",
     "start_time": "2025-06-11T17:11:19.606561Z"
    }
   },
   "cell_type": "code",
   "source": [
    "from sklearn.metrics import mean_squared_error\n",
    "import numpy as np\n",
    "\n",
    "def evaluation(dataloader):\n",
    "    predictions = torch.tensor([], dtype=torch.float).to(device) # Tensor for prediction value appending\n",
    "    actual = torch.tensor([], dtype=torch.float).to(device) # Tensor for answer value appending\n",
    "    with torch.no_grad():\n",
    "        model.eval()\n",
    "        for data in dataloader:\n",
    "            inputs, values = data['input_tensor'].float().to(device),data['label'].to(device)\n",
    "            outputs = model(inputs).to(device)\n",
    "            predictions = torch.cat((predictions, torch.stack([torch.argmax(o) for o in outputs])),0)\n",
    "            actual = torch.cat((actual, values), 0)\n",
    "    predictions = predictions.cpu().numpy()\n",
    "    actual = actual.cpu().numpy()\n",
    "    rmse = np.sqrt(mean_squared_error(predictions, actual))\n",
    "    return rmse"
   ],
   "id": "85cb37016915d656",
   "outputs": [],
   "execution_count": 15
  },
  {
   "metadata": {
    "ExecuteTime": {
     "end_time": "2025-06-11T17:11:19.674518Z",
     "start_time": "2025-06-11T17:11:19.652750Z"
    }
   },
   "cell_type": "code",
   "source": [
    "from torch import optim\n",
    "device = torch.device('cuda' if torch.cuda.is_available() else 'cpu')\n",
    "device = 'cpu'\n",
    "\n",
    "\n",
    "pqfile = '/home/washindeiru/primaryDrive/iceCube/icecube-neutrinos-in-deep-ice/train_meta.parquet'\n",
    "path_batch = '/home/washindeiru/primaryDrive/iceCube/icecube-neutrinos-in-deep-ice/train/'\n",
    "\n",
    "batch_num=8 # There are 660 batches total, and the batch number should be iterated in range(660).\n",
    "lr = 1e-06\n",
    "num_epochs = 1\n",
    "batch_size = 2\n",
    "\n",
    "model = model.to(device)\n",
    "optimizer = optim.Adam(model.parameters(), lr=lr)\n",
    "# loss_function = nn.BCEWithLogitsLoss().to(device)\n",
    "loss_function = nn.MSELoss().to(device)"
   ],
   "id": "2cf90ec0aadfc1d6",
   "outputs": [],
   "execution_count": 16
  },
  {
   "metadata": {
    "ExecuteTime": {
     "end_time": "2025-06-11T17:11:21.740590Z",
     "start_time": "2025-06-11T17:11:19.698249Z"
    }
   },
   "cell_type": "code",
   "source": [
    "from torch.utils.data import DataLoader\n",
    "from Icecube_Dataloader import IceCube_Dataloader, collate_fn\n",
    "\n",
    "ice_dataset = IceCube_Dataloader(pqfile, path_batch, batch_num)\n",
    "train_dataset = ice_dataset\n",
    "# proportions = [.75, .10, .15]\n",
    "# lengths = [int(p * len(ice_dataset)) for p in proportions]\n",
    "# lengths[-1] = len(ice_dataset) - sum(lengths[:-1])\n",
    "# train_dataset, val_dataset, test_dataset = torch.utils.data.random_split(ice_dataset, lengths)\n",
    "\n",
    "train_dataloader = DataLoader(train_dataset, batch_size=batch_size, shuffle=True, collate_fn=collate_fn, num_workers=11)\n",
    "# val_dataloader = DataLoader(val_dataset, batch_size=batch_size, shuffle=True,collate_fn=collate_fn, num_workers=11)\n",
    "# test_dataloader = DataLoader(test_dataset, batch_size=batch_size, shuffle=True,collate_fn=collate_fn, num_workers=11)"
   ],
   "id": "67b8aa1a551755e2",
   "outputs": [],
   "execution_count": 17
  },
  {
   "metadata": {
    "ExecuteTime": {
     "end_time": "2025-06-11T17:11:21.943724Z",
     "start_time": "2025-06-11T17:11:21.942131Z"
    }
   },
   "cell_type": "code",
   "source": "print(device)",
   "id": "f5ac5d6ab9938ca5",
   "outputs": [
    {
     "name": "stdout",
     "output_type": "stream",
     "text": [
      "cpu\n"
     ]
    }
   ],
   "execution_count": 18
  },
  {
   "metadata": {
    "ExecuteTime": {
     "end_time": "2025-06-11T17:11:22.186504Z",
     "start_time": "2025-06-11T17:11:22.184905Z"
    }
   },
   "cell_type": "code",
   "source": "# model(ice_dataset.__getitem__(0)['input_tensor'].to(device))",
   "id": "4327f9a53250f661",
   "outputs": [],
   "execution_count": 19
  },
  {
   "metadata": {
    "ExecuteTime": {
     "end_time": "2025-06-11T17:11:22.430953Z",
     "start_time": "2025-06-11T17:11:22.429544Z"
    }
   },
   "cell_type": "code",
   "source": [
    "# print(ice_dataset.__getitem__(0)['input_tensor'].shape)\n",
    "# for i in range(20):\n",
    "#     print(ice_dataset.__getitem__(i)['input_tensor'].shape)"
   ],
   "id": "cd800b67621ab79d",
   "outputs": [],
   "execution_count": 20
  },
  {
   "metadata": {
    "ExecuteTime": {
     "end_time": "2025-06-11T17:11:22.633952Z",
     "start_time": "2025-06-11T17:11:22.632499Z"
    }
   },
   "cell_type": "code",
   "source": [
    "# train_dataloader.__getitem__(0)\n",
    "# # temp = iter(train_dataloader)\n",
    "# # next(temp)"
   ],
   "id": "e0888b434f079365",
   "outputs": [],
   "execution_count": 21
  },
  {
   "metadata": {
    "ExecuteTime": {
     "end_time": "2025-06-11T17:11:22.875026Z",
     "start_time": "2025-06-11T17:11:22.873363Z"
    }
   },
   "cell_type": "code",
   "source": [
    "params = {\n",
    "    'num_epochs':num_epochs,\n",
    "    'optimizer':optimizer,\n",
    "    'loss_function':loss_function,\n",
    "    'train_dataloader':train_dataloader,\n",
    "    # 'val_dataloader': val_dataloader,\n",
    "    # 'test_dataloader': test_dataloader,\n",
    "    'device':device,\n",
    "    'num_epoch' : num_epochs\n",
    "}\n"
   ],
   "id": "568973ab711d22f1",
   "outputs": [],
   "execution_count": 22
  },
  {
   "metadata": {
    "ExecuteTime": {
     "end_time": "2025-06-11T17:11:23.079139Z",
     "start_time": "2025-06-11T17:11:23.077641Z"
    }
   },
   "cell_type": "code",
   "source": "# train_dataset[0]['input_tensor'].shape",
   "id": "d225ed2bc3304063",
   "outputs": [],
   "execution_count": 23
  },
  {
   "metadata": {
    "ExecuteTime": {
     "end_time": "2025-06-11T17:11:23.322723Z",
     "start_time": "2025-06-11T17:11:23.321302Z"
    }
   },
   "cell_type": "code",
   "source": "# train_dataset[0]['label'] # This would be 'azimuth','zenith'",
   "id": "3952cc1ed04185d9",
   "outputs": [],
   "execution_count": 24
  },
  {
   "metadata": {
    "jupyter": {
     "is_executing": true
    },
    "ExecuteTime": {
     "start_time": "2025-06-11T17:11:23.526079Z"
    }
   },
   "cell_type": "code",
   "source": [
    "import gc\n",
    "train_losses = []\n",
    "outputs_ = []\n",
    "accum_iter = 1\n",
    "\n",
    "def train(model, params, accum_iter_):\n",
    "    model.train()\n",
    "    loss_function=params[\"loss_function\"]\n",
    "    train_dataloader=params[\"train_dataloader\"]\n",
    "    # val_dataloader=params[\"val_dataloader\"]\n",
    "    # test_dataloader=params[\"test_dataloader\"]\n",
    "\n",
    "    # device=params[\"device\"]\n",
    "    # for epoch in range(0, num_epochs):\n",
    "    #     with tqdm(train_dataloader,unit = 'batch') as tepoch:\n",
    "    #         for dat in train_dataloader:\n",
    "    #             tepoch.set_description(f\"Epoch {epoch}\")\n",
    "    #             inputs, labels = dat['input_tensor'].to(device),dat['label'].to(device)\n",
    "    #             optimizer.zero_grad()\n",
    "    #             outputs = model(inputs).to(device)\n",
    "    #             train_loss = loss_function(outputs.float(),labels.float())\n",
    "    #             train_loss = train_loss.requires_grad_(True)\n",
    "    #             train_loss.backward()\n",
    "    #             optimizer.step()\n",
    "    #             tepoch.set_postfix(loss=train_loss.item())\n",
    "\n",
    "    aa = 0\n",
    "\n",
    "    device=params[\"device\"]\n",
    "    for epoch in range(0, num_epochs):\n",
    "        # for batch_idx, dat in tqdm(enumerate(train_dataloader)):\n",
    "        for dat in tqdm(train_dataloader):\n",
    "            inputs, labels = dat['input_tensor'].to(device),dat['label'].to(device)\n",
    "\n",
    "            assert not torch.isnan(inputs).any(), \"Inputs contain NaNs\"\n",
    "            assert not torch.isnan(labels).any(), \"Labels contain NaNs\"\n",
    "\n",
    "            outputs = model(inputs).to(device)\n",
    "            outputs_.append(outputs.cpu().detach().numpy())\n",
    "\n",
    "            # if not torch.isnan(outputs).any():\n",
    "            train_loss = loss_function(outputs.float(),labels.float())\n",
    "            train_losses.append(train_loss.item())\n",
    "\n",
    "            # if aa%10 == 0:\n",
    "            #     train_losses.append(train_loss.item())\n",
    "            if aa%100==0:\n",
    "                print(f\"Train loss: {train_loss.item()}\")\n",
    "                # gc.collect()\n",
    "            # train_loss = train_loss.requires_grad_(True)\n",
    "\n",
    "            train_loss.backward()\n",
    "\n",
    "            # if ((batch_idx+1) % accum_iter_ == 0) or (batch_idx == len(train_dataloader)):\n",
    "            torch.nn.utils.clip_grad_norm_(model.parameters(), max_norm=1.0)\n",
    "            optimizer.step()\n",
    "            optimizer.zero_grad()\n",
    "            torch.cuda.empty_cache()\n",
    "            # torch.cuda.empty_cache()\n",
    "            aa = aa+1\n",
    "\n",
    "    model.eval()\n",
    "    gc.collect()\n",
    "    # train_rmse = evaluation(train_dataloader)\n",
    "    # val_rmse = evaluation(val_dataloader)\n",
    "\n",
    "    # print(f\"Train Loss: {train_rmse}\")\n",
    "    # print(\" Train Loss: %.4f, Validation Loss: %.4f\" %(train_rmse, val_rmse))\n",
    "    torch.cuda.empty_cache()\n",
    "    return 0\n",
    "\n",
    "\n",
    "train(model, params, accum_iter)"
   ],
   "id": "2a56012cd60a2b3e",
   "outputs": [
    {
     "name": "stderr",
     "output_type": "stream",
     "text": [
      "  0%|          | 0/25000 [00:00<?, ?it/s]"
     ]
    },
    {
     "name": "stdout",
     "output_type": "stream",
     "text": [
      "Train loss: 2.8181722164154053\n"
     ]
    },
    {
     "name": "stderr",
     "output_type": "stream",
     "text": [
      "  0%|          | 101/25000 [00:27<1:23:47,  4.95it/s]"
     ]
    },
    {
     "name": "stdout",
     "output_type": "stream",
     "text": [
      "Train loss: 1.70978581905365\n"
     ]
    },
    {
     "name": "stderr",
     "output_type": "stream",
     "text": [
      "  0%|          | 109/25000 [00:29<2:05:35,  3.30it/s]"
     ]
    }
   ],
   "execution_count": null
  },
  {
   "metadata": {},
   "cell_type": "code",
   "source": [
    "import matplotlib.pyplot as plt\n",
    "\n",
    "plt.figure()\n",
    "plt.plot(train_losses)"
   ],
   "id": "997a8accb2935630",
   "outputs": [],
   "execution_count": null
  },
  {
   "metadata": {},
   "cell_type": "code",
   "source": [
    "from datetime import datetime\n",
    "\n",
    "# Get current date and time\n",
    "now = datetime.now()\n",
    "\n",
    "# Format the date and time (e.g., \"2025-06-07 15:30:45\")\n",
    "timestamp = now.strftime(\"%Y-%m-%d_%H:%M:%S\")"
   ],
   "id": "fe47a0a8c7232ca5",
   "outputs": [],
   "execution_count": null
  },
  {
   "metadata": {},
   "cell_type": "code",
   "source": [
    "name = \"./weights/model_101_\"+timestamp+\".pth\"\n",
    "torch.save(model.state_dict(), name)"
   ],
   "id": "2004639204b50adc",
   "outputs": [],
   "execution_count": null
  },
  {
   "metadata": {},
   "cell_type": "code",
   "source": [
    "import pickle\n",
    "\n",
    "# Save to file\n",
    "name = \"./results/losses_\"+timestamp+\".pickle\"\n",
    "with open(name, 'wb') as f:\n",
    "    pickle.dump(train_losses, f)"
   ],
   "id": "3d3b76a34149863f",
   "outputs": [],
   "execution_count": null
  },
  {
   "metadata": {},
   "cell_type": "code",
   "source": "# torch.save(model.state_dict(), \"./model_101.pth\")",
   "id": "de79c66c42a68667",
   "outputs": [],
   "execution_count": null
  },
  {
   "metadata": {},
   "cell_type": "code",
   "source": [
    "# import pickle\n",
    "#\n",
    "# # Save to file\n",
    "# with open('losses.pickle', 'wb') as f:\n",
    "#     pickle.dump(train_losses, f)"
   ],
   "id": "164cde06b1108f05",
   "outputs": [],
   "execution_count": null
  },
  {
   "metadata": {},
   "cell_type": "code",
   "source": "# torch.save(model, \"./model_all.pth\")",
   "id": "1bb2767cb01c79b5",
   "outputs": [],
   "execution_count": null
  },
  {
   "metadata": {},
   "cell_type": "code",
   "source": [
    "# pqfile = '/home/washindeiru/primaryDrive/iceCube/icecube-neutrinos-in-deep-ice/test_meta.parquet'\n",
    "# path_batch = '/home/washindeiru/primaryDrive/iceCube/icecube-neutrinos-in-deep-ice/test/'\n",
    "# batch_num=661\n",
    "# inference_dataset = ICECUDE_Dataset(pqfile,path_batch,batch_num,'test')\n",
    "# inference_dataloader = DataLoader(inference_dataset, batch_size=1)"
   ],
   "id": "86d188ea74a619d9",
   "outputs": [],
   "execution_count": null
  },
  {
   "metadata": {},
   "cell_type": "code",
   "source": [
    "# model.eval()\n",
    "# output_lst=[]\n",
    "# for dat in inference_dataloader:\n",
    "#     inputs = dat['input_tensor'].to(device)\n",
    "#     outputs = model(inputs).to(device)\n",
    "#     outputs = outputs.cpu().detach().squeeze().numpy()\n",
    "#     outputs = outputs.tolist()\n",
    "#     output_lst.append(outputs)"
   ],
   "id": "d3a599ed89639b09",
   "outputs": [],
   "execution_count": null
  },
  {
   "metadata": {},
   "cell_type": "code",
   "source": [
    "# sample_sub = pq.read_table('/kaggle/input/icecube-neutrinos-in-deep-ice/sample_submission.parquet').to_pandas()\n",
    "# batch661 = pq.read_table('/kaggle/input/icecube-neutrinos-in-deep-ice/test/batch_661.parquet').to_pandas()\n"
   ],
   "id": "87125ea6935d201b",
   "outputs": [],
   "execution_count": null
  },
  {
   "metadata": {},
   "cell_type": "code",
   "source": "# sample_sub",
   "id": "3b5683392a7d3873",
   "outputs": [],
   "execution_count": null
  },
  {
   "metadata": {},
   "cell_type": "code",
   "source": [
    "# submission = pd.DataFrame(output_lst)\n",
    "# submission.index = batch661.index.unique().tolist()\n",
    "# submission.reset_index(inplace = True)\n",
    "# submission.columns = ['event_id','azimuth','zenith']"
   ],
   "id": "5f5f250d55f4fe4e",
   "outputs": [],
   "execution_count": null
  },
  {
   "metadata": {},
   "cell_type": "code",
   "source": "# submission",
   "id": "3b4124014c3da303",
   "outputs": [],
   "execution_count": null
  }
 ],
 "metadata": {
  "kernelspec": {
   "display_name": "Python 3",
   "language": "python",
   "name": "python3"
  },
  "language_info": {
   "codemirror_mode": {
    "name": "ipython",
    "version": 2
   },
   "file_extension": ".py",
   "mimetype": "text/x-python",
   "name": "python",
   "nbconvert_exporter": "python",
   "pygments_lexer": "ipython2",
   "version": "2.7.6"
  }
 },
 "nbformat": 4,
 "nbformat_minor": 5
}
