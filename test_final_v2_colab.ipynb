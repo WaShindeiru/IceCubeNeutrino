{
 "cells": [
  {
   "cell_type": "code",
   "id": "initial_id",
   "metadata": {
    "collapsed": true,
    "ExecuteTime": {
     "end_time": "2025-06-12T10:03:42.516326Z",
     "start_time": "2025-06-12T10:03:41.690940Z"
    }
   },
   "source": [
    "import matplotlib.pyplot as plt\n",
    "import torch\n",
    "import torch.nn as nn\n",
    "\n",
    "from Resnet import resnet34\n",
    "from Icecube_Dataloader import IceCube_Dataloader, collate_fn"
   ],
   "outputs": [],
   "execution_count": 1
  },
  {
   "metadata": {
    "ExecuteTime": {
     "end_time": "2025-06-12T10:03:42.878994Z",
     "start_time": "2025-06-12T10:03:42.568883Z"
    }
   },
   "cell_type": "code",
   "source": [
    "model = resnet34(pretrained = False)\n",
    "model.fc = nn.Sequential(nn.ReLU(),nn.Linear(in_features=512, out_features=2)) # Changed FC layer for our task\n",
    "model.load_state_dict(torch.load(\"./weights/model_34_2025-06-12_11:59:35.pth\", weights_only=True))\n",
    "model.eval()"
   ],
   "id": "f2c18296b5ccfb59",
   "outputs": [
    {
     "data": {
      "text/plain": [
       "ResNet(\n",
       "  (conv1): Conv2d(5, 64, kernel_size=(7, 7), stride=(2, 2), padding=(3, 3), bias=False)\n",
       "  (bn1): BatchNorm2d(64, eps=1e-05, momentum=0.1, affine=True, track_running_stats=True)\n",
       "  (relu): ReLU(inplace=True)\n",
       "  (maxpool): MaxPool2d(kernel_size=3, stride=2, padding=1, dilation=1, ceil_mode=False)\n",
       "  (layer1): Sequential(\n",
       "    (0): BasicBlock(\n",
       "      (conv1): Conv2d(64, 64, kernel_size=(3, 3), stride=(1, 1), padding=(1, 1), bias=False)\n",
       "      (bn1): BatchNorm2d(64, eps=1e-05, momentum=0.1, affine=True, track_running_stats=True)\n",
       "      (relu): ReLU(inplace=True)\n",
       "      (conv2): Conv2d(64, 64, kernel_size=(3, 3), stride=(1, 1), padding=(1, 1), bias=False)\n",
       "      (bn2): BatchNorm2d(64, eps=1e-05, momentum=0.1, affine=True, track_running_stats=True)\n",
       "    )\n",
       "    (1): BasicBlock(\n",
       "      (conv1): Conv2d(64, 64, kernel_size=(3, 3), stride=(1, 1), padding=(1, 1), bias=False)\n",
       "      (bn1): BatchNorm2d(64, eps=1e-05, momentum=0.1, affine=True, track_running_stats=True)\n",
       "      (relu): ReLU(inplace=True)\n",
       "      (conv2): Conv2d(64, 64, kernel_size=(3, 3), stride=(1, 1), padding=(1, 1), bias=False)\n",
       "      (bn2): BatchNorm2d(64, eps=1e-05, momentum=0.1, affine=True, track_running_stats=True)\n",
       "    )\n",
       "    (2): BasicBlock(\n",
       "      (conv1): Conv2d(64, 64, kernel_size=(3, 3), stride=(1, 1), padding=(1, 1), bias=False)\n",
       "      (bn1): BatchNorm2d(64, eps=1e-05, momentum=0.1, affine=True, track_running_stats=True)\n",
       "      (relu): ReLU(inplace=True)\n",
       "      (conv2): Conv2d(64, 64, kernel_size=(3, 3), stride=(1, 1), padding=(1, 1), bias=False)\n",
       "      (bn2): BatchNorm2d(64, eps=1e-05, momentum=0.1, affine=True, track_running_stats=True)\n",
       "    )\n",
       "  )\n",
       "  (layer2): Sequential(\n",
       "    (0): BasicBlock(\n",
       "      (conv1): Conv2d(64, 128, kernel_size=(3, 3), stride=(2, 2), padding=(1, 1), bias=False)\n",
       "      (bn1): BatchNorm2d(128, eps=1e-05, momentum=0.1, affine=True, track_running_stats=True)\n",
       "      (relu): ReLU(inplace=True)\n",
       "      (conv2): Conv2d(128, 128, kernel_size=(3, 3), stride=(1, 1), padding=(1, 1), bias=False)\n",
       "      (bn2): BatchNorm2d(128, eps=1e-05, momentum=0.1, affine=True, track_running_stats=True)\n",
       "      (downsample): Sequential(\n",
       "        (0): Conv2d(64, 128, kernel_size=(1, 1), stride=(2, 2), bias=False)\n",
       "        (1): BatchNorm2d(128, eps=1e-05, momentum=0.1, affine=True, track_running_stats=True)\n",
       "      )\n",
       "    )\n",
       "    (1): BasicBlock(\n",
       "      (conv1): Conv2d(128, 128, kernel_size=(3, 3), stride=(1, 1), padding=(1, 1), bias=False)\n",
       "      (bn1): BatchNorm2d(128, eps=1e-05, momentum=0.1, affine=True, track_running_stats=True)\n",
       "      (relu): ReLU(inplace=True)\n",
       "      (conv2): Conv2d(128, 128, kernel_size=(3, 3), stride=(1, 1), padding=(1, 1), bias=False)\n",
       "      (bn2): BatchNorm2d(128, eps=1e-05, momentum=0.1, affine=True, track_running_stats=True)\n",
       "    )\n",
       "    (2): BasicBlock(\n",
       "      (conv1): Conv2d(128, 128, kernel_size=(3, 3), stride=(1, 1), padding=(1, 1), bias=False)\n",
       "      (bn1): BatchNorm2d(128, eps=1e-05, momentum=0.1, affine=True, track_running_stats=True)\n",
       "      (relu): ReLU(inplace=True)\n",
       "      (conv2): Conv2d(128, 128, kernel_size=(3, 3), stride=(1, 1), padding=(1, 1), bias=False)\n",
       "      (bn2): BatchNorm2d(128, eps=1e-05, momentum=0.1, affine=True, track_running_stats=True)\n",
       "    )\n",
       "    (3): BasicBlock(\n",
       "      (conv1): Conv2d(128, 128, kernel_size=(3, 3), stride=(1, 1), padding=(1, 1), bias=False)\n",
       "      (bn1): BatchNorm2d(128, eps=1e-05, momentum=0.1, affine=True, track_running_stats=True)\n",
       "      (relu): ReLU(inplace=True)\n",
       "      (conv2): Conv2d(128, 128, kernel_size=(3, 3), stride=(1, 1), padding=(1, 1), bias=False)\n",
       "      (bn2): BatchNorm2d(128, eps=1e-05, momentum=0.1, affine=True, track_running_stats=True)\n",
       "    )\n",
       "  )\n",
       "  (layer3): Sequential(\n",
       "    (0): BasicBlock(\n",
       "      (conv1): Conv2d(128, 256, kernel_size=(3, 3), stride=(2, 2), padding=(1, 1), bias=False)\n",
       "      (bn1): BatchNorm2d(256, eps=1e-05, momentum=0.1, affine=True, track_running_stats=True)\n",
       "      (relu): ReLU(inplace=True)\n",
       "      (conv2): Conv2d(256, 256, kernel_size=(3, 3), stride=(1, 1), padding=(1, 1), bias=False)\n",
       "      (bn2): BatchNorm2d(256, eps=1e-05, momentum=0.1, affine=True, track_running_stats=True)\n",
       "      (downsample): Sequential(\n",
       "        (0): Conv2d(128, 256, kernel_size=(1, 1), stride=(2, 2), bias=False)\n",
       "        (1): BatchNorm2d(256, eps=1e-05, momentum=0.1, affine=True, track_running_stats=True)\n",
       "      )\n",
       "    )\n",
       "    (1): BasicBlock(\n",
       "      (conv1): Conv2d(256, 256, kernel_size=(3, 3), stride=(1, 1), padding=(1, 1), bias=False)\n",
       "      (bn1): BatchNorm2d(256, eps=1e-05, momentum=0.1, affine=True, track_running_stats=True)\n",
       "      (relu): ReLU(inplace=True)\n",
       "      (conv2): Conv2d(256, 256, kernel_size=(3, 3), stride=(1, 1), padding=(1, 1), bias=False)\n",
       "      (bn2): BatchNorm2d(256, eps=1e-05, momentum=0.1, affine=True, track_running_stats=True)\n",
       "    )\n",
       "    (2): BasicBlock(\n",
       "      (conv1): Conv2d(256, 256, kernel_size=(3, 3), stride=(1, 1), padding=(1, 1), bias=False)\n",
       "      (bn1): BatchNorm2d(256, eps=1e-05, momentum=0.1, affine=True, track_running_stats=True)\n",
       "      (relu): ReLU(inplace=True)\n",
       "      (conv2): Conv2d(256, 256, kernel_size=(3, 3), stride=(1, 1), padding=(1, 1), bias=False)\n",
       "      (bn2): BatchNorm2d(256, eps=1e-05, momentum=0.1, affine=True, track_running_stats=True)\n",
       "    )\n",
       "    (3): BasicBlock(\n",
       "      (conv1): Conv2d(256, 256, kernel_size=(3, 3), stride=(1, 1), padding=(1, 1), bias=False)\n",
       "      (bn1): BatchNorm2d(256, eps=1e-05, momentum=0.1, affine=True, track_running_stats=True)\n",
       "      (relu): ReLU(inplace=True)\n",
       "      (conv2): Conv2d(256, 256, kernel_size=(3, 3), stride=(1, 1), padding=(1, 1), bias=False)\n",
       "      (bn2): BatchNorm2d(256, eps=1e-05, momentum=0.1, affine=True, track_running_stats=True)\n",
       "    )\n",
       "    (4): BasicBlock(\n",
       "      (conv1): Conv2d(256, 256, kernel_size=(3, 3), stride=(1, 1), padding=(1, 1), bias=False)\n",
       "      (bn1): BatchNorm2d(256, eps=1e-05, momentum=0.1, affine=True, track_running_stats=True)\n",
       "      (relu): ReLU(inplace=True)\n",
       "      (conv2): Conv2d(256, 256, kernel_size=(3, 3), stride=(1, 1), padding=(1, 1), bias=False)\n",
       "      (bn2): BatchNorm2d(256, eps=1e-05, momentum=0.1, affine=True, track_running_stats=True)\n",
       "    )\n",
       "    (5): BasicBlock(\n",
       "      (conv1): Conv2d(256, 256, kernel_size=(3, 3), stride=(1, 1), padding=(1, 1), bias=False)\n",
       "      (bn1): BatchNorm2d(256, eps=1e-05, momentum=0.1, affine=True, track_running_stats=True)\n",
       "      (relu): ReLU(inplace=True)\n",
       "      (conv2): Conv2d(256, 256, kernel_size=(3, 3), stride=(1, 1), padding=(1, 1), bias=False)\n",
       "      (bn2): BatchNorm2d(256, eps=1e-05, momentum=0.1, affine=True, track_running_stats=True)\n",
       "    )\n",
       "  )\n",
       "  (layer4): Sequential(\n",
       "    (0): BasicBlock(\n",
       "      (conv1): Conv2d(256, 512, kernel_size=(3, 3), stride=(2, 2), padding=(1, 1), bias=False)\n",
       "      (bn1): BatchNorm2d(512, eps=1e-05, momentum=0.1, affine=True, track_running_stats=True)\n",
       "      (relu): ReLU(inplace=True)\n",
       "      (conv2): Conv2d(512, 512, kernel_size=(3, 3), stride=(1, 1), padding=(1, 1), bias=False)\n",
       "      (bn2): BatchNorm2d(512, eps=1e-05, momentum=0.1, affine=True, track_running_stats=True)\n",
       "      (downsample): Sequential(\n",
       "        (0): Conv2d(256, 512, kernel_size=(1, 1), stride=(2, 2), bias=False)\n",
       "        (1): BatchNorm2d(512, eps=1e-05, momentum=0.1, affine=True, track_running_stats=True)\n",
       "      )\n",
       "    )\n",
       "    (1): BasicBlock(\n",
       "      (conv1): Conv2d(512, 512, kernel_size=(3, 3), stride=(1, 1), padding=(1, 1), bias=False)\n",
       "      (bn1): BatchNorm2d(512, eps=1e-05, momentum=0.1, affine=True, track_running_stats=True)\n",
       "      (relu): ReLU(inplace=True)\n",
       "      (conv2): Conv2d(512, 512, kernel_size=(3, 3), stride=(1, 1), padding=(1, 1), bias=False)\n",
       "      (bn2): BatchNorm2d(512, eps=1e-05, momentum=0.1, affine=True, track_running_stats=True)\n",
       "    )\n",
       "    (2): BasicBlock(\n",
       "      (conv1): Conv2d(512, 512, kernel_size=(3, 3), stride=(1, 1), padding=(1, 1), bias=False)\n",
       "      (bn1): BatchNorm2d(512, eps=1e-05, momentum=0.1, affine=True, track_running_stats=True)\n",
       "      (relu): ReLU(inplace=True)\n",
       "      (conv2): Conv2d(512, 512, kernel_size=(3, 3), stride=(1, 1), padding=(1, 1), bias=False)\n",
       "      (bn2): BatchNorm2d(512, eps=1e-05, momentum=0.1, affine=True, track_running_stats=True)\n",
       "    )\n",
       "  )\n",
       "  (avgpool): AdaptiveAvgPool2d(output_size=(1, 1))\n",
       "  (fc): Sequential(\n",
       "    (0): ReLU()\n",
       "    (1): Linear(in_features=512, out_features=2, bias=True)\n",
       "  )\n",
       ")"
      ]
     },
     "execution_count": 2,
     "metadata": {},
     "output_type": "execute_result"
    }
   ],
   "execution_count": 2
  },
  {
   "metadata": {
    "ExecuteTime": {
     "end_time": "2025-06-12T10:04:17.618168Z",
     "start_time": "2025-06-12T10:04:17.616435Z"
    }
   },
   "cell_type": "code",
   "source": [
    "pqfile = '/home/washindeiru/primaryDrive/iceCube/icecube-neutrinos-in-deep-ice/train_meta.parquet'\n",
    "path_batch = '/home/washindeiru/primaryDrive/iceCube/icecube-neutrinos-in-deep-ice/train/'\n",
    "geometry = \"/home/washindeiru/primaryDrive/iceCube/icecube-neutrinos-in-deep-ice/sensor_geometry.csv\"\n",
    "\n",
    "batch_num=2\n",
    "lr = 1e-06\n",
    "num_epochs = 1\n",
    "batch_size = 8"
   ],
   "id": "72a68efe2ead2646",
   "outputs": [],
   "execution_count": 5
  },
  {
   "metadata": {
    "ExecuteTime": {
     "end_time": "2025-06-12T10:04:22.546276Z",
     "start_time": "2025-06-12T10:04:20.277342Z"
    }
   },
   "cell_type": "code",
   "source": [
    "from torch.utils.data import DataLoader\n",
    "\n",
    "ice_dataset = IceCube_Dataloader(pqfile, path_batch, geometry, batch_num)\n",
    "train_dataset = ice_dataset\n",
    "train_dataloader = DataLoader(train_dataset, batch_size=batch_size, shuffle=True,collate_fn=collate_fn, num_workers=11)"
   ],
   "id": "bbe3e68c48d8caab",
   "outputs": [],
   "execution_count": 6
  },
  {
   "metadata": {
    "ExecuteTime": {
     "end_time": "2025-06-12T10:04:24.277736Z",
     "start_time": "2025-06-12T10:04:24.254633Z"
    }
   },
   "cell_type": "code",
   "source": [
    "device = torch.device('cuda' if torch.cuda.is_available() else 'cpu')\n",
    "\n",
    "model = model.to(device)"
   ],
   "id": "e33c11e7a981baab",
   "outputs": [],
   "execution_count": 7
  },
  {
   "metadata": {},
   "cell_type": "markdown",
   "source": "## Testy resnet34",
   "id": "b46872ef155ba1ea"
  },
  {
   "metadata": {
    "ExecuteTime": {
     "end_time": "2025-06-12T10:04:29.213788Z",
     "start_time": "2025-06-12T10:04:28.762374Z"
    }
   },
   "cell_type": "code",
   "source": "data_iter = iter(train_dataloader)",
   "id": "8ae7714bff502ebd",
   "outputs": [],
   "execution_count": 8
  },
  {
   "metadata": {
    "ExecuteTime": {
     "end_time": "2025-06-12T10:04:30.852981Z",
     "start_time": "2025-06-12T10:04:29.802907Z"
    }
   },
   "cell_type": "code",
   "source": [
    "first_batch = next(data_iter)\n",
    "print(f\"input tensor shape: {first_batch['input_tensor'].shape}\")\n",
    "print(f\"label shape: {first_batch['label'].shape}\")\n",
    "input_tensor = first_batch['input_tensor']\n",
    "label = first_batch['label'].to(device)\n",
    "\n",
    "result = model(input_tensor.to(device))"
   ],
   "id": "c302fe8c5286069d",
   "outputs": [
    {
     "name": "stdout",
     "output_type": "stream",
     "text": [
      "input tensor shape: torch.Size([8, 5, 1, 2311])\n",
      "label shape: torch.Size([8, 2])\n"
     ]
    }
   ],
   "execution_count": 9
  },
  {
   "metadata": {
    "ExecuteTime": {
     "end_time": "2025-06-12T10:04:32.274194Z",
     "start_time": "2025-06-12T10:04:32.271819Z"
    }
   },
   "cell_type": "code",
   "source": [
    "def compare(label, result):\n",
    "    assert label.shape == result.shape\n",
    "    x = label.shape[0]\n",
    "    for i in range(x):\n",
    "        print(f\"Correct: {label[i, :].detach().cpu().numpy()}, predicted: {result[i, :].detach().cpu().numpy()}\")"
   ],
   "id": "9cd5ba926293f16",
   "outputs": [],
   "execution_count": 10
  },
  {
   "metadata": {
    "ExecuteTime": {
     "end_time": "2025-06-12T10:04:36.223803Z",
     "start_time": "2025-06-12T10:04:36.220096Z"
    }
   },
   "cell_type": "code",
   "source": "compare(label, result)",
   "id": "28f394ab18e2196a",
   "outputs": [
    {
     "name": "stdout",
     "output_type": "stream",
     "text": [
      "Correct: [5.827351  1.1743858], predicted: [1.5663016 1.1183655]\n",
      "Correct: [4.217883  1.9368633], predicted: [1.443208  1.1441729]\n",
      "Correct: [4.2548003 0.4101669], predicted: [1.5713267 1.1604666]\n",
      "Correct: [5.9851904 1.9383175], predicted: [1.5520196 1.1047766]\n",
      "Correct: [5.569147  2.0059903], predicted: [1.5186439 1.1211486]\n",
      "Correct: [1.7169573 1.9825397], predicted: [1.56008   1.1262977]\n",
      "Correct: [2.721782  0.8837729], predicted: [1.6365905 1.2819067]\n",
      "Correct: [3.3170254 1.3807974], predicted: [1.5380961 1.1242049]\n"
     ]
    }
   ],
   "execution_count": 14
  },
  {
   "metadata": {
    "ExecuteTime": {
     "end_time": "2025-06-12T10:04:43.659978Z",
     "start_time": "2025-06-12T10:04:43.658069Z"
    }
   },
   "cell_type": "code",
   "source": "loss_function = nn.MSELoss().to(device)",
   "id": "81fe8ebb7bdc94b6",
   "outputs": [],
   "execution_count": 15
  },
  {
   "metadata": {
    "ExecuteTime": {
     "end_time": "2025-06-12T10:04:44.546783Z",
     "start_time": "2025-06-12T10:04:44.535837Z"
    }
   },
   "cell_type": "code",
   "source": [
    "temp = loss_function(result.float(),label.float())\n",
    "print(temp)"
   ],
   "id": "845ab950f43541cb",
   "outputs": [
    {
     "name": "stdout",
     "output_type": "stream",
     "text": [
      "tensor(4.8195, device='cuda:0', grad_fn=<MseLossBackward0>)\n"
     ]
    }
   ],
   "execution_count": 16
  },
  {
   "metadata": {
    "ExecuteTime": {
     "end_time": "2025-06-12T10:04:45.884733Z",
     "start_time": "2025-06-12T10:04:45.849657Z"
    }
   },
   "cell_type": "code",
   "source": [
    "first_batch = next(data_iter)\n",
    "print(f\"input tensor shape: {first_batch['input_tensor'].shape}\")\n",
    "print(f\"label shape: {first_batch['label'].shape}\")\n",
    "input_tensor = first_batch['input_tensor']\n",
    "label = first_batch['label']\n",
    "\n",
    "result = model(input_tensor.to(device))"
   ],
   "id": "a687e83fcb1abb8d",
   "outputs": [
    {
     "name": "stdout",
     "output_type": "stream",
     "text": [
      "input tensor shape: torch.Size([8, 5, 1, 97])\n",
      "label shape: torch.Size([8, 2])\n"
     ]
    }
   ],
   "execution_count": 17
  },
  {
   "metadata": {
    "ExecuteTime": {
     "end_time": "2025-06-12T10:04:47.284971Z",
     "start_time": "2025-06-12T10:04:47.281385Z"
    }
   },
   "cell_type": "code",
   "source": "compare(label, result)",
   "id": "63b735cc11418932",
   "outputs": [
    {
     "name": "stdout",
     "output_type": "stream",
     "text": [
      "Correct: [6.213515 2.292257], predicted: [2.5607653 0.7167339]\n",
      "Correct: [5.3895106 2.4848273], predicted: [2.4492393 1.1325467]\n",
      "Correct: [0.92564684 2.4146242 ], predicted: [2.9049652 0.9802181]\n",
      "Correct: [2.688308  0.9210144], predicted: [2.1717522 1.5918382]\n",
      "Correct: [1.2283885 1.7314225], predicted: [2.5586066 1.0655453]\n",
      "Correct: [5.2125897  0.77101296], predicted: [2.0582945 1.1853485]\n",
      "Correct: [5.001557  0.6944043], predicted: [2.8867123 1.1604309]\n",
      "Correct: [2.738024  1.5715377], predicted: [2.667045  1.1651855]\n"
     ]
    }
   ],
   "execution_count": 18
  },
  {
   "metadata": {
    "ExecuteTime": {
     "end_time": "2025-06-12T10:04:55.201077Z",
     "start_time": "2025-06-12T10:04:55.188147Z"
    }
   },
   "cell_type": "code",
   "source": [
    "first_batch = next(data_iter)\n",
    "print(f\"input tensor shape: {first_batch['input_tensor'].shape}\")\n",
    "print(f\"label shape: {first_batch['label'].shape}\")\n",
    "input_tensor = first_batch['input_tensor']\n",
    "label = first_batch['label']\n",
    "\n",
    "result = model(input_tensor.to(device))"
   ],
   "id": "10196cbc62c703cb",
   "outputs": [
    {
     "name": "stdout",
     "output_type": "stream",
     "text": [
      "input tensor shape: torch.Size([8, 5, 1, 96])\n",
      "label shape: torch.Size([8, 2])\n"
     ]
    }
   ],
   "execution_count": 19
  },
  {
   "metadata": {
    "ExecuteTime": {
     "end_time": "2025-06-12T10:04:56.547344Z",
     "start_time": "2025-06-12T10:04:56.544080Z"
    }
   },
   "cell_type": "code",
   "source": "compare(label, result)",
   "id": "ac1157ca44103108",
   "outputs": [
    {
     "name": "stdout",
     "output_type": "stream",
     "text": [
      "Correct: [1.2281085 2.780492 ], predicted: [3.0648942 1.7825099]\n",
      "Correct: [0.25617284 2.3344734 ], predicted: [2.5958152 1.3649203]\n",
      "Correct: [4.5376167 1.1291322], predicted: [2.4660847 1.1651592]\n",
      "Correct: [1.8875905  0.18131284], predicted: [2.519852  1.1277318]\n",
      "Correct: [0.8235567  0.26834896], predicted: [3.009146  1.1921018]\n",
      "Correct: [1.9924    1.2991153], predicted: [2.6003735 1.025476 ]\n",
      "Correct: [0.754738   0.41849214], predicted: [2.6998987 1.0098956]\n",
      "Correct: [1.6845481 1.9913347], predicted: [2.854613 1.10829 ]\n"
     ]
    }
   ],
   "execution_count": 20
  },
  {
   "metadata": {
    "ExecuteTime": {
     "end_time": "2025-06-12T10:04:57.557503Z",
     "start_time": "2025-06-12T10:04:57.542375Z"
    }
   },
   "cell_type": "code",
   "source": [
    "first_batch = next(data_iter)\n",
    "print(f\"input tensor shape: {first_batch['input_tensor'].shape}\")\n",
    "print(f\"label shape: {first_batch['label'].shape}\")\n",
    "input_tensor = first_batch['input_tensor']\n",
    "label = first_batch['label']\n",
    "\n",
    "result = model(input_tensor.to(device))"
   ],
   "id": "8b2d677c86a195d7",
   "outputs": [
    {
     "name": "stdout",
     "output_type": "stream",
     "text": [
      "input tensor shape: torch.Size([8, 5, 1, 31])\n",
      "label shape: torch.Size([8, 2])\n"
     ]
    }
   ],
   "execution_count": 21
  },
  {
   "metadata": {
    "ExecuteTime": {
     "end_time": "2025-06-12T10:04:58.502209Z",
     "start_time": "2025-06-12T10:04:58.498823Z"
    }
   },
   "cell_type": "code",
   "source": "compare(label, result)",
   "id": "7b2be20632ad619b",
   "outputs": [
    {
     "name": "stdout",
     "output_type": "stream",
     "text": [
      "Correct: [5.674096  1.5192869], predicted: [3.2139235 1.5380979]\n",
      "Correct: [0.5125896  0.60864615], predicted: [2.9092202 1.1130397]\n",
      "Correct: [3.1197567  0.49450287], predicted: [2.736933  0.9808442]\n",
      "Correct: [1.8432047 1.6670744], predicted: [2.7037296 1.0690941]\n",
      "Correct: [3.3006458 0.5654834], predicted: [3.0996509 1.1782963]\n",
      "Correct: [1.3590817 1.6834139], predicted: [3.037009  1.3522272]\n",
      "Correct: [1.8210853 2.5311818], predicted: [2.909437  0.9875259]\n",
      "Correct: [4.7780786  0.88678956], predicted: [3.089508  1.1347694]\n"
     ]
    }
   ],
   "execution_count": 22
  },
  {
   "metadata": {
    "ExecuteTime": {
     "end_time": "2025-06-12T10:05:28.572879Z",
     "start_time": "2025-06-12T10:05:28.399867Z"
    }
   },
   "cell_type": "code",
   "source": [
    "import pickle\n",
    "\n",
    "with open('results/losses_2025-06-12_11:59:35.pickle', 'rb') as f:\n",
    "    data = pickle.load(f)\n",
    "\n",
    "plt.figure()\n",
    "plt.plot(data)"
   ],
   "id": "3c988e5542fb0fed",
   "outputs": [
    {
     "data": {
      "text/plain": [
       "[<matplotlib.lines.Line2D at 0x7c24c9a4b8f0>]"
      ]
     },
     "execution_count": 25,
     "metadata": {},
     "output_type": "execute_result"
    },
    {
     "data": {
      "text/plain": [
       "<Figure size 640x480 with 1 Axes>"
      ],
      "image/png": "[encoded data removed]"
     },
     "metadata": {},
     "output_type": "display_data"
    }
   ],
   "execution_count": 25
  },
  {
   "metadata": {
    "ExecuteTime": {
     "end_time": "2025-06-12T10:05:14.477327Z",
     "start_time": "2025-06-12T10:05:04.171350Z"
    }
   },
   "cell_type": "code",
   "source": [
    "import numpy as np\n",
    "\n",
    "num_of_examples = 100\n",
    "losses_ = []\n",
    "loss_total = 0.\n",
    "\n",
    "for i in range(num_of_examples):\n",
    "    example = next(data_iter)\n",
    "    input_tensor = first_batch['input_tensor']\n",
    "    label = first_batch['label']\n",
    "\n",
    "    result = model(input_tensor.to(device))\n",
    "\n",
    "    loss_value = loss_function(result.float().cpu(),label.float().cpu())\n",
    "    losses_.append(loss_value.item())\n",
    "\n",
    "print(f\"average loss: {np.mean(losses_)}\")\n",
    "print(f\"Median loss: {np.median(losses_)} \")"
   ],
   "id": "e8dd08615f3fc33a",
   "outputs": [
    {
     "name": "stdout",
     "output_type": "stream",
     "text": [
      "average loss: 1.4595896005630493\n",
      "Median loss: 1.4595896005630493 \n"
     ]
    }
   ],
   "execution_count": 24
  }
 ],
 "metadata": {
  "kernelspec": {
   "display_name": "Python 3",
   "language": "python",
   "name": "python3"
  },
  "language_info": {
   "codemirror_mode": {
    "name": "ipython",
    "version": 2
   },
   "file_extension": ".py",
   "mimetype": "text/x-python",
   "name": "python",
   "nbconvert_exporter": "python",
   "pygments_lexer": "ipython2",
   "version": "2.7.6"
  }
 },
 "nbformat": 4,
 "nbformat_minor": 5
}
