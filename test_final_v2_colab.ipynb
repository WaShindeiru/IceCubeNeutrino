{
  "cells": [
    {
      "cell_type": "code",
      "source": [
        "!git clone https://github.com/WaShindeiru/IceCubeNeutrino"
      ],
      "metadata": {
        "id": "F7txDHD43fZ9",
        "outputId": "a6243a34-2211-44f4-e4a6-2fa2104350ca",
        "colab": {
          "base_uri": "https://localhost:8080/"
        }
      },
      "id": "F7txDHD43fZ9",
      "execution_count": 1,
      "outputs": [
        {
          "output_type": "stream",
          "name": "stdout",
          "text": [
            "Cloning into 'IceCubeNeutrino'...\n",
            "remote: Enumerating objects: 69, done.\u001b[K\n",
            "remote: Counting objects: 100% (69/69), done.\u001b[K\n",
            "remote: Compressing objects: 100% (58/58), done.\u001b[K\n",
            "remote: Total 69 (delta 35), reused 29 (delta 10), pack-reused 0 (from 0)\u001b[K\n",
            "Receiving objects: 100% (69/69), 504.62 KiB | 1.85 MiB/s, done.\n",
            "Resolving deltas: 100% (35/35), done.\n"
          ]
        }
      ]
    },
    {
      "cell_type": "code",
      "source": [
        "!cp -r IceCubeNeutrino/* ."
      ],
      "metadata": {
        "id": "mcS3PpVg3jk9"
      },
      "id": "mcS3PpVg3jk9",
      "execution_count": 2,
      "outputs": []
    },
    {
      "cell_type": "code",
      "source": [
        "from google.colab import drive\n",
        "drive.mount('/content/drive')"
      ],
      "metadata": {
        "id": "-f7dZATU3cjT",
        "outputId": "d68f601a-072d-4718-871a-a16f0a1c8bba",
        "colab": {
          "base_uri": "https://localhost:8080/"
        }
      },
      "id": "-f7dZATU3cjT",
      "execution_count": 3,
      "outputs": [
        {
          "output_type": "stream",
          "name": "stdout",
          "text": [
            "Mounted at /content/drive\n"
          ]
        }
      ]
    },
    {
      "cell_type": "code",
      "source": [
        "!unzip ./drive/MyDrive/icecube/ice_cube_small.zip"
      ],
      "metadata": {
        "id": "cnb4RXVF3a5j",
        "outputId": "75a326f2-a50d-44e9-8711-1ef447e58d59",
        "colab": {
          "base_uri": "https://localhost:8080/"
        }
      },
      "id": "cnb4RXVF3a5j",
      "execution_count": 4,
      "outputs": [
        {
          "output_type": "stream",
          "name": "stdout",
          "text": [
            "Archive:  ./drive/MyDrive/icecube/ice_cube_small.zip\n",
            "   creating: ice_cube_small/\n",
            "  inflating: ice_cube_small/train_meta.parquet  \n",
            "  inflating: ice_cube_small/test_meta.parquet  \n",
            "  inflating: ice_cube_small/sensor_geometry.csv  \n",
            "  inflating: ice_cube_small/sample_submission.parquet  \n",
            "   creating: ice_cube_small/train_2/\n",
            "  inflating: ice_cube_small/train_2/batch_3.parquet  \n",
            "  inflating: ice_cube_small/train_2/batch_2.parquet  \n",
            "  inflating: ice_cube_small/train_2/batch_1.parquet  \n",
            "   creating: ice_cube_small/test/\n",
            "  inflating: ice_cube_small/test/batch_661.parquet  \n"
          ]
        }
      ]
    },
    {
      "cell_type": "code",
      "source": [
        "!unzip ./drive/MyDrive/icecube/iceCube_result.zip"
      ],
      "metadata": {
        "id": "dFk4veAo33Aw",
        "outputId": "2674d400-7df5-4de0-e945-0b118e6d0d13",
        "colab": {
          "base_uri": "https://localhost:8080/"
        }
      },
      "id": "dFk4veAo33Aw",
      "execution_count": 5,
      "outputs": [
        {
          "output_type": "stream",
          "name": "stdout",
          "text": [
            "Archive:  ./drive/MyDrive/icecube/iceCube_result.zip\n",
            "   creating: iceCube_result/\n",
            "  inflating: iceCube_result/model_101.pth  \n",
            "  inflating: iceCube_result/losses.pickle  \n",
            "   creating: iceCube_result/weights/\n",
            "  inflating: iceCube_result/weights/model_34_2025-06-12_11:59:35.pth  \n",
            "  inflating: iceCube_result/weights/model_101_2025-06-11_18:39:52.pth  \n",
            "   creating: iceCube_result/results/\n",
            "  inflating: iceCube_result/results/losses_2025-06-12_11:59:35.pickle  \n",
            "  inflating: iceCube_result/results/losses_2025-06-11_18:39:52.pickle  \n"
          ]
        }
      ]
    },
    {
      "cell_type": "code",
      "id": "initial_id",
      "metadata": {
        "collapsed": true,
        "ExecuteTime": {
          "end_time": "2025-06-12T10:03:42.516326Z",
          "start_time": "2025-06-12T10:03:41.690940Z"
        },
        "id": "initial_id"
      },
      "source": [
        "import matplotlib.pyplot as plt\n",
        "import torch\n",
        "import torch.nn as nn\n",
        "\n",
        "from Resnet import resnet34\n",
        "from Icecube_Dataloader import IceCube_Dataloader, collate_fn"
      ],
      "outputs": [],
      "execution_count": 6
    },
    {
      "metadata": {
        "ExecuteTime": {
          "end_time": "2025-06-12T10:03:42.878994Z",
          "start_time": "2025-06-12T10:03:42.568883Z"
        },
        "id": "f2c18296b5ccfb59",
        "outputId": "ad4bbf07-0302-4fdd-8af1-3f6173a09547",
        "colab": {
          "base_uri": "https://localhost:8080/"
        }
      },
      "cell_type": "code",
      "source": [
        "model = resnet34(pretrained = False)\n",
        "model.fc = nn.Sequential(nn.ReLU(),nn.Linear(in_features=512, out_features=2)) # Changed FC layer for our task\n",
        "model.load_state_dict(torch.load(\"./iceCube_result/weights/model_34_2025-06-12_11:59:35.pth\", weights_only=True, map_location=torch.device('cpu')))\n",
        "model.eval()"
      ],
      "id": "f2c18296b5ccfb59",
      "outputs": [
        {
          "output_type": "execute_result",
          "data": {
            "text/plain": [
              "ResNet(\n",
              "  (conv1): Conv2d(5, 64, kernel_size=(7, 7), stride=(2, 2), padding=(3, 3), bias=False)\n",
              "  (bn1): BatchNorm2d(64, eps=1e-05, momentum=0.1, affine=True, track_running_stats=True)\n",
              "  (relu): ReLU(inplace=True)\n",
              "  (maxpool): MaxPool2d(kernel_size=3, stride=2, padding=1, dilation=1, ceil_mode=False)\n",
              "  (layer1): Sequential(\n",
              "    (0): BasicBlock(\n",
              "      (conv1): Conv2d(64, 64, kernel_size=(3, 3), stride=(1, 1), padding=(1, 1), bias=False)\n",
              "      (bn1): BatchNorm2d(64, eps=1e-05, momentum=0.1, affine=True, track_running_stats=True)\n",
              "      (relu): ReLU(inplace=True)\n",
              "      (conv2): Conv2d(64, 64, kernel_size=(3, 3), stride=(1, 1), padding=(1, 1), bias=False)\n",
              "      (bn2): BatchNorm2d(64, eps=1e-05, momentum=0.1, affine=True, track_running_stats=True)\n",
              "    )\n",
              "    (1): BasicBlock(\n",
              "      (conv1): Conv2d(64, 64, kernel_size=(3, 3), stride=(1, 1), padding=(1, 1), bias=False)\n",
              "      (bn1): BatchNorm2d(64, eps=1e-05, momentum=0.1, affine=True, track_running_stats=True)\n",
              "      (relu): ReLU(inplace=True)\n",
              "      (conv2): Conv2d(64, 64, kernel_size=(3, 3), stride=(1, 1), padding=(1, 1), bias=False)\n",
              "      (bn2): BatchNorm2d(64, eps=1e-05, momentum=0.1, affine=True, track_running_stats=True)\n",
              "    )\n",
              "    (2): BasicBlock(\n",
              "      (conv1): Conv2d(64, 64, kernel_size=(3, 3), stride=(1, 1), padding=(1, 1), bias=False)\n",
              "      (bn1): BatchNorm2d(64, eps=1e-05, momentum=0.1, affine=True, track_running_stats=True)\n",
              "      (relu): ReLU(inplace=True)\n",
              "      (conv2): Conv2d(64, 64, kernel_size=(3, 3), stride=(1, 1), padding=(1, 1), bias=False)\n",
              "      (bn2): BatchNorm2d(64, eps=1e-05, momentum=0.1, affine=True, track_running_stats=True)\n",
              "    )\n",
              "  )\n",
              "  (layer2): Sequential(\n",
              "    (0): BasicBlock(\n",
              "      (conv1): Conv2d(64, 128, kernel_size=(3, 3), stride=(2, 2), padding=(1, 1), bias=False)\n",
              "      (bn1): BatchNorm2d(128, eps=1e-05, momentum=0.1, affine=True, track_running_stats=True)\n",
              "      (relu): ReLU(inplace=True)\n",
              "      (conv2): Conv2d(128, 128, kernel_size=(3, 3), stride=(1, 1), padding=(1, 1), bias=False)\n",
              "      (bn2): BatchNorm2d(128, eps=1e-05, momentum=0.1, affine=True, track_running_stats=True)\n",
              "      (downsample): Sequential(\n",
              "        (0): Conv2d(64, 128, kernel_size=(1, 1), stride=(2, 2), bias=False)\n",
              "        (1): BatchNorm2d(128, eps=1e-05, momentum=0.1, affine=True, track_running_stats=True)\n",
              "      )\n",
              "    )\n",
              "    (1): BasicBlock(\n",
              "      (conv1): Conv2d(128, 128, kernel_size=(3, 3), stride=(1, 1), padding=(1, 1), bias=False)\n",
              "      (bn1): BatchNorm2d(128, eps=1e-05, momentum=0.1, affine=True, track_running_stats=True)\n",
              "      (relu): ReLU(inplace=True)\n",
              "      (conv2): Conv2d(128, 128, kernel_size=(3, 3), stride=(1, 1), padding=(1, 1), bias=False)\n",
              "      (bn2): BatchNorm2d(128, eps=1e-05, momentum=0.1, affine=True, track_running_stats=True)\n",
              "    )\n",
              "    (2): BasicBlock(\n",
              "      (conv1): Conv2d(128, 128, kernel_size=(3, 3), stride=(1, 1), padding=(1, 1), bias=False)\n",
              "      (bn1): BatchNorm2d(128, eps=1e-05, momentum=0.1, affine=True, track_running_stats=True)\n",
              "      (relu): ReLU(inplace=True)\n",
              "      (conv2): Conv2d(128, 128, kernel_size=(3, 3), stride=(1, 1), padding=(1, 1), bias=False)\n",
              "      (bn2): BatchNorm2d(128, eps=1e-05, momentum=0.1, affine=True, track_running_stats=True)\n",
              "    )\n",
              "    (3): BasicBlock(\n",
              "      (conv1): Conv2d(128, 128, kernel_size=(3, 3), stride=(1, 1), padding=(1, 1), bias=False)\n",
              "      (bn1): BatchNorm2d(128, eps=1e-05, momentum=0.1, affine=True, track_running_stats=True)\n",
              "      (relu): ReLU(inplace=True)\n",
              "      (conv2): Conv2d(128, 128, kernel_size=(3, 3), stride=(1, 1), padding=(1, 1), bias=False)\n",
              "      (bn2): BatchNorm2d(128, eps=1e-05, momentum=0.1, affine=True, track_running_stats=True)\n",
              "    )\n",
              "  )\n",
              "  (layer3): Sequential(\n",
              "    (0): BasicBlock(\n",
              "      (conv1): Conv2d(128, 256, kernel_size=(3, 3), stride=(2, 2), padding=(1, 1), bias=False)\n",
              "      (bn1): BatchNorm2d(256, eps=1e-05, momentum=0.1, affine=True, track_running_stats=True)\n",
              "      (relu): ReLU(inplace=True)\n",
              "      (conv2): Conv2d(256, 256, kernel_size=(3, 3), stride=(1, 1), padding=(1, 1), bias=False)\n",
              "      (bn2): BatchNorm2d(256, eps=1e-05, momentum=0.1, affine=True, track_running_stats=True)\n",
              "      (downsample): Sequential(\n",
              "        (0): Conv2d(128, 256, kernel_size=(1, 1), stride=(2, 2), bias=False)\n",
              "        (1): BatchNorm2d(256, eps=1e-05, momentum=0.1, affine=True, track_running_stats=True)\n",
              "      )\n",
              "    )\n",
              "    (1): BasicBlock(\n",
              "      (conv1): Conv2d(256, 256, kernel_size=(3, 3), stride=(1, 1), padding=(1, 1), bias=False)\n",
              "      (bn1): BatchNorm2d(256, eps=1e-05, momentum=0.1, affine=True, track_running_stats=True)\n",
              "      (relu): ReLU(inplace=True)\n",
              "      (conv2): Conv2d(256, 256, kernel_size=(3, 3), stride=(1, 1), padding=(1, 1), bias=False)\n",
              "      (bn2): BatchNorm2d(256, eps=1e-05, momentum=0.1, affine=True, track_running_stats=True)\n",
              "    )\n",
              "    (2): BasicBlock(\n",
              "      (conv1): Conv2d(256, 256, kernel_size=(3, 3), stride=(1, 1), padding=(1, 1), bias=False)\n",
              "      (bn1): BatchNorm2d(256, eps=1e-05, momentum=0.1, affine=True, track_running_stats=True)\n",
              "      (relu): ReLU(inplace=True)\n",
              "      (conv2): Conv2d(256, 256, kernel_size=(3, 3), stride=(1, 1), padding=(1, 1), bias=False)\n",
              "      (bn2): BatchNorm2d(256, eps=1e-05, momentum=0.1, affine=True, track_running_stats=True)\n",
              "    )\n",
              "    (3): BasicBlock(\n",
              "      (conv1): Conv2d(256, 256, kernel_size=(3, 3), stride=(1, 1), padding=(1, 1), bias=False)\n",
              "      (bn1): BatchNorm2d(256, eps=1e-05, momentum=0.1, affine=True, track_running_stats=True)\n",
              "      (relu): ReLU(inplace=True)\n",
              "      (conv2): Conv2d(256, 256, kernel_size=(3, 3), stride=(1, 1), padding=(1, 1), bias=False)\n",
              "      (bn2): BatchNorm2d(256, eps=1e-05, momentum=0.1, affine=True, track_running_stats=True)\n",
              "    )\n",
              "    (4): BasicBlock(\n",
              "      (conv1): Conv2d(256, 256, kernel_size=(3, 3), stride=(1, 1), padding=(1, 1), bias=False)\n",
              "      (bn1): BatchNorm2d(256, eps=1e-05, momentum=0.1, affine=True, track_running_stats=True)\n",
              "      (relu): ReLU(inplace=True)\n",
              "      (conv2): Conv2d(256, 256, kernel_size=(3, 3), stride=(1, 1), padding=(1, 1), bias=False)\n",
              "      (bn2): BatchNorm2d(256, eps=1e-05, momentum=0.1, affine=True, track_running_stats=True)\n",
              "    )\n",
              "    (5): BasicBlock(\n",
              "      (conv1): Conv2d(256, 256, kernel_size=(3, 3), stride=(1, 1), padding=(1, 1), bias=False)\n",
              "      (bn1): BatchNorm2d(256, eps=1e-05, momentum=0.1, affine=True, track_running_stats=True)\n",
              "      (relu): ReLU(inplace=True)\n",
              "      (conv2): Conv2d(256, 256, kernel_size=(3, 3), stride=(1, 1), padding=(1, 1), bias=False)\n",
              "      (bn2): BatchNorm2d(256, eps=1e-05, momentum=0.1, affine=True, track_running_stats=True)\n",
              "    )\n",
              "  )\n",
              "  (layer4): Sequential(\n",
              "    (0): BasicBlock(\n",
              "      (conv1): Conv2d(256, 512, kernel_size=(3, 3), stride=(2, 2), padding=(1, 1), bias=False)\n",
              "      (bn1): BatchNorm2d(512, eps=1e-05, momentum=0.1, affine=True, track_running_stats=True)\n",
              "      (relu): ReLU(inplace=True)\n",
              "      (conv2): Conv2d(512, 512, kernel_size=(3, 3), stride=(1, 1), padding=(1, 1), bias=False)\n",
              "      (bn2): BatchNorm2d(512, eps=1e-05, momentum=0.1, affine=True, track_running_stats=True)\n",
              "      (downsample): Sequential(\n",
              "        (0): Conv2d(256, 512, kernel_size=(1, 1), stride=(2, 2), bias=False)\n",
              "        (1): BatchNorm2d(512, eps=1e-05, momentum=0.1, affine=True, track_running_stats=True)\n",
              "      )\n",
              "    )\n",
              "    (1): BasicBlock(\n",
              "      (conv1): Conv2d(512, 512, kernel_size=(3, 3), stride=(1, 1), padding=(1, 1), bias=False)\n",
              "      (bn1): BatchNorm2d(512, eps=1e-05, momentum=0.1, affine=True, track_running_stats=True)\n",
              "      (relu): ReLU(inplace=True)\n",
              "      (conv2): Conv2d(512, 512, kernel_size=(3, 3), stride=(1, 1), padding=(1, 1), bias=False)\n",
              "      (bn2): BatchNorm2d(512, eps=1e-05, momentum=0.1, affine=True, track_running_stats=True)\n",
              "    )\n",
              "    (2): BasicBlock(\n",
              "      (conv1): Conv2d(512, 512, kernel_size=(3, 3), stride=(1, 1), padding=(1, 1), bias=False)\n",
              "      (bn1): BatchNorm2d(512, eps=1e-05, momentum=0.1, affine=True, track_running_stats=True)\n",
              "      (relu): ReLU(inplace=True)\n",
              "      (conv2): Conv2d(512, 512, kernel_size=(3, 3), stride=(1, 1), padding=(1, 1), bias=False)\n",
              "      (bn2): BatchNorm2d(512, eps=1e-05, momentum=0.1, affine=True, track_running_stats=True)\n",
              "    )\n",
              "  )\n",
              "  (avgpool): AdaptiveAvgPool2d(output_size=(1, 1))\n",
              "  (fc): Sequential(\n",
              "    (0): ReLU()\n",
              "    (1): Linear(in_features=512, out_features=2, bias=True)\n",
              "  )\n",
              ")"
            ]
          },
          "metadata": {},
          "execution_count": 8
        }
      ],
      "execution_count": 8
    },
    {
      "metadata": {
        "ExecuteTime": {
          "end_time": "2025-06-12T10:04:17.618168Z",
          "start_time": "2025-06-12T10:04:17.616435Z"
        },
        "id": "72a68efe2ead2646"
      },
      "cell_type": "code",
      "source": [
        "pqfile = './ice_cube_small/train_meta.parquet'\n",
        "path_batch = './ice_cube_small/train_2/'\n",
        "geometry = \"./ice_cube_small/sensor_geometry.csv\"\n",
        "\n",
        "batch_num=2\n",
        "lr = 1e-06\n",
        "num_epochs = 1\n",
        "batch_size = 8"
      ],
      "id": "72a68efe2ead2646",
      "outputs": [],
      "execution_count": 12
    },
    {
      "metadata": {
        "ExecuteTime": {
          "end_time": "2025-06-12T10:04:22.546276Z",
          "start_time": "2025-06-12T10:04:20.277342Z"
        },
        "id": "bbe3e68c48d8caab",
        "outputId": "355cc3ad-5447-48c7-b066-fd4507758afa",
        "colab": {
          "base_uri": "https://localhost:8080/"
        }
      },
      "cell_type": "code",
      "source": [
        "from torch.utils.data import DataLoader\n",
        "\n",
        "ice_dataset = IceCube_Dataloader(pqfile, path_batch, geometry, batch_num)\n",
        "train_dataset = ice_dataset\n",
        "train_dataloader = DataLoader(train_dataset, batch_size=batch_size, shuffle=True,collate_fn=collate_fn, num_workers=11)"
      ],
      "id": "bbe3e68c48d8caab",
      "outputs": [
        {
          "output_type": "stream",
          "name": "stderr",
          "text": [
            "/usr/local/lib/python3.11/dist-packages/torch/utils/data/dataloader.py:624: UserWarning: This DataLoader will create 11 worker processes in total. Our suggested max number of worker in current system is 2, which is smaller than what this DataLoader is going to create. Please be aware that excessive worker creation might get DataLoader running slow or even freeze, lower the worker number to avoid potential slowness/freeze if necessary.\n",
            "  warnings.warn(\n"
          ]
        }
      ],
      "execution_count": 13
    },
    {
      "metadata": {
        "ExecuteTime": {
          "end_time": "2025-06-12T10:04:24.277736Z",
          "start_time": "2025-06-12T10:04:24.254633Z"
        },
        "id": "e33c11e7a981baab"
      },
      "cell_type": "code",
      "source": [
        "device = torch.device('cuda' if torch.cuda.is_available() else 'cpu')\n",
        "\n",
        "model = model.to(device)"
      ],
      "id": "e33c11e7a981baab",
      "outputs": [],
      "execution_count": 14
    },
    {
      "metadata": {
        "id": "b46872ef155ba1ea"
      },
      "cell_type": "markdown",
      "source": [
        "## Testy resnet34"
      ],
      "id": "b46872ef155ba1ea"
    },
    {
      "metadata": {
        "ExecuteTime": {
          "end_time": "2025-06-12T10:04:29.213788Z",
          "start_time": "2025-06-12T10:04:28.762374Z"
        },
        "id": "8ae7714bff502ebd"
      },
      "cell_type": "code",
      "source": [
        "data_iter = iter(train_dataloader)"
      ],
      "id": "8ae7714bff502ebd",
      "outputs": [],
      "execution_count": 16
    },
    {
      "metadata": {
        "ExecuteTime": {
          "end_time": "2025-06-12T10:04:30.852981Z",
          "start_time": "2025-06-12T10:04:29.802907Z"
        },
        "id": "c302fe8c5286069d",
        "outputId": "d3b18a05-9fa7-4dd4-e06d-a74fe3b190d8",
        "colab": {
          "base_uri": "https://localhost:8080/"
        }
      },
      "cell_type": "code",
      "source": [
        "first_batch = next(data_iter)\n",
        "print(f\"input tensor shape: {first_batch['input_tensor'].shape}\")\n",
        "print(f\"label shape: {first_batch['label'].shape}\")\n",
        "input_tensor = first_batch['input_tensor']\n",
        "label = first_batch['label'].to(device)\n",
        "\n",
        "result = model(input_tensor.to(device))"
      ],
      "id": "c302fe8c5286069d",
      "outputs": [
        {
          "output_type": "stream",
          "name": "stdout",
          "text": [
            "input tensor shape: torch.Size([8, 5, 1, 1058])\n",
            "label shape: torch.Size([8, 2])\n"
          ]
        }
      ],
      "execution_count": 17
    },
    {
      "metadata": {
        "ExecuteTime": {
          "end_time": "2025-06-12T10:04:32.274194Z",
          "start_time": "2025-06-12T10:04:32.271819Z"
        },
        "id": "9cd5ba926293f16"
      },
      "cell_type": "code",
      "source": [
        "def compare(label, result):\n",
        "    assert label.shape == result.shape\n",
        "    x = label.shape[0]\n",
        "    for i in range(x):\n",
        "        print(f\"Correct: {label[i, :].detach().cpu().numpy()}, predicted: {result[i, :].detach().cpu().numpy()}\")"
      ],
      "id": "9cd5ba926293f16",
      "outputs": [],
      "execution_count": 18
    },
    {
      "metadata": {
        "ExecuteTime": {
          "end_time": "2025-06-12T10:04:36.223803Z",
          "start_time": "2025-06-12T10:04:36.220096Z"
        },
        "id": "28f394ab18e2196a",
        "outputId": "9a323bb5-625f-4b14-c443-416278ce5b3b",
        "colab": {
          "base_uri": "https://localhost:8080/"
        }
      },
      "cell_type": "code",
      "source": [
        "compare(label, result)"
      ],
      "id": "28f394ab18e2196a",
      "outputs": [
        {
          "output_type": "stream",
          "name": "stdout",
          "text": [
            "Correct: [0.33625385 0.4964955 ], predicted: [1.5518134 1.1040503]\n",
            "Correct: [1.2779695 1.7329756], predicted: [1.5756917 1.1204251]\n",
            "Correct: [1.6402156  0.15765269], predicted: [1.630561  1.4289945]\n",
            "Correct: [2.5990121 1.7383434], predicted: [1.5741837 1.0746034]\n",
            "Correct: [6.185976  2.1593938], predicted: [1.5950158 1.0966922]\n",
            "Correct: [1.4938552 1.8617293], predicted: [1.5780841 1.1054308]\n",
            "Correct: [0.9169472 1.7583798], predicted: [1.7278203 1.1370966]\n",
            "Correct: [5.143776  2.1342423], predicted: [1.5605972 1.1282983]\n"
          ]
        }
      ],
      "execution_count": 19
    },
    {
      "metadata": {
        "ExecuteTime": {
          "end_time": "2025-06-12T10:04:43.659978Z",
          "start_time": "2025-06-12T10:04:43.658069Z"
        },
        "id": "81fe8ebb7bdc94b6"
      },
      "cell_type": "code",
      "source": [
        "loss_function = nn.MSELoss().to(device)"
      ],
      "id": "81fe8ebb7bdc94b6",
      "outputs": [],
      "execution_count": 20
    },
    {
      "metadata": {
        "ExecuteTime": {
          "end_time": "2025-06-12T10:04:44.546783Z",
          "start_time": "2025-06-12T10:04:44.535837Z"
        },
        "id": "845ab950f43541cb",
        "outputId": "be0fc661-29eb-43ac-9892-00e05ce6d61c",
        "colab": {
          "base_uri": "https://localhost:8080/"
        }
      },
      "cell_type": "code",
      "source": [
        "temp = loss_function(result.float(),label.float())\n",
        "print(temp)"
      ],
      "id": "845ab950f43541cb",
      "outputs": [
        {
          "output_type": "stream",
          "name": "stdout",
          "text": [
            "tensor(2.6936, grad_fn=<MseLossBackward0>)\n"
          ]
        }
      ],
      "execution_count": 21
    },
    {
      "metadata": {
        "ExecuteTime": {
          "end_time": "2025-06-12T10:04:45.884733Z",
          "start_time": "2025-06-12T10:04:45.849657Z"
        },
        "id": "a687e83fcb1abb8d",
        "outputId": "05f709a7-a2b7-417c-812f-354b06ce2712",
        "colab": {
          "base_uri": "https://localhost:8080/"
        }
      },
      "cell_type": "code",
      "source": [
        "first_batch = next(data_iter)\n",
        "print(f\"input tensor shape: {first_batch['input_tensor'].shape}\")\n",
        "print(f\"label shape: {first_batch['label'].shape}\")\n",
        "input_tensor = first_batch['input_tensor']\n",
        "label = first_batch['label']\n",
        "\n",
        "result = model(input_tensor.to(device))"
      ],
      "id": "a687e83fcb1abb8d",
      "outputs": [
        {
          "output_type": "stream",
          "name": "stdout",
          "text": [
            "input tensor shape: torch.Size([8, 5, 1, 51])\n",
            "label shape: torch.Size([8, 2])\n"
          ]
        }
      ],
      "execution_count": 22
    },
    {
      "metadata": {
        "ExecuteTime": {
          "end_time": "2025-06-12T10:04:47.284971Z",
          "start_time": "2025-06-12T10:04:47.281385Z"
        },
        "id": "63b735cc11418932",
        "outputId": "569586d5-0f26-46e9-d91f-d916541f8bf4",
        "colab": {
          "base_uri": "https://localhost:8080/"
        }
      },
      "cell_type": "code",
      "source": [
        "compare(label, result)"
      ],
      "id": "63b735cc11418932",
      "outputs": [
        {
          "output_type": "stream",
          "name": "stdout",
          "text": [
            "Correct: [0.5033415 1.0957183], predicted: [3.1623065 1.6152815]\n",
            "Correct: [0.9540955 0.8955933], predicted: [2.8258162 1.4608598]\n",
            "Correct: [2.3992507 2.5143182], predicted: [2.7223651 2.2793074]\n",
            "Correct: [4.020938   0.59041613], predicted: [2.435579  1.4963298]\n",
            "Correct: [5.4080396 1.9870285], predicted: [2.7913175 1.421077 ]\n",
            "Correct: [4.707338   0.55802006], predicted: [2.725894  1.7007082]\n",
            "Correct: [3.1686196 1.698466 ], predicted: [3.2492025 2.0013766]\n",
            "Correct: [5.90418   2.4323916], predicted: [2.9821954 1.2846724]\n"
          ]
        }
      ],
      "execution_count": 23
    },
    {
      "metadata": {
        "ExecuteTime": {
          "end_time": "2025-06-12T10:04:55.201077Z",
          "start_time": "2025-06-12T10:04:55.188147Z"
        },
        "id": "10196cbc62c703cb",
        "outputId": "3df392cf-4730-4c47-9138-60f2fa342e19",
        "colab": {
          "base_uri": "https://localhost:8080/"
        }
      },
      "cell_type": "code",
      "source": [
        "first_batch = next(data_iter)\n",
        "print(f\"input tensor shape: {first_batch['input_tensor'].shape}\")\n",
        "print(f\"label shape: {first_batch['label'].shape}\")\n",
        "input_tensor = first_batch['input_tensor']\n",
        "label = first_batch['label']\n",
        "\n",
        "result = model(input_tensor.to(device))"
      ],
      "id": "10196cbc62c703cb",
      "outputs": [
        {
          "output_type": "stream",
          "name": "stdout",
          "text": [
            "input tensor shape: torch.Size([8, 5, 1, 37])\n",
            "label shape: torch.Size([8, 2])\n"
          ]
        }
      ],
      "execution_count": 24
    },
    {
      "metadata": {
        "ExecuteTime": {
          "end_time": "2025-06-12T10:04:56.547344Z",
          "start_time": "2025-06-12T10:04:56.544080Z"
        },
        "id": "ac1157ca44103108",
        "outputId": "f0814294-a60e-4092-faab-558ebd4c93da",
        "colab": {
          "base_uri": "https://localhost:8080/"
        }
      },
      "cell_type": "code",
      "source": [
        "compare(label, result)"
      ],
      "id": "ac1157ca44103108",
      "outputs": [
        {
          "output_type": "stream",
          "name": "stdout",
          "text": [
            "Correct: [1.3878795 1.4552593], predicted: [2.5361674 1.5863172]\n",
            "Correct: [1.332628  1.8277773], predicted: [2.8865092 1.4856527]\n",
            "Correct: [1.3322237 2.8365562], predicted: [3.0319989 1.5552237]\n",
            "Correct: [3.7424843 2.200114 ], predicted: [3.0940113 1.0868343]\n",
            "Correct: [2.675742 2.48309 ], predicted: [3.0889769 1.6027622]\n",
            "Correct: [4.5933595 1.7092395], predicted: [3.246603  1.4828815]\n",
            "Correct: [1.5714986 1.6181452], predicted: [3.131488 1.314663]\n",
            "Correct: [3.4458985 1.5267644], predicted: [2.9156523 1.4211766]\n"
          ]
        }
      ],
      "execution_count": 25
    },
    {
      "metadata": {
        "ExecuteTime": {
          "end_time": "2025-06-12T10:04:57.557503Z",
          "start_time": "2025-06-12T10:04:57.542375Z"
        },
        "id": "8b2d677c86a195d7",
        "outputId": "76fbfe47-7a8e-4c74-cbdb-7ca9f4803c1e",
        "colab": {
          "base_uri": "https://localhost:8080/"
        }
      },
      "cell_type": "code",
      "source": [
        "first_batch = next(data_iter)\n",
        "print(f\"input tensor shape: {first_batch['input_tensor'].shape}\")\n",
        "print(f\"label shape: {first_batch['label'].shape}\")\n",
        "input_tensor = first_batch['input_tensor']\n",
        "label = first_batch['label']\n",
        "\n",
        "result = model(input_tensor.to(device))"
      ],
      "id": "8b2d677c86a195d7",
      "outputs": [
        {
          "output_type": "stream",
          "name": "stdout",
          "text": [
            "input tensor shape: torch.Size([8, 5, 1, 45])\n",
            "label shape: torch.Size([8, 2])\n"
          ]
        }
      ],
      "execution_count": 26
    },
    {
      "metadata": {
        "ExecuteTime": {
          "end_time": "2025-06-12T10:04:58.502209Z",
          "start_time": "2025-06-12T10:04:58.498823Z"
        },
        "id": "7b2be20632ad619b",
        "outputId": "59476e72-764e-4c98-df8c-d0ee8b624045",
        "colab": {
          "base_uri": "https://localhost:8080/"
        }
      },
      "cell_type": "code",
      "source": [
        "compare(label, result)"
      ],
      "id": "7b2be20632ad619b",
      "outputs": [
        {
          "output_type": "stream",
          "name": "stdout",
          "text": [
            "Correct: [3.0407414 1.7106048], predicted: [2.8233678 1.7784584]\n",
            "Correct: [5.773394  2.6929433], predicted: [2.883728  0.9349797]\n",
            "Correct: [1.7749428  0.60655034], predicted: [3.4649546 1.5678554]\n",
            "Correct: [3.1186798  0.87322503], predicted: [3.062105  2.1193743]\n",
            "Correct: [4.408538  0.9717674], predicted: [2.9653008 1.3229706]\n",
            "Correct: [2.4445062 1.1438055], predicted: [2.994428  1.4336027]\n",
            "Correct: [0.9236002 1.2703272], predicted: [2.710163 1.544358]\n",
            "Correct: [4.3465147 0.5411577], predicted: [3.4240644 1.4763527]\n"
          ]
        }
      ],
      "execution_count": 27
    },
    {
      "metadata": {
        "ExecuteTime": {
          "end_time": "2025-06-12T10:05:28.572879Z",
          "start_time": "2025-06-12T10:05:28.399867Z"
        },
        "id": "3c988e5542fb0fed",
        "outputId": "bc1d4c30-e792-426f-c0eb-636f9053acd3",
        "colab": {
          "base_uri": "https://localhost:8080/",
          "height": 449
        }
      },
      "cell_type": "code",
      "source": [
        "import pickle\n",
        "\n",
        "with open('./iceCube_result/results/losses_2025-06-12_11:59:35.pickle', 'rb') as f:\n",
        "    data = pickle.load(f)\n",
        "\n",
        "plt.figure()\n",
        "plt.plot(data)"
      ],
      "id": "3c988e5542fb0fed",
      "outputs": [
        {
          "output_type": "execute_result",
          "data": {
            "text/plain": [
              "[<matplotlib.lines.Line2D at 0x7952d8078890>]"
            ]
          },
          "metadata": {},
          "execution_count": 29
        },
        {
          "output_type": "display_data",
          "data": {
            "text/plain": [
              "<Figure size 640x480 with 1 Axes>"
            ],
            "image/png": "[encoded data removed]"
          },
          "metadata": {}
        }
      ],
      "execution_count": 29
    },
    {
      "metadata": {
        "ExecuteTime": {
          "end_time": "2025-06-12T10:05:14.477327Z",
          "start_time": "2025-06-12T10:05:04.171350Z"
        },
        "id": "e8dd08615f3fc33a",
        "outputId": "518165b3-5c26-4716-ee22-676f45e7ea05",
        "colab": {
          "base_uri": "https://localhost:8080/"
        }
      },
      "cell_type": "code",
      "source": [
        "import numpy as np\n",
        "\n",
        "num_of_examples = 100\n",
        "losses_ = []\n",
        "loss_total = 0.\n",
        "\n",
        "for i in range(num_of_examples):\n",
        "    example = next(data_iter)\n",
        "    input_tensor = first_batch['input_tensor']\n",
        "    label = first_batch['label']\n",
        "\n",
        "    result = model(input_tensor.to(device))\n",
        "\n",
        "    loss_value = loss_function(result.float().cpu(),label.float().cpu())\n",
        "    losses_.append(loss_value.item())\n",
        "\n",
        "print(f\"average loss: {np.mean(losses_)}\")\n",
        "print(f\"Median loss: {np.median(losses_)} \")"
      ],
      "id": "e8dd08615f3fc33a",
      "outputs": [
        {
          "output_type": "stream",
          "name": "stdout",
          "text": [
            "average loss: 1.5258671045303345\n",
            "Median loss: 1.5258671045303345 \n"
          ]
        }
      ],
      "execution_count": 30
    }
  ],
  "metadata": {
    "kernelspec": {
      "display_name": "Python 3",
      "language": "python",
      "name": "python3"
    },
    "language_info": {
      "codemirror_mode": {
        "name": "ipython",
        "version": 2
      },
      "file_extension": ".py",
      "mimetype": "text/x-python",
      "name": "python",
      "nbconvert_exporter": "python",
      "pygments_lexer": "ipython2",
      "version": "2.7.6"
    },
    "colab": {
      "provenance": []
    }
  },
  "nbformat": 4,
  "nbformat_minor": 5
}