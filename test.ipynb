{
 "cells": [
  {
   "cell_type": "code",
   "id": "initial_id",
   "metadata": {
    "collapsed": true,
    "ExecuteTime": {
     "end_time": "2025-06-06T11:06:44.491162Z",
     "start_time": "2025-06-06T11:06:44.488856Z"
    }
   },
   "source": [
    "import pandas as pd\n",
    "import pyarrow.parquet as pq\n",
    "from tqdm import tqdm\n",
    "import seaborn as sns\n",
    "import matplotlib.pyplot as plt\n",
    "import torch\n",
    "import torch.nn as nn\n",
    "\n",
    "from CustomConvolution import CustomConvolution\n",
    "from Resnet import resnet34\n",
    "from Icecube_Dataloader import ICECUBE_Dataset, collate_fn"
   ],
   "outputs": [],
   "execution_count": 31
  },
  {
   "metadata": {
    "ExecuteTime": {
     "end_time": "2025-06-06T09:47:34.435147Z",
     "start_time": "2025-06-06T09:47:34.250805Z"
    }
   },
   "cell_type": "code",
   "source": [
    "model = resnet34(pretrained = False)\n",
    "model.fc = nn.Sequential(nn.ReLU(),nn.Linear(in_features=512, out_features=2)) # Changed FC layer for our task\n",
    "model.load_state_dict(torch.load(\"./model.pth\", weights_only=True))\n",
    "model.eval()"
   ],
   "id": "f2c18296b5ccfb59",
   "outputs": [
    {
     "data": {
      "text/plain": [
       "ResNet(\n",
       "  (conv1): Conv2d(3, 64, kernel_size=(7, 7), stride=(2, 2), padding=(3, 3), bias=False)\n",
       "  (bn1): BatchNorm2d(64, eps=1e-05, momentum=0.1, affine=True, track_running_stats=True)\n",
       "  (relu): ReLU(inplace=True)\n",
       "  (maxpool): MaxPool2d(kernel_size=3, stride=2, padding=1, dilation=1, ceil_mode=False)\n",
       "  (layer1): Sequential(\n",
       "    (0): BasicBlock(\n",
       "      (conv1): Conv2d(64, 64, kernel_size=(3, 3), stride=(1, 1), padding=(1, 1), bias=False)\n",
       "      (bn1): BatchNorm2d(64, eps=1e-05, momentum=0.1, affine=True, track_running_stats=True)\n",
       "      (relu): ReLU(inplace=True)\n",
       "      (conv2): Conv2d(64, 64, kernel_size=(3, 3), stride=(1, 1), padding=(1, 1), bias=False)\n",
       "      (bn2): BatchNorm2d(64, eps=1e-05, momentum=0.1, affine=True, track_running_stats=True)\n",
       "    )\n",
       "    (1): BasicBlock(\n",
       "      (conv1): Conv2d(64, 64, kernel_size=(3, 3), stride=(1, 1), padding=(1, 1), bias=False)\n",
       "      (bn1): BatchNorm2d(64, eps=1e-05, momentum=0.1, affine=True, track_running_stats=True)\n",
       "      (relu): ReLU(inplace=True)\n",
       "      (conv2): Conv2d(64, 64, kernel_size=(3, 3), stride=(1, 1), padding=(1, 1), bias=False)\n",
       "      (bn2): BatchNorm2d(64, eps=1e-05, momentum=0.1, affine=True, track_running_stats=True)\n",
       "    )\n",
       "    (2): BasicBlock(\n",
       "      (conv1): Conv2d(64, 64, kernel_size=(3, 3), stride=(1, 1), padding=(1, 1), bias=False)\n",
       "      (bn1): BatchNorm2d(64, eps=1e-05, momentum=0.1, affine=True, track_running_stats=True)\n",
       "      (relu): ReLU(inplace=True)\n",
       "      (conv2): Conv2d(64, 64, kernel_size=(3, 3), stride=(1, 1), padding=(1, 1), bias=False)\n",
       "      (bn2): BatchNorm2d(64, eps=1e-05, momentum=0.1, affine=True, track_running_stats=True)\n",
       "    )\n",
       "  )\n",
       "  (layer2): Sequential(\n",
       "    (0): BasicBlock(\n",
       "      (conv1): Conv2d(64, 128, kernel_size=(3, 3), stride=(2, 2), padding=(1, 1), bias=False)\n",
       "      (bn1): BatchNorm2d(128, eps=1e-05, momentum=0.1, affine=True, track_running_stats=True)\n",
       "      (relu): ReLU(inplace=True)\n",
       "      (conv2): Conv2d(128, 128, kernel_size=(3, 3), stride=(1, 1), padding=(1, 1), bias=False)\n",
       "      (bn2): BatchNorm2d(128, eps=1e-05, momentum=0.1, affine=True, track_running_stats=True)\n",
       "      (downsample): Sequential(\n",
       "        (0): Conv2d(64, 128, kernel_size=(1, 1), stride=(2, 2), bias=False)\n",
       "        (1): BatchNorm2d(128, eps=1e-05, momentum=0.1, affine=True, track_running_stats=True)\n",
       "      )\n",
       "    )\n",
       "    (1): BasicBlock(\n",
       "      (conv1): Conv2d(128, 128, kernel_size=(3, 3), stride=(1, 1), padding=(1, 1), bias=False)\n",
       "      (bn1): BatchNorm2d(128, eps=1e-05, momentum=0.1, affine=True, track_running_stats=True)\n",
       "      (relu): ReLU(inplace=True)\n",
       "      (conv2): Conv2d(128, 128, kernel_size=(3, 3), stride=(1, 1), padding=(1, 1), bias=False)\n",
       "      (bn2): BatchNorm2d(128, eps=1e-05, momentum=0.1, affine=True, track_running_stats=True)\n",
       "    )\n",
       "    (2): BasicBlock(\n",
       "      (conv1): Conv2d(128, 128, kernel_size=(3, 3), stride=(1, 1), padding=(1, 1), bias=False)\n",
       "      (bn1): BatchNorm2d(128, eps=1e-05, momentum=0.1, affine=True, track_running_stats=True)\n",
       "      (relu): ReLU(inplace=True)\n",
       "      (conv2): Conv2d(128, 128, kernel_size=(3, 3), stride=(1, 1), padding=(1, 1), bias=False)\n",
       "      (bn2): BatchNorm2d(128, eps=1e-05, momentum=0.1, affine=True, track_running_stats=True)\n",
       "    )\n",
       "    (3): BasicBlock(\n",
       "      (conv1): Conv2d(128, 128, kernel_size=(3, 3), stride=(1, 1), padding=(1, 1), bias=False)\n",
       "      (bn1): BatchNorm2d(128, eps=1e-05, momentum=0.1, affine=True, track_running_stats=True)\n",
       "      (relu): ReLU(inplace=True)\n",
       "      (conv2): Conv2d(128, 128, kernel_size=(3, 3), stride=(1, 1), padding=(1, 1), bias=False)\n",
       "      (bn2): BatchNorm2d(128, eps=1e-05, momentum=0.1, affine=True, track_running_stats=True)\n",
       "    )\n",
       "  )\n",
       "  (layer3): Sequential(\n",
       "    (0): BasicBlock(\n",
       "      (conv1): Conv2d(128, 256, kernel_size=(3, 3), stride=(2, 2), padding=(1, 1), bias=False)\n",
       "      (bn1): BatchNorm2d(256, eps=1e-05, momentum=0.1, affine=True, track_running_stats=True)\n",
       "      (relu): ReLU(inplace=True)\n",
       "      (conv2): Conv2d(256, 256, kernel_size=(3, 3), stride=(1, 1), padding=(1, 1), bias=False)\n",
       "      (bn2): BatchNorm2d(256, eps=1e-05, momentum=0.1, affine=True, track_running_stats=True)\n",
       "      (downsample): Sequential(\n",
       "        (0): Conv2d(128, 256, kernel_size=(1, 1), stride=(2, 2), bias=False)\n",
       "        (1): BatchNorm2d(256, eps=1e-05, momentum=0.1, affine=True, track_running_stats=True)\n",
       "      )\n",
       "    )\n",
       "    (1): BasicBlock(\n",
       "      (conv1): Conv2d(256, 256, kernel_size=(3, 3), stride=(1, 1), padding=(1, 1), bias=False)\n",
       "      (bn1): BatchNorm2d(256, eps=1e-05, momentum=0.1, affine=True, track_running_stats=True)\n",
       "      (relu): ReLU(inplace=True)\n",
       "      (conv2): Conv2d(256, 256, kernel_size=(3, 3), stride=(1, 1), padding=(1, 1), bias=False)\n",
       "      (bn2): BatchNorm2d(256, eps=1e-05, momentum=0.1, affine=True, track_running_stats=True)\n",
       "    )\n",
       "    (2): BasicBlock(\n",
       "      (conv1): Conv2d(256, 256, kernel_size=(3, 3), stride=(1, 1), padding=(1, 1), bias=False)\n",
       "      (bn1): BatchNorm2d(256, eps=1e-05, momentum=0.1, affine=True, track_running_stats=True)\n",
       "      (relu): ReLU(inplace=True)\n",
       "      (conv2): Conv2d(256, 256, kernel_size=(3, 3), stride=(1, 1), padding=(1, 1), bias=False)\n",
       "      (bn2): BatchNorm2d(256, eps=1e-05, momentum=0.1, affine=True, track_running_stats=True)\n",
       "    )\n",
       "    (3): BasicBlock(\n",
       "      (conv1): Conv2d(256, 256, kernel_size=(3, 3), stride=(1, 1), padding=(1, 1), bias=False)\n",
       "      (bn1): BatchNorm2d(256, eps=1e-05, momentum=0.1, affine=True, track_running_stats=True)\n",
       "      (relu): ReLU(inplace=True)\n",
       "      (conv2): Conv2d(256, 256, kernel_size=(3, 3), stride=(1, 1), padding=(1, 1), bias=False)\n",
       "      (bn2): BatchNorm2d(256, eps=1e-05, momentum=0.1, affine=True, track_running_stats=True)\n",
       "    )\n",
       "    (4): BasicBlock(\n",
       "      (conv1): Conv2d(256, 256, kernel_size=(3, 3), stride=(1, 1), padding=(1, 1), bias=False)\n",
       "      (bn1): BatchNorm2d(256, eps=1e-05, momentum=0.1, affine=True, track_running_stats=True)\n",
       "      (relu): ReLU(inplace=True)\n",
       "      (conv2): Conv2d(256, 256, kernel_size=(3, 3), stride=(1, 1), padding=(1, 1), bias=False)\n",
       "      (bn2): BatchNorm2d(256, eps=1e-05, momentum=0.1, affine=True, track_running_stats=True)\n",
       "    )\n",
       "    (5): BasicBlock(\n",
       "      (conv1): Conv2d(256, 256, kernel_size=(3, 3), stride=(1, 1), padding=(1, 1), bias=False)\n",
       "      (bn1): BatchNorm2d(256, eps=1e-05, momentum=0.1, affine=True, track_running_stats=True)\n",
       "      (relu): ReLU(inplace=True)\n",
       "      (conv2): Conv2d(256, 256, kernel_size=(3, 3), stride=(1, 1), padding=(1, 1), bias=False)\n",
       "      (bn2): BatchNorm2d(256, eps=1e-05, momentum=0.1, affine=True, track_running_stats=True)\n",
       "    )\n",
       "  )\n",
       "  (layer4): Sequential(\n",
       "    (0): BasicBlock(\n",
       "      (conv1): Conv2d(256, 512, kernel_size=(3, 3), stride=(2, 2), padding=(1, 1), bias=False)\n",
       "      (bn1): BatchNorm2d(512, eps=1e-05, momentum=0.1, affine=True, track_running_stats=True)\n",
       "      (relu): ReLU(inplace=True)\n",
       "      (conv2): Conv2d(512, 512, kernel_size=(3, 3), stride=(1, 1), padding=(1, 1), bias=False)\n",
       "      (bn2): BatchNorm2d(512, eps=1e-05, momentum=0.1, affine=True, track_running_stats=True)\n",
       "      (downsample): Sequential(\n",
       "        (0): Conv2d(256, 512, kernel_size=(1, 1), stride=(2, 2), bias=False)\n",
       "        (1): BatchNorm2d(512, eps=1e-05, momentum=0.1, affine=True, track_running_stats=True)\n",
       "      )\n",
       "    )\n",
       "    (1): BasicBlock(\n",
       "      (conv1): Conv2d(512, 512, kernel_size=(3, 3), stride=(1, 1), padding=(1, 1), bias=False)\n",
       "      (bn1): BatchNorm2d(512, eps=1e-05, momentum=0.1, affine=True, track_running_stats=True)\n",
       "      (relu): ReLU(inplace=True)\n",
       "      (conv2): Conv2d(512, 512, kernel_size=(3, 3), stride=(1, 1), padding=(1, 1), bias=False)\n",
       "      (bn2): BatchNorm2d(512, eps=1e-05, momentum=0.1, affine=True, track_running_stats=True)\n",
       "    )\n",
       "    (2): BasicBlock(\n",
       "      (conv1): Conv2d(512, 512, kernel_size=(3, 3), stride=(1, 1), padding=(1, 1), bias=False)\n",
       "      (bn1): BatchNorm2d(512, eps=1e-05, momentum=0.1, affine=True, track_running_stats=True)\n",
       "      (relu): ReLU(inplace=True)\n",
       "      (conv2): Conv2d(512, 512, kernel_size=(3, 3), stride=(1, 1), padding=(1, 1), bias=False)\n",
       "      (bn2): BatchNorm2d(512, eps=1e-05, momentum=0.1, affine=True, track_running_stats=True)\n",
       "    )\n",
       "  )\n",
       "  (avgpool): AdaptiveAvgPool2d(output_size=(1, 1))\n",
       "  (fc): Sequential(\n",
       "    (0): ReLU()\n",
       "    (1): Linear(in_features=512, out_features=2, bias=True)\n",
       "  )\n",
       ")"
      ]
     },
     "execution_count": 5,
     "metadata": {},
     "output_type": "execute_result"
    }
   ],
   "execution_count": 5
  },
  {
   "metadata": {
    "ExecuteTime": {
     "end_time": "2025-06-06T09:47:35.725568Z",
     "start_time": "2025-06-06T09:47:35.723511Z"
    }
   },
   "cell_type": "code",
   "source": [
    "pqfile = '/home/washindeiru/primaryDrive/iceCube/icecube-neutrinos-in-deep-ice/train_meta.parquet'\n",
    "path_batch = '/home/washindeiru/primaryDrive/iceCube/icecube-neutrinos-in-deep-ice/train_2/'\n",
    "\n",
    "batch_num=1 # There are 660 batches total, and the batch number should be iterated in range(660).\n",
    "lr = 1e-06\n",
    "num_epochs = 1\n",
    "batch_size = 8"
   ],
   "id": "72a68efe2ead2646",
   "outputs": [],
   "execution_count": 6
  },
  {
   "metadata": {
    "ExecuteTime": {
     "end_time": "2025-06-06T09:47:39.663701Z",
     "start_time": "2025-06-06T09:47:36.811286Z"
    }
   },
   "cell_type": "code",
   "source": [
    "from torch.utils.data import DataLoader\n",
    "\n",
    "ice_dataset = ICECUBE_Dataset(pqfile,path_batch,batch_num)\n",
    "train_dataset = ice_dataset\n",
    "train_dataloader = DataLoader(train_dataset, batch_size=batch_size, shuffle=True,collate_fn=collate_fn, num_workers=11)"
   ],
   "id": "bbe3e68c48d8caab",
   "outputs": [],
   "execution_count": 7
  },
  {
   "metadata": {
    "ExecuteTime": {
     "end_time": "2025-06-06T09:47:40.498764Z",
     "start_time": "2025-06-06T09:47:40.478723Z"
    }
   },
   "cell_type": "code",
   "source": [
    "device = torch.device('cuda' if torch.cuda.is_available() else 'cpu')\n",
    "\n",
    "model = model.to(device)"
   ],
   "id": "e33c11e7a981baab",
   "outputs": [],
   "execution_count": 8
  },
  {
   "metadata": {},
   "cell_type": "markdown",
   "source": "## Testy resnet34",
   "id": "b46872ef155ba1ea"
  },
  {
   "metadata": {
    "ExecuteTime": {
     "end_time": "2025-06-06T09:51:53.129812Z",
     "start_time": "2025-06-06T09:51:52.468456Z"
    }
   },
   "cell_type": "code",
   "source": "data_iter = iter(train_dataloader)",
   "id": "8ae7714bff502ebd",
   "outputs": [],
   "execution_count": 22
  },
  {
   "metadata": {
    "ExecuteTime": {
     "end_time": "2025-06-06T09:51:54.288750Z",
     "start_time": "2025-06-06T09:51:53.718809Z"
    }
   },
   "cell_type": "code",
   "source": [
    "first_batch = next(data_iter)\n",
    "print(f\"input tensor shape: {first_batch['input_tensor'].shape}\")\n",
    "print(f\"label shape: {first_batch['label'].shape}\")\n",
    "input_tensor = first_batch['input_tensor']\n",
    "label = first_batch['label']\n",
    "\n",
    "result = model(input_tensor.to(device))"
   ],
   "id": "c302fe8c5286069d",
   "outputs": [
    {
     "name": "stdout",
     "output_type": "stream",
     "text": [
      "input tensor shape: torch.Size([8, 3, 1, 1353])\n",
      "label shape: torch.Size([8, 2])\n"
     ]
    }
   ],
   "execution_count": 23
  },
  {
   "metadata": {
    "ExecuteTime": {
     "end_time": "2025-06-06T09:52:10.122742Z",
     "start_time": "2025-06-06T09:52:10.112997Z"
    }
   },
   "cell_type": "code",
   "source": [
    "print(label)\n",
    "print(result)"
   ],
   "id": "28f394ab18e2196a",
   "outputs": [
    {
     "name": "stdout",
     "output_type": "stream",
     "text": [
      "tensor([[3.6048, 1.8711],\n",
      "        [2.2220, 0.6766],\n",
      "        [1.0161, 1.8798],\n",
      "        [3.7294, 2.4844],\n",
      "        [2.0646, 1.8477],\n",
      "        [5.1723, 1.0635],\n",
      "        [4.9785, 2.0359],\n",
      "        [5.8960, 1.6530]])\n",
      "tensor([[1.8678, 0.4480],\n",
      "        [1.8951, 0.4782],\n",
      "        [1.8502, 0.4527],\n",
      "        [1.9987, 0.6189],\n",
      "        [1.8686, 0.5201],\n",
      "        [1.8639, 0.4552],\n",
      "        [2.2402, 0.6513],\n",
      "        [1.9037, 0.4603]], device='cuda:0', grad_fn=<AddmmBackward0>)\n"
     ]
    }
   ],
   "execution_count": 24
  },
  {
   "metadata": {
    "ExecuteTime": {
     "end_time": "2025-06-06T09:53:22.358739Z",
     "start_time": "2025-06-06T09:53:22.334550Z"
    }
   },
   "cell_type": "code",
   "source": [
    "first_batch = next(data_iter)\n",
    "print(f\"input tensor shape: {first_batch['input_tensor'].shape}\")\n",
    "print(f\"label shape: {first_batch['label'].shape}\")\n",
    "input_tensor = first_batch['input_tensor']\n",
    "label = first_batch['label']\n",
    "\n",
    "result = model(input_tensor.to(device))"
   ],
   "id": "a687e83fcb1abb8d",
   "outputs": [
    {
     "name": "stdout",
     "output_type": "stream",
     "text": [
      "input tensor shape: torch.Size([8, 3, 1, 413])\n",
      "label shape: torch.Size([8, 2])\n"
     ]
    }
   ],
   "execution_count": 25
  },
  {
   "metadata": {
    "ExecuteTime": {
     "end_time": "2025-06-06T09:53:25.471964Z",
     "start_time": "2025-06-06T09:53:25.468253Z"
    }
   },
   "cell_type": "code",
   "source": [
    "print(label)\n",
    "print(result)"
   ],
   "id": "63b735cc11418932",
   "outputs": [
    {
     "name": "stdout",
     "output_type": "stream",
     "text": [
      "tensor([[5.7039, 2.2642],\n",
      "        [3.4613, 1.0516],\n",
      "        [5.8169, 1.2964],\n",
      "        [2.7429, 1.7953],\n",
      "        [4.5754, 1.5763],\n",
      "        [4.4149, 0.9783],\n",
      "        [3.9197, 0.8383],\n",
      "        [5.3693, 1.6063]])\n",
      "tensor([[1.9876, 0.7728],\n",
      "        [2.0006, 0.7075],\n",
      "        [2.0056, 0.7648],\n",
      "        [2.0030, 0.7887],\n",
      "        [2.0672, 0.9412],\n",
      "        [1.9224, 0.8326],\n",
      "        [1.9729, 0.7341],\n",
      "        [1.8973, 0.7303]], device='cuda:0', grad_fn=<AddmmBackward0>)\n"
     ]
    }
   ],
   "execution_count": 26
  },
  {
   "metadata": {
    "ExecuteTime": {
     "end_time": "2025-06-06T10:27:55.273548Z",
     "start_time": "2025-06-06T10:27:55.254091Z"
    }
   },
   "cell_type": "code",
   "source": [
    "first_batch = next(data_iter)\n",
    "print(f\"input tensor shape: {first_batch['input_tensor'].shape}\")\n",
    "print(f\"label shape: {first_batch['label'].shape}\")\n",
    "input_tensor = first_batch['input_tensor']\n",
    "label = first_batch['label']\n",
    "\n",
    "result = model(input_tensor.to(device))"
   ],
   "id": "10196cbc62c703cb",
   "outputs": [
    {
     "name": "stdout",
     "output_type": "stream",
     "text": [
      "input tensor shape: torch.Size([8, 3, 1, 99])\n",
      "label shape: torch.Size([8, 2])\n"
     ]
    }
   ],
   "execution_count": 27
  },
  {
   "metadata": {
    "ExecuteTime": {
     "end_time": "2025-06-06T10:27:56.291147Z",
     "start_time": "2025-06-06T10:27:56.287855Z"
    }
   },
   "cell_type": "code",
   "source": [
    "print(label)\n",
    "print(result)"
   ],
   "id": "ac1157ca44103108",
   "outputs": [
    {
     "name": "stdout",
     "output_type": "stream",
     "text": [
      "tensor([[0.0953, 2.2676],\n",
      "        [4.9200, 0.7379],\n",
      "        [1.9765, 2.3542],\n",
      "        [5.6664, 1.2383],\n",
      "        [4.7591, 1.6117],\n",
      "        [0.9421, 0.5935],\n",
      "        [5.3007, 0.3330],\n",
      "        [2.4062, 2.0654]])\n",
      "tensor([[2.5535, 1.5434],\n",
      "        [2.3566, 1.2632],\n",
      "        [2.3686, 1.2451],\n",
      "        [2.5433, 1.2922],\n",
      "        [2.6899, 1.3942],\n",
      "        [2.9595, 1.5677],\n",
      "        [2.2108, 1.1504],\n",
      "        [2.4975, 1.3824]], device='cuda:0', grad_fn=<AddmmBackward0>)\n"
     ]
    }
   ],
   "execution_count": 28
  },
  {
   "metadata": {
    "ExecuteTime": {
     "end_time": "2025-06-06T10:28:14.762853Z",
     "start_time": "2025-06-06T10:28:14.740179Z"
    }
   },
   "cell_type": "code",
   "source": [
    "first_batch = next(data_iter)\n",
    "print(f\"input tensor shape: {first_batch['input_tensor'].shape}\")\n",
    "print(f\"label shape: {first_batch['label'].shape}\")\n",
    "input_tensor = first_batch['input_tensor']\n",
    "label = first_batch['label']\n",
    "\n",
    "result = model(input_tensor.to(device))"
   ],
   "id": "8b2d677c86a195d7",
   "outputs": [
    {
     "name": "stdout",
     "output_type": "stream",
     "text": [
      "input tensor shape: torch.Size([8, 3, 1, 125])\n",
      "label shape: torch.Size([8, 2])\n"
     ]
    }
   ],
   "execution_count": 29
  },
  {
   "metadata": {
    "ExecuteTime": {
     "end_time": "2025-06-06T10:28:16.631609Z",
     "start_time": "2025-06-06T10:28:16.628439Z"
    }
   },
   "cell_type": "code",
   "source": [
    "print(label)\n",
    "print(result)"
   ],
   "id": "7b2be20632ad619b",
   "outputs": [
    {
     "name": "stdout",
     "output_type": "stream",
     "text": [
      "tensor([[1.4001, 0.9430],\n",
      "        [2.1231, 0.7901],\n",
      "        [1.6267, 2.9878],\n",
      "        [0.8161, 1.8120],\n",
      "        [2.0868, 1.2569],\n",
      "        [2.1439, 2.0720],\n",
      "        [3.1082, 1.7864],\n",
      "        [0.7499, 1.7321]])\n",
      "tensor([[3.0108, 1.2168],\n",
      "        [2.4539, 1.1640],\n",
      "        [2.8013, 0.6397],\n",
      "        [2.4335, 1.2146],\n",
      "        [2.6550, 1.4389],\n",
      "        [2.4673, 1.2137],\n",
      "        [2.1148, 1.0480],\n",
      "        [2.4935, 1.1982]], device='cuda:0', grad_fn=<AddmmBackward0>)\n"
     ]
    }
   ],
   "execution_count": 30
  }
 ],
 "metadata": {
  "kernelspec": {
   "display_name": "Python 3",
   "language": "python",
   "name": "python3"
  },
  "language_info": {
   "codemirror_mode": {
    "name": "ipython",
    "version": 2
   },
   "file_extension": ".py",
   "mimetype": "text/x-python",
   "name": "python",
   "nbconvert_exporter": "python",
   "pygments_lexer": "ipython2",
   "version": "2.7.6"
  }
 },
 "nbformat": 4,
 "nbformat_minor": 5
}
