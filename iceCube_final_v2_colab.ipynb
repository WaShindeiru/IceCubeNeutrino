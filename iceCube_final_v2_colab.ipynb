{
  "cells": [
    {
      "cell_type": "code",
      "source": [
        "!git clone https://github.com/WaShindeiru/IceCubeNeutrino"
      ],
      "metadata": {
        "id": "K0gaMR9v2OVA",
        "outputId": "247d0e5b-28e3-4d13-c4b2-239381f39dec",
        "colab": {
          "base_uri": "https://localhost:8080/"
        }
      },
      "id": "K0gaMR9v2OVA",
      "execution_count": 2,
      "outputs": [
        {
          "output_type": "stream",
          "name": "stdout",
          "text": [
            "Cloning into 'IceCubeNeutrino'...\n",
            "remote: Enumerating objects: 83, done.\u001b[K\n",
            "remote: Counting objects: 100% (83/83), done.\u001b[K\n",
            "remote: Compressing objects: 100% (73/73), done.\u001b[K\n",
            "remote: Total 83 (delta 42), reused 27 (delta 9), pack-reused 0 (from 0)\u001b[K\n",
            "Receiving objects: 100% (83/83), 541.81 KiB | 5.58 MiB/s, done.\n",
            "Resolving deltas: 100% (42/42), done.\n"
          ]
        }
      ]
    },
    {
      "cell_type": "code",
      "source": [
        "!cp IceCubeNeutrino/* ."
      ],
      "metadata": {
        "id": "I89GKOz42X-1"
      },
      "id": "I89GKOz42X-1",
      "execution_count": 3,
      "outputs": []
    },
    {
      "cell_type": "code",
      "source": [
        "from google.colab import drive\n",
        "drive.mount('/content/drive')"
      ],
      "metadata": {
        "id": "Nlzk2Lrh6Aoh",
        "colab": {
          "base_uri": "https://localhost:8080/"
        },
        "outputId": "feadb923-ec0f-4faf-991a-8e7e4041cad9"
      },
      "id": "Nlzk2Lrh6Aoh",
      "execution_count": 4,
      "outputs": [
        {
          "output_type": "stream",
          "name": "stdout",
          "text": [
            "Mounted at /content/drive\n"
          ]
        }
      ]
    },
    {
      "cell_type": "markdown",
      "source": [
        "Learning rate mniejszy, funkcja straty inna, residuum, porównanie przewidywanej z teoretyczną, porównanie walidacyjną z treningową."
      ],
      "metadata": {
        "id": "YnboU0X0SL1V"
      },
      "id": "YnboU0X0SL1V"
    },
    {
      "cell_type": "code",
      "source": [
        "!unzip ./drive/MyDrive/icecube/ice_cube_small.zip"
      ],
      "metadata": {
        "id": "JO89XYFf2dly"
      },
      "id": "JO89XYFf2dly",
      "execution_count": null,
      "outputs": []
    },
    {
      "cell_type": "code",
      "id": "initial_id",
      "metadata": {
        "collapsed": true,
        "ExecuteTime": {
          "end_time": "2025-06-12T09:12:08.733104Z",
          "start_time": "2025-06-12T09:12:08.731220Z"
        },
        "id": "initial_id",
        "colab": {
          "base_uri": "https://localhost:8080/",
          "height": 359
        },
        "outputId": "a6abff3f-c869-43e4-ad76-73135e9d615d"
      },
      "source": [
        "import pandas as pd\n",
        "import pyarrow.parquet as pq\n",
        "from tqdm import tqdm\n",
        "import torch\n",
        "import torch.nn as nn\n",
        "from Resnet import resnet34"
      ],
      "outputs": [
        {
          "output_type": "error",
          "ename": "ModuleNotFoundError",
          "evalue": "No module named 'Resnet'",
          "traceback": [
            "\u001b[0;31m---------------------------------------------------------------------------\u001b[0m",
            "\u001b[0;31mModuleNotFoundError\u001b[0m                       Traceback (most recent call last)",
            "\u001b[0;32m<ipython-input-1-4205390566>\u001b[0m in \u001b[0;36m<cell line: 0>\u001b[0;34m()\u001b[0m\n\u001b[1;32m      4\u001b[0m \u001b[0;32mimport\u001b[0m \u001b[0mtorch\u001b[0m\u001b[0;34m\u001b[0m\u001b[0;34m\u001b[0m\u001b[0m\n\u001b[1;32m      5\u001b[0m \u001b[0;32mimport\u001b[0m \u001b[0mtorch\u001b[0m\u001b[0;34m.\u001b[0m\u001b[0mnn\u001b[0m \u001b[0;32mas\u001b[0m \u001b[0mnn\u001b[0m\u001b[0;34m\u001b[0m\u001b[0;34m\u001b[0m\u001b[0m\n\u001b[0;32m----> 6\u001b[0;31m \u001b[0;32mfrom\u001b[0m \u001b[0mResnet\u001b[0m \u001b[0;32mimport\u001b[0m \u001b[0mresnet34\u001b[0m\u001b[0;34m\u001b[0m\u001b[0;34m\u001b[0m\u001b[0m\n\u001b[0m",
            "\u001b[0;31mModuleNotFoundError\u001b[0m: No module named 'Resnet'",
            "",
            "\u001b[0;31m---------------------------------------------------------------------------\u001b[0;32m\nNOTE: If your import is failing due to a missing package, you can\nmanually install dependencies using either !pip or !apt.\n\nTo view examples of installing some common dependencies, click the\n\"Open Examples\" button below.\n\u001b[0;31m---------------------------------------------------------------------------\u001b[0m\n"
          ],
          "errorDetails": {
            "actions": [
              {
                "action": "open_url",
                "actionText": "Open Examples",
                "url": "/notebooks/snippets/importing_libraries.ipynb"
              }
            ]
          }
        }
      ],
      "execution_count": 1
    },
    {
      "metadata": {
        "ExecuteTime": {
          "end_time": "2025-06-12T09:12:09.976169Z",
          "start_time": "2025-06-12T09:12:09.154799Z"
        },
        "id": "ace94db47f43f6e6"
      },
      "cell_type": "code",
      "source": [
        "sensor = pd.read_csv('./ice_cube_small/sensor_geometry.csv')\n",
        "train_meta = pq.ParquetFile('./ice_cube_small/train_meta.parquet')\n",
        "batch_1 = pq.read_table('./ice_cube_small/train_2/batch_1.parquet').to_pandas()\n",
        "it = train_meta.iter_batches()\n",
        "train_meta = next(it).to_pandas()"
      ],
      "id": "ace94db47f43f6e6",
      "outputs": [],
      "execution_count": null
    },
    {
      "metadata": {
        "ExecuteTime": {
          "end_time": "2025-06-12T09:12:10.197860Z",
          "start_time": "2025-06-12T09:12:10.193712Z"
        },
        "id": "344f95d883a96a97"
      },
      "cell_type": "code",
      "source": [
        "train_meta.head(20)"
      ],
      "id": "344f95d883a96a97",
      "outputs": [],
      "execution_count": null
    },
    {
      "metadata": {
        "ExecuteTime": {
          "end_time": "2025-06-12T09:12:10.467421Z",
          "start_time": "2025-06-12T09:12:10.462099Z"
        },
        "id": "55a8682ce41c6950"
      },
      "cell_type": "code",
      "source": [
        "sensor.head(20)"
      ],
      "id": "55a8682ce41c6950",
      "outputs": [],
      "execution_count": null
    },
    {
      "cell_type": "code",
      "source": [
        "batch_1"
      ],
      "metadata": {
        "id": "3sLcbHPMCKoc"
      },
      "id": "3sLcbHPMCKoc",
      "execution_count": null,
      "outputs": []
    },
    {
      "metadata": {
        "ExecuteTime": {
          "end_time": "2025-06-12T09:12:12.799208Z",
          "start_time": "2025-06-12T09:12:12.682038Z"
        },
        "id": "39d613485a2a5147"
      },
      "cell_type": "code",
      "source": [
        "import torch.nn as nn\n",
        "model = resnet34(pretrained = False)\n",
        "model.fc = nn.Sequential(nn.ReLU(),nn.Linear(in_features=512, out_features=2))"
      ],
      "id": "39d613485a2a5147",
      "outputs": [],
      "execution_count": null
    },
    {
      "metadata": {
        "ExecuteTime": {
          "end_time": "2025-06-12T09:12:13.757185Z",
          "start_time": "2025-06-12T09:12:13.754506Z"
        },
        "id": "85cb37016915d656"
      },
      "cell_type": "code",
      "source": [
        "from sklearn.metrics import mean_squared_error\n",
        "import numpy as np"
      ],
      "id": "85cb37016915d656",
      "outputs": [],
      "execution_count": null
    },
    {
      "metadata": {
        "ExecuteTime": {
          "end_time": "2025-06-12T09:12:14.105663Z",
          "start_time": "2025-06-12T09:12:14.008749Z"
        },
        "id": "2cf90ec0aadfc1d6"
      },
      "cell_type": "code",
      "source": [
        "from torch import optim\n",
        "device = torch.device('cuda' if torch.cuda.is_available() else 'cpu')\n",
        "# device = 'cpu'\n",
        "\n",
        "\n",
        "pqfile = './ice_cube_small/train_meta.parquet'\n",
        "path_batch = './ice_cube_small/train_2/'\n",
        "geometry = \"./ice_cube_small/sensor_geometry.csv\"\n",
        "\n",
        "batch_num=2\n",
        "# lepszy learning rate\n",
        "# mniejszy rozmiar\n",
        "\n",
        "lr = 1e-06\n",
        "num_epochs = 1\n",
        "batch_size = 4\n",
        "\n",
        "model = model.to(device)\n",
        "optimizer = optim.Adam(model.parameters(), lr=lr)\n",
        "loss_function = nn.MSELoss().to(device)"
      ],
      "id": "2cf90ec0aadfc1d6",
      "outputs": [],
      "execution_count": null
    },
    {
      "metadata": {
        "ExecuteTime": {
          "end_time": "2025-06-12T09:12:16.462804Z",
          "start_time": "2025-06-12T09:12:14.319647Z"
        },
        "id": "67b8aa1a551755e2"
      },
      "cell_type": "code",
      "source": [
        "from torch.utils.data import DataLoader\n",
        "from Icecube_Dataloader import IceCube_Dataloader, collate_fn\n",
        "\n",
        "ice_dataset = IceCube_Dataloader(pqfile, path_batch, geometry, batch_num)\n",
        "train_dataset = ice_dataset\n",
        "\n",
        "train_dataloader = DataLoader(train_dataset, batch_size=batch_size, shuffle=True, collate_fn=collate_fn, num_workers=11)"
      ],
      "id": "67b8aa1a551755e2",
      "outputs": [],
      "execution_count": null
    },
    {
      "metadata": {
        "ExecuteTime": {
          "end_time": "2025-06-12T09:12:16.674773Z",
          "start_time": "2025-06-12T09:12:16.673161Z"
        },
        "id": "f5ac5d6ab9938ca5"
      },
      "cell_type": "code",
      "source": [
        "print(device)"
      ],
      "id": "f5ac5d6ab9938ca5",
      "outputs": [],
      "execution_count": null
    },
    {
      "metadata": {
        "ExecuteTime": {
          "end_time": "2025-06-12T09:12:17.718988Z",
          "start_time": "2025-06-12T09:12:17.717466Z"
        },
        "id": "568973ab711d22f1"
      },
      "cell_type": "code",
      "source": [
        "params = {\n",
        "    'num_epochs':num_epochs,\n",
        "    'optimizer':optimizer,\n",
        "    'loss_function':loss_function,\n",
        "    'train_dataloader':train_dataloader,\n",
        "    'device':device,\n",
        "    'num_epoch' : num_epochs\n",
        "}\n"
      ],
      "id": "568973ab711d22f1",
      "outputs": [],
      "execution_count": null
    },
    {
      "metadata": {
        "ExecuteTime": {
          "end_time": "2025-06-12T09:58:42.294559Z",
          "start_time": "2025-06-12T09:12:18.699169Z"
        },
        "id": "2a56012cd60a2b3e"
      },
      "cell_type": "code",
      "source": [
        "import gc\n",
        "train_losses = []\n",
        "outputs_ = []\n",
        "accum_iter = 1\n",
        "\n",
        "def train(model, params):\n",
        "    model.train()\n",
        "    loss_function=params[\"loss_function\"]\n",
        "    train_dataloader=params[\"train_dataloader\"]\n",
        "\n",
        "    aa = 0\n",
        "\n",
        "    device=params[\"device\"]\n",
        "    for epoch in range(0, num_epochs):\n",
        "        for dat in tqdm(train_dataloader):\n",
        "            inputs, labels = dat['input_tensor'].to(device),dat['label'].to(device)\n",
        "\n",
        "            assert not torch.isnan(inputs).any(), \"Inputs contain NaNs\"\n",
        "            assert not torch.isnan(labels).any(), \"Labels contain NaNs\"\n",
        "\n",
        "            outputs = model(inputs).to(device)\n",
        "            outputs_.append(outputs.cpu().detach().numpy())\n",
        "\n",
        "            train_loss = loss_function(outputs.float(),labels.float())\n",
        "            train_losses.append(train_loss.item())\n",
        "\n",
        "\n",
        "            if aa%100==0:\n",
        "                print(f\"Train loss: {train_loss.item()}\")\n",
        "\n",
        "            train_loss.backward()\n",
        "\n",
        "            torch.nn.utils.clip_grad_norm_(model.parameters(), max_norm=1.0)\n",
        "            optimizer.step()\n",
        "            optimizer.zero_grad()\n",
        "            torch.cuda.empty_cache()\n",
        "\n",
        "            aa = aa+1\n",
        "\n",
        "    model.eval()\n",
        "    gc.collect()\n",
        "\n",
        "    torch.cuda.empty_cache()\n",
        "    return 0\n",
        "\n",
        "\n",
        "train(model, params)"
      ],
      "id": "2a56012cd60a2b3e",
      "outputs": [],
      "execution_count": null
    },
    {
      "metadata": {
        "ExecuteTime": {
          "end_time": "2025-06-12T09:59:17.817363Z",
          "start_time": "2025-06-12T09:59:17.637496Z"
        },
        "id": "997a8accb2935630"
      },
      "cell_type": "code",
      "source": [
        "import matplotlib.pyplot as plt\n",
        "\n",
        "\n",
        "plt.figure()\n",
        "plt.plot(train_losses)"
      ],
      "id": "997a8accb2935630",
      "outputs": [],
      "execution_count": null
    },
    {
      "metadata": {
        "ExecuteTime": {
          "end_time": "2025-06-12T09:59:35.486429Z",
          "start_time": "2025-06-12T09:59:35.484392Z"
        },
        "id": "fe47a0a8c7232ca5"
      },
      "cell_type": "code",
      "source": [
        "from datetime import datetime\n",
        "\n",
        "now = datetime.now()\n",
        "\n",
        "timestamp = now.strftime(\"%Y-%m-%d_%H:%M:%S\")"
      ],
      "id": "fe47a0a8c7232ca5",
      "outputs": [],
      "execution_count": null
    },
    {
      "metadata": {
        "ExecuteTime": {
          "end_time": "2025-06-12T09:59:36.941185Z",
          "start_time": "2025-06-12T09:59:36.870192Z"
        },
        "id": "2004639204b50adc"
      },
      "cell_type": "code",
      "source": [
        "name = \"./weights/model_34_\"+timestamp+\".pth\"\n",
        "torch.save(model.state_dict(), name)"
      ],
      "id": "2004639204b50adc",
      "outputs": [],
      "execution_count": null
    },
    {
      "metadata": {
        "ExecuteTime": {
          "end_time": "2025-06-12T09:59:41.702247Z",
          "start_time": "2025-06-12T09:59:41.698614Z"
        },
        "id": "3d3b76a34149863f"
      },
      "cell_type": "code",
      "source": [
        "import pickle\n",
        "\n",
        "name = \"./results/losses_\"+timestamp+\".pickle\"\n",
        "with open(name, 'wb') as f:\n",
        "    pickle.dump(train_losses, f)"
      ],
      "id": "3d3b76a34149863f",
      "outputs": [],
      "execution_count": null
    }
  ],
  "metadata": {
    "kernelspec": {
      "display_name": "Python 3",
      "name": "python3"
    },
    "language_info": {
      "codemirror_mode": {
        "name": "ipython",
        "version": 2
      },
      "file_extension": ".py",
      "mimetype": "text/x-python",
      "name": "python",
      "nbconvert_exporter": "python",
      "pygments_lexer": "ipython2",
      "version": "2.7.6"
    },
    "colab": {
      "provenance": []
    }
  },
  "nbformat": 4,
  "nbformat_minor": 5
}